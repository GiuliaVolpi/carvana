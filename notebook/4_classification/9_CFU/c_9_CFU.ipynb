{
 "cells": [
  {
   "cell_type": "code",
   "execution_count": 1,
   "metadata": {},
   "outputs": [
    {
     "ename": "ImportError",
     "evalue": "cannot import name 'plot_confusion_matrix' from 'sklearn.metrics' (/Users/Alessandro/anaconda3/lib/python3.7/site-packages/sklearn/metrics/__init__.py)",
     "output_type": "error",
     "traceback": [
      "\u001b[0;31m---------------------------------------------------------------------------\u001b[0m",
      "\u001b[0;31mImportError\u001b[0m                               Traceback (most recent call last)",
      "\u001b[0;32m<ipython-input-1-d32d44f76b1c>\u001b[0m in \u001b[0;36m<module>\u001b[0;34m\u001b[0m\n\u001b[1;32m     13\u001b[0m \u001b[0;32mfrom\u001b[0m \u001b[0msklearn\u001b[0m\u001b[0;34m.\u001b[0m\u001b[0mmetrics\u001b[0m \u001b[0;32mimport\u001b[0m \u001b[0maccuracy_score\u001b[0m\u001b[0;34m,\u001b[0m \u001b[0mf1_score\u001b[0m\u001b[0;34m,\u001b[0m \u001b[0mclassification_report\u001b[0m\u001b[0;34m\u001b[0m\u001b[0;34m\u001b[0m\u001b[0m\n\u001b[1;32m     14\u001b[0m \u001b[0;32mfrom\u001b[0m \u001b[0msklearn\u001b[0m\u001b[0;34m.\u001b[0m\u001b[0mmetrics\u001b[0m \u001b[0;32mimport\u001b[0m \u001b[0mroc_curve\u001b[0m\u001b[0;34m,\u001b[0m \u001b[0mauc\u001b[0m\u001b[0;34m,\u001b[0m \u001b[0mroc_auc_score\u001b[0m\u001b[0;34m\u001b[0m\u001b[0;34m\u001b[0m\u001b[0m\n\u001b[0;32m---> 15\u001b[0;31m \u001b[0;32mfrom\u001b[0m \u001b[0msklearn\u001b[0m\u001b[0;34m.\u001b[0m\u001b[0mmetrics\u001b[0m \u001b[0;32mimport\u001b[0m \u001b[0mplot_confusion_matrix\u001b[0m\u001b[0;34m\u001b[0m\u001b[0;34m\u001b[0m\u001b[0m\n\u001b[0m\u001b[1;32m     16\u001b[0m \u001b[0;34m\u001b[0m\u001b[0m\n\u001b[1;32m     17\u001b[0m \u001b[0;32mfrom\u001b[0m \u001b[0mcollections\u001b[0m \u001b[0;32mimport\u001b[0m \u001b[0mCounter\u001b[0m\u001b[0;34m\u001b[0m\u001b[0;34m\u001b[0m\u001b[0m\n",
      "\u001b[0;31mImportError\u001b[0m: cannot import name 'plot_confusion_matrix' from 'sklearn.metrics' (/Users/Alessandro/anaconda3/lib/python3.7/site-packages/sklearn/metrics/__init__.py)"
     ]
    }
   ],
   "source": [
    "%matplotlib inline\n",
    "import sys\n",
    "sys.path.insert(1, '../../../script/')\n",
    "import math\n",
    "import collections\n",
    "import numpy as np\n",
    "import pandas as pd\n",
    "import scipy.stats as stats\n",
    "import matplotlib.pyplot as plt\n",
    "import seaborn as sns\n",
    "\n",
    "from sklearn.metrics import confusion_matrix\n",
    "from sklearn.metrics import accuracy_score, f1_score, classification_report\n",
    "from sklearn.metrics import roc_curve, auc, roc_auc_score\n",
    "from sklearn.metrics import plot_confusion_matrix\n",
    "\n",
    "from collections import Counter\n",
    "from sklearn.model_selection import train_test_split\n",
    "from imblearn.pipeline import Pipeline, make_pipeline\n",
    "from sklearn.model_selection import RandomizedSearchCV\n",
    "from sklearn.model_selection import StratifiedKFold\n",
    "\n",
    "from sklearn.ensemble import RandomForestClassifier\n",
    "from sklearn.naive_bayes import GaussianNB\n",
    "from sklearn.neighbors import KNeighborsClassifier\n",
    "from sklearn.tree import DecisionTreeClassifier\n",
    "\n",
    "from imblearn.over_sampling import SMOTE\n",
    "from imblearn.over_sampling import RandomOverSampler\n",
    "from imblearn.under_sampling import RandomUnderSampler\n",
    "\n",
    "import cleaning_class as cl\n",
    "import cleaning_test as cl_test\n",
    "%load_ext autoreload\n",
    "%autoreload 2"
   ]
  },
  {
   "cell_type": "code",
   "execution_count": 2,
   "metadata": {},
   "outputs": [],
   "source": [
    "def report(results, n_top=3):\n",
    "    configurations = {}\n",
    "    c_i = 0\n",
    "    for i in range(1, n_top + 1):\n",
    "        candidates = np.flatnonzero(results['rank_test_score'] == i)\n",
    "        for candidate in candidates:\n",
    "            print(\"Model with rank: {0}\".format(i))\n",
    "            print(\"Mean training score: {0:.3f} (std: {1:.3f})\".format(\n",
    "                  results['mean_train_score'][candidate],\n",
    "                  results['std_train_score'][candidate]))\n",
    "            print(\"Mean validation score: {0:.3f} (std: {1:.3f})\".format(\n",
    "                  results['mean_test_score'][candidate],\n",
    "                  results['std_test_score'][candidate]))\n",
    "            print(\"Parameters: {0}\".format(results['params'][candidate]))\n",
    "            print(\"\")\n",
    "            configurations[c_i] = results['params'][candidate]\n",
    "            c_i += 1 \n",
    "    return configurations\n",
    "\n",
    "def report_multiple(results, n_top=3, scoring = 'roc_auc'):\n",
    "    configurations = {}\n",
    "    c_i = 0\n",
    "    for i in range(1, n_top + 1):\n",
    "        candidates = np.flatnonzero(results['rank_test_' + scoring] == i)\n",
    "        for candidate in candidates:\n",
    "            print(\"Model with rank: {0}\".format(i))\n",
    "            print(\"Mean training score:\", end = '')\n",
    "            print(\"   roc_auc: {0:.3f} (std: {1:.3f})\".format(\n",
    "                  results['mean_train_roc_auc'][candidate],\n",
    "                  results['std_train_roc_auc'][candidate]), end = '')\n",
    "            print(\", Accuracy: {0:.3f} (std: {1:.3f})\".format(\n",
    "                  results['mean_train_accuracy'][candidate],\n",
    "                  results['std_train_accuracy'][candidate]), end = '')\n",
    "            print(\", f1: {0:.3f} (std: {1:.3f})\".format(\n",
    "                  results['mean_train_f1'][candidate],\n",
    "                  results['std_train_f1'][candidate]))\n",
    "\n",
    "\n",
    "            print(\"Mean validation score:\", end = '')\n",
    "            print(\" roc_auc: {0:.3f} (std: {1:.3f})\".format(\n",
    "                  results['mean_test_roc_auc'][candidate],\n",
    "                  results['std_test_roc_auc'][candidate]), end = '')\n",
    "            print(\", Accuracy: {0:.3f} (std: {1:.3f})\".format(\n",
    "                  results['mean_test_accuracy'][candidate],\n",
    "                  results['std_test_accuracy'][candidate]), end = '')\n",
    "            print(\", f1: {0:.3f} (std: {1:.3f})\".format(\n",
    "                  results['mean_test_f1'][candidate],\n",
    "                  results['std_test_f1'][candidate]))\n",
    "\n",
    "            print(\"Parameters: {0}\".format(results['params'][candidate]))\n",
    "            print(\"\")\n",
    "            configurations[c_i] = results['params'][candidate]\n",
    "            c_i += 1 \n",
    "    return configurations"
   ]
  },
  {
   "cell_type": "code",
   "execution_count": 3,
   "metadata": {},
   "outputs": [
    {
     "data": {
      "text/plain": [
       "Index(['IsBadBuy', 'Auction', 'VehicleAge', 'WheelTypeID', 'VehOdo', 'Size',\n",
       "       'MMRAcquisitionAuctionAveragePrice', 'MMRAcquisitionRetailAveragePrice',\n",
       "       'MMRCurrentAuctionAveragePrice', 'MMRCurrentRetailAveragePrice', 'VNST',\n",
       "       'VehBCost', 'WarrantyCost'],\n",
       "      dtype='object')"
      ]
     },
     "execution_count": 3,
     "metadata": {},
     "output_type": "execute_result"
    }
   ],
   "source": [
    "df = pd.read_csv('../../data/training.csv') \n",
    "cl.cleaning(df)\n",
    "df.columns"
   ]
  },
  {
   "cell_type": "code",
   "execution_count": 4,
   "metadata": {},
   "outputs": [
    {
     "data": {
      "text/plain": [
       "Index(['IsBadBuy', 'VehicleAge', 'VehOdo', 'MMRAcquisitionAuctionAveragePrice',\n",
       "       'MMRAcquisitionRetailAveragePrice', 'MMRCurrentAuctionAveragePrice',\n",
       "       'MMRCurrentRetailAveragePrice', 'VehBCost', 'WarrantyCost',\n",
       "       'Auction_ADESA', 'Auction_MANHEIM', 'Auction_OTHER', 'Size_COMPACT',\n",
       "       'Size_CROSSOVER', 'Size_LARGE', 'Size_LARGE SUV', 'Size_LARGE TRUCK',\n",
       "       'Size_MEDIUM', 'Size_MEDIUM SUV', 'Size_SMALL SUV', 'Size_SMALL TRUCK',\n",
       "       'Size_SPECIALTY', 'Size_SPORTS', 'Size_VAN', 'VNST_AL', 'VNST_AR',\n",
       "       'VNST_AZ', 'VNST_CA', 'VNST_CO', 'VNST_FL', 'VNST_GA', 'VNST_IA',\n",
       "       'VNST_ID', 'VNST_IL', 'VNST_IN', 'VNST_KY', 'VNST_LA', 'VNST_MA',\n",
       "       'VNST_MD', 'VNST_MI', 'VNST_MN', 'VNST_MO', 'VNST_MS', 'VNST_NC',\n",
       "       'VNST_NE', 'VNST_NH', 'VNST_NJ', 'VNST_NM', 'VNST_NV', 'VNST_NY',\n",
       "       'VNST_OH', 'VNST_OK', 'VNST_OR', 'VNST_PA', 'VNST_SC', 'VNST_TN',\n",
       "       'VNST_TX', 'VNST_UT', 'VNST_VA', 'VNST_WA', 'VNST_WV',\n",
       "       'WheelTypeID_1.0', 'WheelTypeID_2.0', 'WheelTypeID_3.0'],\n",
       "      dtype='object')"
      ]
     },
     "execution_count": 4,
     "metadata": {},
     "output_type": "execute_result"
    }
   ],
   "source": [
    "df = pd.get_dummies(df)\n",
    "df = pd.get_dummies(df, columns=['WheelTypeID'])\n",
    "df.columns"
   ]
  },
  {
   "cell_type": "markdown",
   "metadata": {},
   "source": [
    "# Split in train and validation"
   ]
  },
  {
   "cell_type": "markdown",
   "metadata": {},
   "source": [
    "validation condiviso con le varie tecniche per il confronto, fatto con lo stratified per tenere tutto bilanciato con le classi."
   ]
  },
  {
   "cell_type": "code",
   "execution_count": 5,
   "metadata": {},
   "outputs": [],
   "source": [
    "attributes = [col for col in df.columns if col != 'IsBadBuy']\n",
    "X = df[attributes].values\n",
    "y = df['IsBadBuy']\n",
    "\n",
    "X_train, X_val, y_train, y_val = train_test_split(X, y, test_size=0.3, stratify=y)"
   ]
  },
  {
   "cell_type": "markdown",
   "metadata": {},
   "source": [
    "# Sampling Method"
   ]
  },
  {
   "cell_type": "markdown",
   "metadata": {},
   "source": [
    "Abbiamo scelto di utilizzare l'undersampling visto che con il Decision Tree era quello con il quale si ottenevano risultati migliori."
   ]
  },
  {
   "cell_type": "code",
   "execution_count": 6,
   "metadata": {},
   "outputs": [],
   "source": [
    "rus = RandomUnderSampler(random_state=42)"
   ]
  },
  {
   "cell_type": "code",
   "execution_count": 7,
   "metadata": {},
   "outputs": [
    {
     "name": "stdout",
     "output_type": "stream",
     "text": [
      "Resampled dataset shape Counter({0: 33785, 1: 4670})\n"
     ]
    }
   ],
   "source": [
    "print('Resampled dataset shape %s' % Counter(y_train))"
   ]
  },
  {
   "cell_type": "code",
   "execution_count": 8,
   "metadata": {},
   "outputs": [],
   "source": [
    "X_train_res, y_train_res = rus.fit_resample(X_train, y_train)"
   ]
  },
  {
   "cell_type": "code",
   "execution_count": 9,
   "metadata": {},
   "outputs": [
    {
     "name": "stdout",
     "output_type": "stream",
     "text": [
      "Resampled dataset shape Counter({0: 4670, 1: 4670})\n"
     ]
    }
   ],
   "source": [
    "print('Resampled dataset shape %s' % Counter(y_train_res))"
   ]
  },
  {
   "cell_type": "markdown",
   "metadata": {},
   "source": [
    "# Naive Bayes"
   ]
  },
  {
   "cell_type": "code",
   "execution_count": 50,
   "metadata": {},
   "outputs": [],
   "source": [
    "gnb = GaussianNB()"
   ]
  },
  {
   "cell_type": "code",
   "execution_count": 168,
   "metadata": {},
   "outputs": [
    {
     "name": "stdout",
     "output_type": "stream",
     "text": [
      "15.2 ms ± 1.38 ms per loop (mean ± std. dev. of 7 runs, 1 loop each)\n"
     ]
    }
   ],
   "source": [
    "%%timeit -n 1\n",
    "gnb.fit(X_train_res, y_train_res)"
   ]
  },
  {
   "cell_type": "code",
   "execution_count": 51,
   "metadata": {},
   "outputs": [
    {
     "data": {
      "text/plain": [
       "GaussianNB(priors=None, var_smoothing=1e-09)"
      ]
     },
     "execution_count": 51,
     "metadata": {},
     "output_type": "execute_result"
    }
   ],
   "source": [
    "gnb.fit(X_train_res, y_train_res)"
   ]
  },
  {
   "cell_type": "code",
   "execution_count": 170,
   "metadata": {},
   "outputs": [
    {
     "name": "stdout",
     "output_type": "stream",
     "text": [
      "30.9 ms ± 2.82 ms per loop (mean ± std. dev. of 7 runs, 1 loop each)\n"
     ]
    }
   ],
   "source": [
    "%%timeit -n 1\n",
    "gnb.predict(X_val)"
   ]
  },
  {
   "cell_type": "code",
   "execution_count": 52,
   "metadata": {},
   "outputs": [],
   "source": [
    "y_pred = gnb.predict(X_val)"
   ]
  },
  {
   "cell_type": "code",
   "execution_count": 53,
   "metadata": {},
   "outputs": [],
   "source": [
    "y_train_pred = gnb.predict(X_train_res)"
   ]
  },
  {
   "cell_type": "code",
   "execution_count": 22,
   "metadata": {},
   "outputs": [],
   "source": [
    "#y_pred = gnb.fit(X_train_res, y_train_res).predict(X_val)"
   ]
  },
  {
   "cell_type": "code",
   "execution_count": 64,
   "metadata": {},
   "outputs": [
    {
     "name": "stdout",
     "output_type": "stream",
     "text": [
      "Number of mislabeled points out of a total 16482 points : 5877\n"
     ]
    }
   ],
   "source": [
    "print(\"Number of mislabeled points out of a total %d points : %d\" % (X_val.shape[0], (y_val != y_pred).sum()))"
   ]
  },
  {
   "cell_type": "markdown",
   "metadata": {},
   "source": [
    "35,7% di misclassified sul validation"
   ]
  },
  {
   "cell_type": "markdown",
   "metadata": {},
   "source": [
    "## Analyze the results"
   ]
  },
  {
   "cell_type": "code",
   "execution_count": null,
   "metadata": {},
   "outputs": [],
   "source": [
    "roc_auc_models_u = []\n",
    "for i in range(0,len(cnfs)):\n",
    "    fpr, tpr, _ = roc_curve(y_train_res, y_pred_trains_u[i])\n",
    "    roc_auc = auc(fpr, tpr)\n",
    "    roc_auc = roc_auc_score(y_train_res, y_pred_trains_u[i], average=None)\n",
    "    print(\"model {} - roc_auc: {}\".format(i, roc_auc))\n",
    "    roc_auc_models_u.append(roc_auc)"
   ]
  },
  {
   "cell_type": "code",
   "execution_count": 61,
   "metadata": {},
   "outputs": [
    {
     "name": "stdout",
     "output_type": "stream",
     "text": [
      "model 0 - roc_auc: 0.6165952890792292\n",
      "Train Accuracy 0.6165952890792291\n",
      "Train F1-score [0.6308628  0.60118053]\n"
     ]
    }
   ],
   "source": [
    "fpr, tpr, _ = roc_curve(y_train_res, y_train_pred)\n",
    "roc_auc = auc(fpr, tpr)\n",
    "roc_auc = roc_auc_score(y_train_res, y_train_pred, average=None)\n",
    "print(\"model {} - roc_auc: {}\".format(0, roc_auc))\n",
    "print('Train Accuracy %s' % accuracy_score(y_train_res, y_train_pred))\n",
    "print('Train F1-score %s' % f1_score(y_train_res, y_train_pred, average=None))"
   ]
  },
  {
   "cell_type": "code",
   "execution_count": 62,
   "metadata": {},
   "outputs": [
    {
     "name": "stdout",
     "output_type": "stream",
     "text": [
      "model 0 - roc_auc: 0.6093931965824232\n",
      "Val Accuracy 0.6434291954859848\n",
      "Val F1-score [0.76328191 0.27774364]\n"
     ]
    }
   ],
   "source": [
    "fpr, tpr, _ = roc_curve(y_val, y_pred)\n",
    "roc_auc = auc(fpr, tpr)\n",
    "roc_auc = roc_auc_score(y_val, y_pred, average=None)\n",
    "print(\"model {} - roc_auc: {}\".format(0, roc_auc))\n",
    "print('Val Accuracy %s' % accuracy_score(y_val, y_pred))\n",
    "print('Val F1-score %s' % f1_score(y_val,y_pred, average=None))"
   ]
  },
  {
   "cell_type": "code",
   "execution_count": 63,
   "metadata": {},
   "outputs": [
    {
     "data": {
      "image/png": "[encoded data removed]",
      "text/plain": [
       "<Figure size 576x360 with 1 Axes>"
      ]
     },
     "metadata": {
      "needs_background": "light"
     },
     "output_type": "display_data"
    }
   ],
   "source": [
    "%matplotlib inline\n",
    "plt.figure(figsize=(8, 5))\n",
    "plt.plot(fpr, tpr, label='ROC curve (area = %0.2f)' % (roc_auc))\n",
    "    \n",
    "plt.plot([0, 1], [0, 1], 'k--')\n",
    "plt.xlim([0.0, 1.0])\n",
    "plt.ylim([0.0, 1.05])\n",
    "plt.xlabel('False Positive Rate')\n",
    "plt.ylabel('True Positive Rate') \n",
    "plt.tick_params(axis='both', which='major')\n",
    "plt.legend(loc=\"lower right\", fontsize=14, frameon=False)\n",
    "plt.show()"
   ]
  },
  {
   "cell_type": "markdown",
   "metadata": {},
   "source": [
    "## Naive Bayes with SMOTE"
   ]
  },
  {
   "cell_type": "code",
   "execution_count": 59,
   "metadata": {},
   "outputs": [],
   "source": [
    "sm = SMOTE(random_state=42)"
   ]
  },
  {
   "cell_type": "code",
   "execution_count": 60,
   "metadata": {},
   "outputs": [
    {
     "name": "stdout",
     "output_type": "stream",
     "text": [
      "Resampled dataset shape Counter({0: 33785, 1: 4670})\n"
     ]
    }
   ],
   "source": [
    "print('Resampled dataset shape %s' % Counter(y_train))"
   ]
  },
  {
   "cell_type": "code",
   "execution_count": 92,
   "metadata": {},
   "outputs": [],
   "source": [
    "X_train_res_smote, y_train_res_smote = sm.fit_resample(X_train, y_train)"
   ]
  },
  {
   "cell_type": "code",
   "execution_count": 93,
   "metadata": {},
   "outputs": [
    {
     "name": "stdout",
     "output_type": "stream",
     "text": [
      "Resampled dataset shape Counter({0: 33785, 1: 33785})\n"
     ]
    }
   ],
   "source": [
    "print('Resampled dataset shape %s' % Counter(y_train_res_smote))"
   ]
  },
  {
   "cell_type": "code",
   "execution_count": 65,
   "metadata": {},
   "outputs": [],
   "source": [
    "gnb2 = GaussianNB()"
   ]
  },
  {
   "cell_type": "code",
   "execution_count": 94,
   "metadata": {},
   "outputs": [
    {
     "data": {
      "text/plain": [
       "GaussianNB(priors=None, var_smoothing=1e-09)"
      ]
     },
     "execution_count": 94,
     "metadata": {},
     "output_type": "execute_result"
    }
   ],
   "source": [
    "gnb2.fit(X_train_res_smote, y_train_res_smote)"
   ]
  },
  {
   "cell_type": "code",
   "execution_count": 103,
   "metadata": {},
   "outputs": [
    {
     "name": "stdout",
     "output_type": "stream",
     "text": [
      "28.1 ms ± 2.12 ms per loop (mean ± std. dev. of 7 runs, 1 loop each)\n"
     ]
    }
   ],
   "source": [
    "%%timeit -n 1\n",
    "gnb2.predict(X_val)"
   ]
  },
  {
   "cell_type": "code",
   "execution_count": 96,
   "metadata": {},
   "outputs": [],
   "source": [
    "#y_pred_over della cella precedente non viene salvato\n",
    "y_pred_smote = gnb2.predict(X_val)"
   ]
  },
  {
   "cell_type": "code",
   "execution_count": 97,
   "metadata": {},
   "outputs": [
    {
     "name": "stdout",
     "output_type": "stream",
     "text": [
      "Number of mislabeled points out of a total 16482 points : 7631\n"
     ]
    }
   ],
   "source": [
    "print(\"Number of mislabeled points out of a total %d points : %d\" % (X_val.shape[0], (y_val != y_pred_smote).sum()))"
   ]
  },
  {
   "cell_type": "markdown",
   "metadata": {},
   "source": [
    "46,3% di misclassified"
   ]
  },
  {
   "cell_type": "markdown",
   "metadata": {},
   "source": [
    "## Naive Bayes with oversampling"
   ]
  },
  {
   "cell_type": "code",
   "execution_count": 90,
   "metadata": {},
   "outputs": [],
   "source": [
    "ros = RandomOverSampler(random_state=42)"
   ]
  },
  {
   "cell_type": "code",
   "execution_count": 91,
   "metadata": {},
   "outputs": [
    {
     "name": "stdout",
     "output_type": "stream",
     "text": [
      "Resampled dataset shape Counter({0: 33785, 1: 4670})\n"
     ]
    }
   ],
   "source": [
    "print('Resampled dataset shape %s' % Counter(y_train))"
   ]
  },
  {
   "cell_type": "code",
   "execution_count": 98,
   "metadata": {},
   "outputs": [],
   "source": [
    "X_train_res_over, y_train_res_over = ros.fit_resample(X_train, y_train)"
   ]
  },
  {
   "cell_type": "code",
   "execution_count": 99,
   "metadata": {},
   "outputs": [
    {
     "name": "stdout",
     "output_type": "stream",
     "text": [
      "Resampled dataset shape Counter({0: 33785, 1: 33785})\n"
     ]
    }
   ],
   "source": [
    "print('Resampled dataset shape %s' % Counter(y_train_res_over))"
   ]
  },
  {
   "cell_type": "code",
   "execution_count": 102,
   "metadata": {},
   "outputs": [
    {
     "name": "stdout",
     "output_type": "stream",
     "text": [
      "25.5 ms ± 1.47 ms per loop (mean ± std. dev. of 7 runs, 1 loop each)\n"
     ]
    }
   ],
   "source": [
    "%%timeit -n 1\n",
    "gnb2.predict(X_val)"
   ]
  },
  {
   "cell_type": "code",
   "execution_count": 106,
   "metadata": {},
   "outputs": [],
   "source": [
    "y_pred_over = gnb2.predict(X_val)"
   ]
  },
  {
   "cell_type": "code",
   "execution_count": 107,
   "metadata": {},
   "outputs": [
    {
     "name": "stdout",
     "output_type": "stream",
     "text": [
      "Number of mislabeled points out of a total 16482 points : 7631\n"
     ]
    }
   ],
   "source": [
    "print(\"Number of mislabeled points out of a total %d points : %d\" % (X_val.shape[0], (y_val != y_pred_over).sum()))"
   ]
  },
  {
   "cell_type": "markdown",
   "metadata": {},
   "source": [
    "46,3% di misclassified"
   ]
  },
  {
   "cell_type": "markdown",
   "metadata": {},
   "source": [
    "# Random Forest"
   ]
  },
  {
   "cell_type": "markdown",
   "metadata": {},
   "source": [
    "Ho visto che Random Forest non è richiesta."
   ]
  },
  {
   "cell_type": "markdown",
   "metadata": {},
   "source": [
    "## Gridsearch"
   ]
  },
  {
   "cell_type": "code",
   "execution_count": 119,
   "metadata": {},
   "outputs": [
    {
     "name": "stdout",
     "output_type": "stream",
     "text": [
      "Fitting 3 folds for each of 1000 candidates, totalling 3000 fits\n"
     ]
    },
    {
     "name": "stderr",
     "output_type": "stream",
     "text": [
      "[Parallel(n_jobs=4)]: Using backend LokyBackend with 4 concurrent workers.\n",
      "[Parallel(n_jobs=4)]: Done  42 tasks      | elapsed:   20.9s\n",
      "[Parallel(n_jobs=4)]: Done 192 tasks      | elapsed:  1.2min\n",
      "[Parallel(n_jobs=4)]: Done 442 tasks      | elapsed:  2.0min\n",
      "[Parallel(n_jobs=4)]: Done 792 tasks      | elapsed:  3.3min\n",
      "[Parallel(n_jobs=4)]: Done 1242 tasks      | elapsed:  5.0min\n",
      "[Parallel(n_jobs=4)]: Done 1792 tasks      | elapsed:  6.9min\n",
      "[Parallel(n_jobs=4)]: Done 2442 tasks      | elapsed:  9.2min\n",
      "[Parallel(n_jobs=4)]: Done 3000 out of 3000 | elapsed: 11.2min finished\n"
     ]
    },
    {
     "name": "stdout",
     "output_type": "stream",
     "text": [
      "Model with rank: 1\n",
      "Mean training score:   roc_auc: 0.741 (std: 0.006), Accuracy: 0.639 (std: 0.009), f1: 0.324 (std: 0.005)\n",
      "Mean validation score: roc_auc: 0.686 (std: 0.004), Accuracy: 0.620 (std: 0.008), f1: 0.289 (std: 0.003)\n",
      "Parameters: {'randomforestclassifier__n_estimators': 89, 'randomforestclassifier__min_samples_split': 99, 'randomforestclassifier__min_samples_leaf': 7, 'randomforestclassifier__max_depth': 28, 'randomforestclassifier__criterion': 'entropy'}\n",
      "\n",
      "Model with rank: 2\n",
      "Mean training score:   roc_auc: 0.822 (std: 0.001), Accuracy: 0.665 (std: 0.004), f1: 0.375 (std: 0.002)\n",
      "Mean validation score: roc_auc: 0.686 (std: 0.002), Accuracy: 0.619 (std: 0.002), f1: 0.288 (std: 0.002)\n",
      "Parameters: {'randomforestclassifier__n_estimators': 87, 'randomforestclassifier__min_samples_split': 23, 'randomforestclassifier__min_samples_leaf': 3, 'randomforestclassifier__max_depth': 59, 'randomforestclassifier__criterion': 'gini'}\n",
      "\n",
      "Model with rank: 3\n",
      "Mean training score:   roc_auc: 0.752 (std: 0.002), Accuracy: 0.643 (std: 0.004), f1: 0.331 (std: 0.001)\n",
      "Mean validation score: roc_auc: 0.686 (std: 0.002), Accuracy: 0.622 (std: 0.002), f1: 0.290 (std: 0.002)\n",
      "Parameters: {'randomforestclassifier__n_estimators': 74, 'randomforestclassifier__min_samples_split': 34, 'randomforestclassifier__min_samples_leaf': 11, 'randomforestclassifier__max_depth': 74, 'randomforestclassifier__criterion': 'gini'}\n",
      "\n"
     ]
    }
   ],
   "source": [
    "param_list = {'n_estimators': list(np.arange(2, 100)),\n",
    "              'criterion': ['gini', 'entropy'],\n",
    "              'max_depth': [None] + list(np.arange(2, 100)),\n",
    "              'min_samples_split': list(np.arange(2, 100)),\n",
    "              'min_samples_leaf': list(np.arange(1, 100)),\n",
    "             }\n",
    "new_params = {'randomforestclassifier__' + key: param_list[key] for key in param_list}\n",
    "\n",
    "skf = StratifiedKFold(n_splits=3)\n",
    "clf = RandomForestClassifier(n_estimators=2, criterion='gini', max_depth=None, min_samples_split=2, min_samples_leaf=1)\n",
    "imba_pipeline = make_pipeline(RandomUnderSampler(), clf)\n",
    "scoring = ['accuracy', 'f1', 'roc_auc' ]\n",
    "\n",
    "random_search = RandomizedSearchCV(imba_pipeline, param_distributions=new_params, n_iter=1000, cv=skf, scoring=scoring, refit = 'roc_auc', n_jobs = 4, verbose = 1, return_train_score=True)\n",
    "random_search.fit(X_train, y_train)\n",
    "cnfs = report_multiple(random_search.cv_results_, n_top=3, scoring = 'roc_auc')"
   ]
  },
  {
   "cell_type": "markdown",
   "metadata": {},
   "source": [
    "## Perform Classification"
   ]
  },
  {
   "cell_type": "code",
   "execution_count": 120,
   "metadata": {},
   "outputs": [],
   "source": [
    "models_u = []\n",
    "y_pred_vals_u = []\n",
    "y_pred_trains_u = []\n",
    "hyper_ps = random_search.cv_results_\n",
    "for cnf in cnfs.values():\n",
    "    n_estimators = cnf['randomforestclassifier__n_estimators']\n",
    "    criterion = cnf['randomforestclassifier__criterion']\n",
    "    max_depth = cnf['randomforestclassifier__max_depth']\n",
    "    min_samples_split = cnf['randomforestclassifier__min_samples_split']\n",
    "    min_samples_leaf = cnf['randomforestclassifier__min_samples_leaf']\n",
    "    clf = RandomForestClassifier(n_estimators=n_estimators, criterion=criterion, max_depth=max_depth, min_samples_split=min_samples_split, min_samples_leaf=min_samples_leaf)\n",
    "    clf = clf.fit(X_train_res, y_train_res)\n",
    "    models_u.append(clf)\n",
    "    y_pred = clf.predict(X_val)\n",
    "    y_pred_tr = clf.predict(X_train_res)\n",
    "    y_pred_vals_u.append(y_pred)\n",
    "    y_pred_trains_u.append(y_pred_tr) "
   ]
  },
  {
   "cell_type": "markdown",
   "metadata": {},
   "source": [
    "## Analyze the classification results"
   ]
  },
  {
   "cell_type": "code",
   "execution_count": 121,
   "metadata": {},
   "outputs": [
    {
     "name": "stdout",
     "output_type": "stream",
     "text": [
      "model 0\n",
      "Train Accuracy 0.6986081370449678\n",
      "Train F1-score [0.69150685 0.70538985]\n",
      "\n",
      "Test Accuracy 0.616672733891518\n",
      "Test F1-score [0.73675    0.29518072]\n",
      "              precision    recall  f1-score   support\n",
      "\n",
      "           0       0.93      0.61      0.74     14480\n",
      "           1       0.19      0.66      0.30      2002\n",
      "\n",
      "    accuracy                           0.62     16482\n",
      "   macro avg       0.56      0.64      0.52     16482\n",
      "weighted avg       0.84      0.62      0.68     16482\n",
      "\n",
      "[[8841 5639]\n",
      " [ 679 1323]]\n",
      "model 1\n",
      "Train Accuracy 0.8220556745182013\n",
      "Train F1-score [0.82171208 0.82239795]\n",
      "\n",
      "Test Accuracy 0.6235286979735469\n",
      "Test F1-score [0.74224235 0.30210325]\n",
      "              precision    recall  f1-score   support\n",
      "\n",
      "           0       0.93      0.62      0.74     14480\n",
      "           1       0.19      0.67      0.30      2002\n",
      "\n",
      "    accuracy                           0.62     16482\n",
      "   macro avg       0.56      0.64      0.52     16482\n",
      "weighted avg       0.84      0.62      0.69     16482\n",
      "\n",
      "[[8934 5546]\n",
      " [ 659 1343]]\n",
      "model 2\n",
      "Train Accuracy 0.7211991434689508\n",
      "Train F1-score [0.71390903 0.72812696]\n",
      "\n",
      "Test Accuracy 0.6131537434777333\n",
      "Test F1-score [0.73299832 0.29810656]\n",
      "              precision    recall  f1-score   support\n",
      "\n",
      "           0       0.93      0.60      0.73     14480\n",
      "           1       0.19      0.68      0.30      2002\n",
      "\n",
      "    accuracy                           0.61     16482\n",
      "   macro avg       0.56      0.64      0.52     16482\n",
      "weighted avg       0.84      0.61      0.68     16482\n",
      "\n",
      "[[8752 5728]\n",
      " [ 648 1354]]\n"
     ]
    }
   ],
   "source": [
    "for i in range(0,len(cnfs)):\n",
    "    print(\"model {}\".format(i))\n",
    "    print('Train Accuracy %s' % accuracy_score(y_train_res, y_pred_trains_u[i]))\n",
    "    print('Train F1-score %s' % f1_score(y_train_res, y_pred_trains_u[i], average=None))\n",
    "    print()\n",
    "\n",
    "    print('Test Accuracy %s' % accuracy_score(y_val, y_pred_vals_u[i]))\n",
    "    print('Test F1-score %s' % f1_score(y_val, y_pred_vals_u[i], average=None))\n",
    "    print(classification_report(y_val, y_pred_vals_u[i]))\n",
    "    print(confusion_matrix(y_val, y_pred_vals_u[i]))"
   ]
  },
  {
   "cell_type": "code",
   "execution_count": 124,
   "metadata": {},
   "outputs": [
    {
     "name": "stdout",
     "output_type": "stream",
     "text": [
      "model 0 - roc_auc: 0.6986081370449679\n",
      "model 1 - roc_auc: 0.8220556745182013\n",
      "model 2 - roc_auc: 0.7211991434689506\n"
     ]
    }
   ],
   "source": [
    "roc_auc_models_u = []\n",
    "for i in range(0,len(cnfs)):\n",
    "    fpr, tpr, _ = roc_curve(y_train_res, y_pred_trains_u[i])\n",
    "    roc_auc = auc(fpr, tpr)\n",
    "    roc_auc = roc_auc_score(y_train_res, y_pred_trains_u[i], average=None)\n",
    "    print(\"model {} - roc_auc: {}\".format(i, roc_auc))\n",
    "    roc_auc_models_u.append(roc_auc)"
   ]
  },
  {
   "cell_type": "code",
   "execution_count": 123,
   "metadata": {},
   "outputs": [
    {
     "name": "stdout",
     "output_type": "stream",
     "text": [
      "model 0 - roc_auc: 0.6357027295908513\n",
      "model 1 - roc_auc: 0.6439090605527069\n",
      "model 2 - roc_auc: 0.6403717829132193\n"
     ]
    }
   ],
   "source": [
    "roc_auc_models_u = []\n",
    "for i in range(0,len(cnfs)):\n",
    "    fpr, tpr, _ = roc_curve(y_val, y_pred_vals_u[i])\n",
    "    roc_auc = auc(fpr, tpr)\n",
    "    roc_auc = roc_auc_score(y_val, y_pred_vals_u[i], average=None)\n",
    "    print(\"model {} - roc_auc: {}\".format(i, roc_auc))\n",
    "    roc_auc_models_u.append(roc_auc)"
   ]
  },
  {
   "cell_type": "markdown",
   "metadata": {},
   "source": [
    "## Choose the best model"
   ]
  },
  {
   "cell_type": "markdown",
   "metadata": {},
   "source": [
    "<p>Come miglior modello scelgo il model 2, essendo quello con la ROC AUC migliore.</p>\n",
    "<p>{'randomforestclassifier__n_estimators': 87, 'randomforestclassifier__min_samples_split': 23, 'randomforestclassifier__min_samples_leaf': 3, 'randomforestclassifier__max_depth': 59, 'randomforestclassifier__criterion': 'gini'}</p>"
   ]
  },
  {
   "cell_type": "code",
   "execution_count": 44,
   "metadata": {},
   "outputs": [],
   "source": [
    "clf = RandomForestClassifier(n_estimators=87, criterion='gini', max_depth=59, min_samples_split=23, min_samples_leaf=3)"
   ]
  },
  {
   "cell_type": "code",
   "execution_count": 45,
   "metadata": {},
   "outputs": [
    {
     "name": "stdout",
     "output_type": "stream",
     "text": [
      "1.93 s ± 18.7 ms per loop (mean ± std. dev. of 7 runs, 1 loop each)\n"
     ]
    }
   ],
   "source": [
    "%%timeit -n 1\n",
    "clf.fit(X_train_res, y_train_res)"
   ]
  },
  {
   "cell_type": "code",
   "execution_count": 46,
   "metadata": {},
   "outputs": [
    {
     "name": "stdout",
     "output_type": "stream",
     "text": [
      "456 ms ± 1.11 ms per loop (mean ± std. dev. of 7 runs, 1 loop each)\n"
     ]
    }
   ],
   "source": [
    "%%timeit -n 1\n",
    "clf.predict(X_val)"
   ]
  },
  {
   "cell_type": "code",
   "execution_count": 47,
   "metadata": {},
   "outputs": [],
   "source": [
    "y_pred = clf.predict(X_val)"
   ]
  },
  {
   "cell_type": "code",
   "execution_count": 48,
   "metadata": {},
   "outputs": [
    {
     "name": "stdout",
     "output_type": "stream",
     "text": [
      "model 0 - roc_auc: 0.6357771372274135\n"
     ]
    }
   ],
   "source": [
    "fpr, tpr, _ = roc_curve(y_val, y_pred)\n",
    "roc_auc = auc(fpr, tpr)\n",
    "roc_auc = roc_auc_score(y_val, y_pred, average=None)\n",
    "print(\"model {} - roc_auc: {}\".format(0, roc_auc))"
   ]
  },
  {
   "cell_type": "code",
   "execution_count": 49,
   "metadata": {},
   "outputs": [
    {
     "data": {
      "image/png": "[encoded data removed]",
      "text/plain": [
       "<Figure size 576x360 with 1 Axes>"
      ]
     },
     "metadata": {
      "needs_background": "light"
     },
     "output_type": "display_data"
    }
   ],
   "source": [
    "%matplotlib inline\n",
    "plt.figure(figsize=(8, 5))\n",
    "plt.plot(fpr, tpr, label='ROC curve (area = %0.2f)' % (roc_auc))\n",
    "    \n",
    "plt.plot([0, 1], [0, 1], 'k--')\n",
    "plt.xlim([0.0, 1.0])\n",
    "plt.ylim([0.0, 1.05])\n",
    "plt.xlabel('False Positive Rate')\n",
    "plt.ylabel('True Positive Rate') \n",
    "plt.tick_params(axis='both', which='major')\n",
    "plt.legend(loc=\"lower right\", fontsize=14, frameon=False)\n",
    "plt.show()"
   ]
  },
  {
   "cell_type": "markdown",
   "metadata": {},
   "source": [
    "#### Features importance"
   ]
  },
  {
   "cell_type": "code",
   "execution_count": 166,
   "metadata": {},
   "outputs": [
    {
     "name": "stdout",
     "output_type": "stream",
     "text": [
      "VehicleAge 0.23629000665300234\n",
      "VehOdo 0.08768061238713067\n",
      "MMRAcquisitionAuctionAveragePrice 0.09032849222069696\n",
      "MMRAcquisitionRetailAveragePrice 0.07314219766374157\n",
      "MMRCurrentAuctionAveragePrice 0.10551033716995357\n",
      "MMRCurrentRetailAveragePrice 0.08155927294140719\n",
      "VehBCost 0.09927127065991694\n",
      "WarrantyCost 0.05596965036507156\n",
      "Auction_ADESA 0.010961482638368594\n",
      "Auction_MANHEIM 0.009142126858512477\n",
      "Auction_OTHER 0.005169864164908748\n",
      "Size_COMPACT 0.004572361083264975\n",
      "Size_CROSSOVER 0.002317497793446041\n",
      "Size_LARGE 0.009412416056380778\n",
      "Size_LARGE SUV 0.002311776134264732\n",
      "Size_LARGE TRUCK 0.0024187636579882234\n",
      "Size_MEDIUM 0.011250596663636602\n",
      "Size_MEDIUM SUV 0.010332346929276384\n",
      "Size_SMALL SUV 0.0029889675873456738\n",
      "Size_SMALL TRUCK 0.0007885737427601482\n",
      "Size_SPECIALTY 0.0014641218732117578\n",
      "Size_SPORTS 0.000890285566228913\n",
      "Size_VAN 0.003281124013469411\n",
      "VNST_AL 0.0007293266762241333\n",
      "VNST_AR 0.0\n",
      "VNST_AZ 0.0049013165539991835\n",
      "VNST_CA 0.004550557798907594\n",
      "VNST_CO 0.006458492513456036\n",
      "VNST_FL 0.007020928237636818\n",
      "VNST_GA 0.0029780970998784157\n",
      "VNST_IA 0.0010381389936134835\n",
      "VNST_ID 0.0004139131037942396\n",
      "VNST_IL 0.0007244984013538433\n",
      "VNST_IN 0.0008351092291833069\n",
      "VNST_KY 0.00018200707002532222\n",
      "VNST_LA 0.000568165310821872\n",
      "VNST_MA 0.0\n",
      "VNST_MD 0.0030369995208898203\n",
      "VNST_MI 0.0\n",
      "VNST_MN 0.0\n",
      "VNST_MO 0.0005804951955578477\n",
      "VNST_MS 0.0001823162117623987\n",
      "VNST_NC 0.006110786151167657\n",
      "VNST_NE 0.0\n",
      "VNST_NH 0.00034785179415557457\n",
      "VNST_NJ 0.00023756387222332985\n",
      "VNST_NM 0.00016364671402980816\n",
      "VNST_NV 0.0016861278132843836\n",
      "VNST_NY 0.0\n",
      "VNST_OH 0.0004245143006841277\n",
      "VNST_OK 0.005750231828738664\n",
      "VNST_OR 1.8913458770365294e-05\n",
      "VNST_PA 0.0013928124511749288\n",
      "VNST_SC 0.003936131220439895\n",
      "VNST_TN 0.0031316999795862888\n",
      "VNST_TX 0.006587749394157464\n",
      "VNST_UT 0.0009229869678653888\n",
      "VNST_VA 0.0033162281370564956\n",
      "VNST_WA 0.0\n",
      "VNST_WV 5.724470486305333e-05\n",
      "WheelTypeID_1.0 0.012251933474209647\n",
      "WheelTypeID_2.0 0.011807426487417517\n",
      "WheelTypeID_3.0 0.0006016445090868725\n"
     ]
    }
   ],
   "source": [
    "for col, imp in zip(attributes, clf.feature_importances_):\n",
    "    print(col, imp)"
   ]
  },
  {
   "cell_type": "code",
   "execution_count": 19,
   "metadata": {},
   "outputs": [],
   "source": [
    "importances = clf.feature_importances_"
   ]
  },
  {
   "cell_type": "code",
   "execution_count": 34,
   "metadata": {},
   "outputs": [
    {
     "data": {
      "image/png": "[encoded data removed]",
      "text/plain": [
       "<Figure size 1080x360 with 1 Axes>"
      ]
     },
     "metadata": {
      "needs_background": "light"
     },
     "output_type": "display_data"
    }
   ],
   "source": [
    "# Sort feature importances in descending order\n",
    "indices = np.argsort(importances)[::-1]\n",
    "\n",
    "df1 = df\n",
    "del df1['IsBadBuy']\n",
    "\n",
    "# Rearrange feature names so they match the sorted feature importances\n",
    "names = [df1.columns[i] for i in indices]\n",
    "\n",
    "# Create plot\n",
    "plt.figure(figsize=(15, 5))\n",
    "\n",
    "# Create plot title\n",
    "plt.title(\"Feature Importance\")\n",
    "\n",
    "# Add bars\n",
    "plt.bar(range(X.shape[1]), importances[indices])\n",
    "\n",
    "# Add feature names as x-axis labels\n",
    "plt.xticks(range(X.shape[1]), names, rotation=90)\n",
    "\n",
    "# Show plot\n",
    "plt.show()"
   ]
  },
  {
   "cell_type": "markdown",
   "metadata": {},
   "source": [
    "# K-NN"
   ]
  },
  {
   "cell_type": "markdown",
   "metadata": {},
   "source": [
    "## Gridsearch"
   ]
  },
  {
   "cell_type": "code",
   "execution_count": 134,
   "metadata": {},
   "outputs": [
    {
     "name": "stdout",
     "output_type": "stream",
     "text": [
      "Fitting 3 folds for each of 1000 candidates, totalling 3000 fits\n"
     ]
    },
    {
     "name": "stderr",
     "output_type": "stream",
     "text": [
      "[Parallel(n_jobs=4)]: Using backend LokyBackend with 4 concurrent workers.\n",
      "[Parallel(n_jobs=4)]: Done  42 tasks      | elapsed:  2.7min\n",
      "[Parallel(n_jobs=4)]: Done 192 tasks      | elapsed: 10.7min\n",
      "[Parallel(n_jobs=4)]: Done 442 tasks      | elapsed: 23.6min\n",
      "[Parallel(n_jobs=4)]: Done 792 tasks      | elapsed: 42.2min\n",
      "[Parallel(n_jobs=4)]: Done 1242 tasks      | elapsed: 66.4min\n",
      "[Parallel(n_jobs=4)]: Done 1792 tasks      | elapsed: 95.8min\n",
      "[Parallel(n_jobs=4)]: Done 2442 tasks      | elapsed: 129.6min\n"
     ]
    },
    {
     "name": "stdout",
     "output_type": "stream",
     "text": [
      "Model with rank: 1\n",
      "Mean training score:   roc_auc: 1.000 (std: 0.000), Accuracy: 0.710 (std: 0.009), f1: 0.456 (std: 0.008)\n",
      "Mean validation score: roc_auc: 0.643 (std: 0.008), Accuracy: 0.614 (std: 0.007), f1: 0.268 (std: 0.004)\n",
      "Parameters: {'kneighborsclassifier__weights': 'distance', 'kneighborsclassifier__n_neighbors': 135, 'kneighborsclassifier__leaf_size': 142, 'kneighborsclassifier__algorithm': 'auto'}\n",
      "\n",
      "Model with rank: 2\n",
      "Mean training score:   roc_auc: 1.000 (std: 0.000), Accuracy: 0.700 (std: 0.011), f1: 0.447 (std: 0.009)\n",
      "Mean validation score: roc_auc: 0.643 (std: 0.008), Accuracy: 0.602 (std: 0.006), f1: 0.267 (std: 0.003)\n",
      "Parameters: {'kneighborsclassifier__weights': 'distance', 'kneighborsclassifier__n_neighbors': 131, 'kneighborsclassifier__leaf_size': 193, 'kneighborsclassifier__algorithm': 'auto'}\n",
      "\n",
      "Model with rank: 3\n",
      "Mean training score:   roc_auc: 1.000 (std: 0.000), Accuracy: 0.692 (std: 0.013), f1: 0.441 (std: 0.010)\n",
      "Mean validation score: roc_auc: 0.642 (std: 0.007), Accuracy: 0.593 (std: 0.010), f1: 0.265 (std: 0.003)\n",
      "Parameters: {'kneighborsclassifier__weights': 'distance', 'kneighborsclassifier__n_neighbors': 118, 'kneighborsclassifier__leaf_size': 157, 'kneighborsclassifier__algorithm': 'auto'}\n",
      "\n"
     ]
    },
    {
     "name": "stderr",
     "output_type": "stream",
     "text": [
      "[Parallel(n_jobs=4)]: Done 3000 out of 3000 | elapsed: 158.5min finished\n"
     ]
    }
   ],
   "source": [
    "param_list = {'n_neighbors': list(np.arange(2, 200)),\n",
    "              'weights': ['uniform', 'distance'],\n",
    "              'algorithm': ['auto'],\n",
    "              'leaf_size': list(np.arange(2, 200)),\n",
    "             }\n",
    "new_params = {'kneighborsclassifier__' + key: param_list[key] for key in param_list}\n",
    "\n",
    "skf = StratifiedKFold(n_splits=3)\n",
    "clf = KNeighborsClassifier(n_neighbors=2, weights='uniform', algorithm='auto', leaf_size=2)\n",
    "imba_pipeline = make_pipeline(RandomUnderSampler(), clf)\n",
    "scoring = ['accuracy', 'f1', 'roc_auc' ]\n",
    "\n",
    "random_search = RandomizedSearchCV(imba_pipeline, param_distributions=new_params, n_iter=1000, cv=skf, scoring=scoring, refit = 'roc_auc', n_jobs = 4, verbose = 1, return_train_score=True)\n",
    "random_search.fit(X_train, y_train)\n",
    "cnfs = report_multiple(random_search.cv_results_, n_top=3, scoring = 'roc_auc')"
   ]
  },
  {
   "cell_type": "markdown",
   "metadata": {},
   "source": [
    "Non capisco se è andato in overfitting o no. Lo provo sul validation esterno e dopo provo un'altra grid."
   ]
  },
  {
   "cell_type": "markdown",
   "metadata": {},
   "source": [
    "## Perform Classification"
   ]
  },
  {
   "cell_type": "code",
   "execution_count": 135,
   "metadata": {},
   "outputs": [],
   "source": [
    "models_u = []\n",
    "y_pred_vals_u = []\n",
    "y_pred_trains_u = []\n",
    "hyper_ps = random_search.cv_results_\n",
    "for cnf in cnfs.values():\n",
    "    n_neighbors = cnf['kneighborsclassifier__n_neighbors']\n",
    "    weights = cnf['kneighborsclassifier__weights']\n",
    "    algorithm = cnf['kneighborsclassifier__algorithm']\n",
    "    leaf_size = cnf['kneighborsclassifier__leaf_size']\n",
    "    clf = KNeighborsClassifier(n_neighbors=n_neighbors, weights=weights, algorithm=algorithm, leaf_size=leaf_size)\n",
    "    clf = clf.fit(X_train_res, y_train_res)\n",
    "    models_u.append(clf)\n",
    "    y_pred = clf.predict(X_val)\n",
    "    y_pred_tr = clf.predict(X_train_res)\n",
    "    y_pred_vals_u.append(y_pred)\n",
    "    y_pred_trains_u.append(y_pred_tr) "
   ]
  },
  {
   "cell_type": "markdown",
   "metadata": {},
   "source": [
    "## Analyze the classification results"
   ]
  },
  {
   "cell_type": "code",
   "execution_count": 136,
   "metadata": {},
   "outputs": [
    {
     "name": "stdout",
     "output_type": "stream",
     "text": [
      "model 0\n",
      "Train Accuracy 1.0\n",
      "Train F1-score [1. 1.]\n",
      "\n",
      "Test Accuracy 0.5939206406989443\n",
      "Test F1-score [0.71808264 0.27431421]\n",
      "              precision    recall  f1-score   support\n",
      "\n",
      "           0       0.92      0.59      0.72     14480\n",
      "           1       0.18      0.63      0.27      2002\n",
      "\n",
      "    accuracy                           0.59     16482\n",
      "   macro avg       0.55      0.61      0.50     16482\n",
      "weighted avg       0.83      0.59      0.66     16482\n",
      "\n",
      "[[8524 5956]\n",
      " [ 737 1265]]\n",
      "model 1\n",
      "Train Accuracy 1.0\n",
      "Train F1-score [1. 1.]\n",
      "\n",
      "Test Accuracy 0.5917364397524573\n",
      "Test F1-score [0.71606397 0.27371829]\n",
      "              precision    recall  f1-score   support\n",
      "\n",
      "           0       0.92      0.59      0.72     14480\n",
      "           1       0.17      0.63      0.27      2002\n",
      "\n",
      "    accuracy                           0.59     16482\n",
      "   macro avg       0.55      0.61      0.49     16482\n",
      "weighted avg       0.83      0.59      0.66     16482\n",
      "\n",
      "[[8485 5995]\n",
      " [ 734 1268]]\n",
      "model 2\n",
      "Train Accuracy 1.0\n",
      "Train F1-score [1. 1.]\n",
      "\n",
      "Test Accuracy 0.5917364397524573\n",
      "Test F1-score [0.71630339 0.27214711]\n",
      "              precision    recall  f1-score   support\n",
      "\n",
      "           0       0.92      0.59      0.72     14480\n",
      "           1       0.17      0.63      0.27      2002\n",
      "\n",
      "    accuracy                           0.59     16482\n",
      "   macro avg       0.55      0.61      0.49     16482\n",
      "weighted avg       0.83      0.59      0.66     16482\n",
      "\n",
      "[[8495 5985]\n",
      " [ 744 1258]]\n"
     ]
    }
   ],
   "source": [
    "for i in range(0,len(cnfs)):\n",
    "    print(\"model {}\".format(i))\n",
    "    print('Train Accuracy %s' % accuracy_score(y_train_res, y_pred_trains_u[i]))\n",
    "    print('Train F1-score %s' % f1_score(y_train_res, y_pred_trains_u[i], average=None))\n",
    "    print()\n",
    "\n",
    "    print('Test Accuracy %s' % accuracy_score(y_val, y_pred_vals_u[i]))\n",
    "    print('Test F1-score %s' % f1_score(y_val, y_pred_vals_u[i], average=None))\n",
    "    print(classification_report(y_val, y_pred_vals_u[i]))\n",
    "    print(confusion_matrix(y_val, y_pred_vals_u[i]))"
   ]
  },
  {
   "cell_type": "code",
   "execution_count": 137,
   "metadata": {},
   "outputs": [
    {
     "name": "stdout",
     "output_type": "stream",
     "text": [
      "model 0 - roc_auc: 1.0\n",
      "model 1 - roc_auc: 1.0\n",
      "model 2 - roc_auc: 1.0\n"
     ]
    }
   ],
   "source": [
    "roc_auc_models_u = []\n",
    "for i in range(0,len(cnfs)):\n",
    "    fpr, tpr, _ = roc_curve(y_train_res, y_pred_trains_u[i])\n",
    "    roc_auc = auc(fpr, tpr)\n",
    "    roc_auc = roc_auc_score(y_train_res, y_pred_trains_u[i], average=None)\n",
    "    print(\"model {} - roc_auc: {}\".format(i, roc_auc))\n",
    "    roc_auc_models_u.append(roc_auc)"
   ]
  },
  {
   "cell_type": "code",
   "execution_count": 138,
   "metadata": {},
   "outputs": [
    {
     "name": "stdout",
     "output_type": "stream",
     "text": [
      "model 0 - roc_auc: 0.6102710825086516\n",
      "model 1 - roc_auc: 0.6096736481750294\n",
      "model 2 - roc_auc: 0.6075214495449303\n"
     ]
    }
   ],
   "source": [
    "roc_auc_models_u = []\n",
    "for i in range(0,len(cnfs)):\n",
    "    fpr, tpr, _ = roc_curve(y_val, y_pred_vals_u[i])\n",
    "    roc_auc = auc(fpr, tpr)\n",
    "    roc_auc = roc_auc_score(y_val, y_pred_vals_u[i], average=None)\n",
    "    print(\"model {} - roc_auc: {}\".format(i, roc_auc))\n",
    "    roc_auc_models_u.append(roc_auc)"
   ]
  },
  {
   "cell_type": "markdown",
   "metadata": {},
   "source": [
    "## Choose the best model"
   ]
  },
  {
   "cell_type": "markdown",
   "metadata": {},
   "source": [
    "<p>Il modello migliore sembrerebbe il model 0, anche se probabilmente è in overfitting.<p>\n",
    "<p>{'kneighborsclassifier__weights': 'distance', 'kneighborsclassifier__n_neighbors': 135, 'kneighborsclassifier__leaf_size': 142, 'kneighborsclassifier__algorithm': 'auto'}</p>"
   ]
  },
  {
   "cell_type": "code",
   "execution_count": 173,
   "metadata": {},
   "outputs": [],
   "source": [
    "neigh = KNeighborsClassifier(n_neighbors=135, weights='distance', algorithm='auto', leaf_size=142)"
   ]
  },
  {
   "cell_type": "code",
   "execution_count": 174,
   "metadata": {},
   "outputs": [
    {
     "name": "stdout",
     "output_type": "stream",
     "text": [
      "79.4 ms ± 1.88 ms per loop (mean ± std. dev. of 7 runs, 1 loop each)\n"
     ]
    }
   ],
   "source": [
    "%%timeit -n 1\n",
    "neigh.fit(X_train_res, y_train_res)"
   ]
  },
  {
   "cell_type": "code",
   "execution_count": 175,
   "metadata": {},
   "outputs": [
    {
     "data": {
      "text/plain": [
       "KNeighborsClassifier(algorithm='auto', leaf_size=142, metric='minkowski',\n",
       "                     metric_params=None, n_jobs=None, n_neighbors=135, p=2,\n",
       "                     weights='distance')"
      ]
     },
     "execution_count": 175,
     "metadata": {},
     "output_type": "execute_result"
    }
   ],
   "source": [
    "neigh.fit(X_train_res, y_train_res)"
   ]
  },
  {
   "cell_type": "code",
   "execution_count": 176,
   "metadata": {},
   "outputs": [
    {
     "name": "stdout",
     "output_type": "stream",
     "text": [
      "1.8 s ± 21.1 ms per loop (mean ± std. dev. of 7 runs, 1 loop each)\n"
     ]
    }
   ],
   "source": [
    "%%timeit -n 1\n",
    "neigh.predict(X_val)"
   ]
  },
  {
   "cell_type": "code",
   "execution_count": 177,
   "metadata": {},
   "outputs": [],
   "source": [
    "y_pred = neigh.predict(X_val)"
   ]
  },
  {
   "cell_type": "code",
   "execution_count": 178,
   "metadata": {},
   "outputs": [
    {
     "name": "stdout",
     "output_type": "stream",
     "text": [
      "model 0 - roc_auc: 0.6102710825086516\n"
     ]
    }
   ],
   "source": [
    "fpr, tpr, _ = roc_curve(y_val, y_pred)\n",
    "roc_auc = auc(fpr, tpr)\n",
    "roc_auc = roc_auc_score(y_val, y_pred, average=None)\n",
    "print(\"model {} - roc_auc: {}\".format(0, roc_auc))"
   ]
  },
  {
   "cell_type": "code",
   "execution_count": 179,
   "metadata": {},
   "outputs": [
    {
     "data": {
      "image/png": "[encoded data removed]",
      "text/plain": [
       "<Figure size 576x360 with 1 Axes>"
      ]
     },
     "metadata": {
      "needs_background": "light"
     },
     "output_type": "display_data"
    }
   ],
   "source": [
    "%matplotlib inline\n",
    "plt.figure(figsize=(8, 5))\n",
    "plt.plot(fpr, tpr, label='ROC curve (area = %0.2f)' % (roc_auc))\n",
    "    \n",
    "plt.plot([0, 1], [0, 1], 'k--')\n",
    "plt.xlim([0.0, 1.0])\n",
    "plt.ylim([0.0, 1.05])\n",
    "plt.xlabel('False Positive Rate')\n",
    "plt.ylabel('True Positive Rate') \n",
    "plt.tick_params(axis='both', which='major')\n",
    "plt.legend(loc=\"lower right\", fontsize=14, frameon=False)\n",
    "plt.show()"
   ]
  },
  {
   "cell_type": "markdown",
   "metadata": {},
   "source": [
    "# Another gridsearch"
   ]
  },
  {
   "cell_type": "code",
   "execution_count": 148,
   "metadata": {},
   "outputs": [
    {
     "name": "stderr",
     "output_type": "stream",
     "text": [
      "C:\\Users\\Giulia\\Anaconda3\\lib\\site-packages\\sklearn\\model_selection\\_search.py:281: UserWarning: The total space of parameters 40 is smaller than n_iter=1000. Running 40 iterations. For exhaustive searches, use GridSearchCV.\n",
      "  % (grid_size, self.n_iter, grid_size), UserWarning)\n",
      "[Parallel(n_jobs=4)]: Using backend LokyBackend with 4 concurrent workers.\n"
     ]
    },
    {
     "name": "stdout",
     "output_type": "stream",
     "text": [
      "Fitting 3 folds for each of 40 candidates, totalling 120 fits\n"
     ]
    },
    {
     "name": "stderr",
     "output_type": "stream",
     "text": [
      "[Parallel(n_jobs=4)]: Done  42 tasks      | elapsed:  5.5min\n"
     ]
    },
    {
     "name": "stdout",
     "output_type": "stream",
     "text": [
      "Model with rank: 1\n",
      "Mean training score:   roc_auc: 1.000 (std: 0.000), Accuracy: 0.704 (std: 0.016), f1: 0.451 (std: 0.013)\n",
      "Mean validation score: roc_auc: 0.641 (std: 0.008), Accuracy: 0.609 (std: 0.017), f1: 0.266 (std: 0.004)\n",
      "Parameters: {'kneighborsclassifier__weights': 'distance', 'kneighborsclassifier__n_neighbors': 200, 'kneighborsclassifier__leaf_size': 100, 'kneighborsclassifier__algorithm': 'auto'}\n",
      "\n",
      "Model with rank: 2\n",
      "Mean training score:   roc_auc: 1.000 (std: 0.000), Accuracy: 0.714 (std: 0.012), f1: 0.459 (std: 0.010)\n",
      "Mean validation score: roc_auc: 0.641 (std: 0.008), Accuracy: 0.619 (std: 0.012), f1: 0.267 (std: 0.004)\n",
      "Parameters: {'kneighborsclassifier__weights': 'distance', 'kneighborsclassifier__n_neighbors': 200, 'kneighborsclassifier__leaf_size': 160, 'kneighborsclassifier__algorithm': 'auto'}\n",
      "\n",
      "Model with rank: 3\n",
      "Mean training score:   roc_auc: 1.000 (std: 0.000), Accuracy: 0.694 (std: 0.005), f1: 0.442 (std: 0.004)\n",
      "Mean validation score: roc_auc: 0.640 (std: 0.007), Accuracy: 0.597 (std: 0.006), f1: 0.266 (std: 0.003)\n",
      "Parameters: {'kneighborsclassifier__weights': 'distance', 'kneighborsclassifier__n_neighbors': 200, 'kneighborsclassifier__leaf_size': 220, 'kneighborsclassifier__algorithm': 'auto'}\n",
      "\n"
     ]
    },
    {
     "name": "stderr",
     "output_type": "stream",
     "text": [
      "[Parallel(n_jobs=4)]: Done 120 out of 120 | elapsed: 16.5min finished\n"
     ]
    }
   ],
   "source": [
    "param_list = {'n_neighbors': [200, 300, 400, 500, 600, 700, 800, 1000],\n",
    "              'weights': ['distance'],\n",
    "              'algorithm': ['auto'],\n",
    "              'leaf_size': [100, 130, 160, 190, 220],\n",
    "             }\n",
    "new_params = {'kneighborsclassifier__' + key: param_list[key] for key in param_list}\n",
    "\n",
    "skf = StratifiedKFold(n_splits=3)\n",
    "clf = KNeighborsClassifier(n_neighbors=200, weights='distance', algorithm='auto', leaf_size=100)\n",
    "imba_pipeline = make_pipeline(RandomUnderSampler(), clf)\n",
    "scoring = ['accuracy', 'f1', 'roc_auc' ]\n",
    "\n",
    "random_search = RandomizedSearchCV(imba_pipeline, param_distributions=new_params, n_iter=1000, cv=skf, scoring=scoring, refit = 'roc_auc', n_jobs = 4, verbose = 1, return_train_score=True)\n",
    "random_search.fit(X_train, y_train)\n",
    "cnfs = report_multiple(random_search.cv_results_, n_top=3, scoring = 'roc_auc')"
   ]
  },
  {
   "cell_type": "markdown",
   "metadata": {},
   "source": [
    "## Other tests"
   ]
  },
  {
   "cell_type": "code",
   "execution_count": 193,
   "metadata": {},
   "outputs": [
    {
     "name": "stdout",
     "output_type": "stream",
     "text": [
      "model 0 - roc_auc: 1.0\n",
      "model 0 - roc_auc: 0.5910739812673513\n"
     ]
    }
   ],
   "source": [
    "neigh = KNeighborsClassifier(n_neighbors=9000, weights='distance', algorithm='auto', leaf_size=150)\n",
    "neigh.fit(X_train_res, y_train_res)\n",
    "y_pred = neigh.predict(X_val)\n",
    "y_pred_train = neigh.predict(X_train_res)\n",
    "\n",
    "fpr, tpr, _ = roc_curve(y_train_res, y_pred_train)\n",
    "roc_auc = auc(fpr, tpr)\n",
    "roc_auc = roc_auc_score(y_train_res, y_pred_train, average=None)\n",
    "print(\"model {} - roc_auc: {}\".format(0, roc_auc))\n",
    "\n",
    "fpr, tpr, _ = roc_curve(y_val, y_pred)\n",
    "roc_auc = auc(fpr, tpr)\n",
    "roc_auc = roc_auc_score(y_val, y_pred, average=None)\n",
    "print(\"model {} - roc_auc: {}\".format(0, roc_auc))"
   ]
  },
  {
   "cell_type": "markdown",
   "metadata": {},
   "source": [
    "<p>Ho aumentato gradualmente il numero di vicini per cercare di migliorare la roc sul validation e di peggiorare quella sul training, ma niente.</p>"
   ]
  },
  {
   "cell_type": "markdown",
   "metadata": {},
   "source": [
    "## Choose the final best model"
   ]
  },
  {
   "cell_type": "markdown",
   "metadata": {},
   "source": [
    "<p>Prendo quello selezionato dopo la prima gridsearch</p>"
   ]
  },
  {
   "cell_type": "code",
   "execution_count": 180,
   "metadata": {},
   "outputs": [],
   "source": [
    "neigh = KNeighborsClassifier(n_neighbors=135, weights='distance', algorithm='auto', leaf_size=142)"
   ]
  },
  {
   "cell_type": "code",
   "execution_count": 181,
   "metadata": {},
   "outputs": [
    {
     "name": "stdout",
     "output_type": "stream",
     "text": [
      "81 ms ± 1.3 ms per loop (mean ± std. dev. of 7 runs, 1 loop each)\n"
     ]
    }
   ],
   "source": [
    "%%timeit -n 1\n",
    "neigh.fit(X_train_res, y_train_res)"
   ]
  },
  {
   "cell_type": "code",
   "execution_count": 182,
   "metadata": {},
   "outputs": [
    {
     "data": {
      "text/plain": [
       "KNeighborsClassifier(algorithm='auto', leaf_size=142, metric='minkowski',\n",
       "                     metric_params=None, n_jobs=None, n_neighbors=135, p=2,\n",
       "                     weights='distance')"
      ]
     },
     "execution_count": 182,
     "metadata": {},
     "output_type": "execute_result"
    }
   ],
   "source": [
    "neigh.fit(X_train_res, y_train_res)"
   ]
  },
  {
   "cell_type": "code",
   "execution_count": 183,
   "metadata": {},
   "outputs": [
    {
     "name": "stdout",
     "output_type": "stream",
     "text": [
      "1.87 s ± 214 ms per loop (mean ± std. dev. of 7 runs, 1 loop each)\n"
     ]
    }
   ],
   "source": [
    "%%timeit -n 1\n",
    "neigh.predict(X_val)"
   ]
  },
  {
   "cell_type": "code",
   "execution_count": 160,
   "metadata": {},
   "outputs": [],
   "source": [
    "y_pred = neigh.predict(X_val)"
   ]
  },
  {
   "cell_type": "code",
   "execution_count": 161,
   "metadata": {},
   "outputs": [
    {
     "name": "stdout",
     "output_type": "stream",
     "text": [
      "model 0 - roc_auc: 0.6102710825086516\n"
     ]
    }
   ],
   "source": [
    "fpr, tpr, _ = roc_curve(y_val, y_pred)\n",
    "roc_auc = auc(fpr, tpr)\n",
    "roc_auc = roc_auc_score(y_val, y_pred, average=None)\n",
    "print(\"model {} - roc_auc: {}\".format(0, roc_auc))"
   ]
  },
  {
   "cell_type": "code",
   "execution_count": 162,
   "metadata": {},
   "outputs": [
    {
     "data": {
      "image/png": "[encoded data removed]",
      "text/plain": [
       "<Figure size 576x360 with 1 Axes>"
      ]
     },
     "metadata": {
      "needs_background": "light"
     },
     "output_type": "display_data"
    }
   ],
   "source": [
    "%matplotlib inline\n",
    "plt.figure(figsize=(8, 5))\n",
    "plt.plot(fpr, tpr, label='ROC curve (area = %0.2f)' % (roc_auc))\n",
    "    \n",
    "plt.plot([0, 1], [0, 1], 'k--')\n",
    "plt.xlim([0.0, 1.0])\n",
    "plt.ylim([0.0, 1.05])\n",
    "plt.xlabel('False Positive Rate')\n",
    "plt.ylabel('True Positive Rate') \n",
    "plt.tick_params(axis='both', which='major')\n",
    "plt.legend(loc=\"lower right\", fontsize=14, frameon=False)\n",
    "plt.show()"
   ]
  },
  {
   "cell_type": "markdown",
   "metadata": {},
   "source": [
    "# Decision Tree"
   ]
  },
  {
   "cell_type": "code",
   "execution_count": 10,
   "metadata": {},
   "outputs": [],
   "source": [
    "dtc = DecisionTreeClassifier(criterion='gini', max_depth=5, min_samples_split=26, min_samples_leaf=25)"
   ]
  },
  {
   "cell_type": "code",
   "execution_count": 11,
   "metadata": {},
   "outputs": [
    {
     "name": "stdout",
     "output_type": "stream",
     "text": [
      "33.8 ms ± 1.95 ms per loop (mean ± std. dev. of 7 runs, 1 loop each)\n"
     ]
    }
   ],
   "source": [
    "%%timeit -n 1\n",
    "dtc.fit(X_train_res, y_train_res)"
   ]
  },
  {
   "cell_type": "code",
   "execution_count": 12,
   "metadata": {},
   "outputs": [
    {
     "data": {
      "text/plain": [
       "DecisionTreeClassifier(ccp_alpha=0.0, class_weight=None, criterion='gini',\n",
       "                       max_depth=5, max_features=None, max_leaf_nodes=None,\n",
       "                       min_impurity_decrease=0.0, min_impurity_split=None,\n",
       "                       min_samples_leaf=25, min_samples_split=26,\n",
       "                       min_weight_fraction_leaf=0.0, presort='deprecated',\n",
       "                       random_state=None, splitter='best')"
      ]
     },
     "execution_count": 12,
     "metadata": {},
     "output_type": "execute_result"
    }
   ],
   "source": [
    "dtc.fit(X_train_res, y_train_res)"
   ]
  },
  {
   "cell_type": "code",
   "execution_count": 13,
   "metadata": {},
   "outputs": [
    {
     "name": "stdout",
     "output_type": "stream",
     "text": [
      "4.74 ms ± 947 µs per loop (mean ± std. dev. of 7 runs, 1 loop each)\n"
     ]
    }
   ],
   "source": [
    "%%timeit -n 1\n",
    "dtc.predict(X_val)"
   ]
  },
  {
   "cell_type": "code",
   "execution_count": 14,
   "metadata": {},
   "outputs": [],
   "source": [
    "y_pred = dtc.predict(X_val)"
   ]
  },
  {
   "cell_type": "code",
   "execution_count": 16,
   "metadata": {},
   "outputs": [
    {
     "name": "stdout",
     "output_type": "stream",
     "text": [
      "model 0 - roc_auc: 0.6072163333903666\n"
     ]
    }
   ],
   "source": [
    "fpr, tpr, _ = roc_curve(y_val, y_pred)\n",
    "roc_auc = auc(fpr, tpr)\n",
    "roc_auc = roc_auc_score(y_val, y_pred, average=None)\n",
    "print(\"model {} - roc_auc: {}\".format(0, roc_auc))"
   ]
  },
  {
   "cell_type": "code",
   "execution_count": 17,
   "metadata": {},
   "outputs": [
    {
     "data": {
      "image/png": "[encoded data removed]",
      "text/plain": [
       "<Figure size 576x360 with 1 Axes>"
      ]
     },
     "metadata": {
      "needs_background": "light"
     },
     "output_type": "display_data"
    }
   ],
   "source": [
    "%matplotlib inline\n",
    "plt.figure(figsize=(8, 5))\n",
    "plt.plot(fpr, tpr, label='ROC curve (area = %0.2f)' % (roc_auc))\n",
    "    \n",
    "plt.plot([0, 1], [0, 1], 'k--')\n",
    "plt.xlim([0.0, 1.0])\n",
    "plt.ylim([0.0, 1.05])\n",
    "plt.xlabel('False Positive Rate')\n",
    "plt.ylabel('True Positive Rate') \n",
    "plt.tick_params(axis='both', which='major')\n",
    "plt.legend(loc=\"lower right\", fontsize=14, frameon=False)\n",
    "plt.show()"
   ]
  },
  {
   "cell_type": "code",
   "execution_count": null,
   "metadata": {},
   "outputs": [],
   "source": []
  }
 ],
 "metadata": {
  "kernelspec": {
   "display_name": "Python 3",
   "language": "python",
   "name": "python3"
  },
  "language_info": {
   "codemirror_mode": {
    "name": "ipython",
    "version": 3
   },
   "file_extension": ".py",
   "mimetype": "text/x-python",
   "name": "python",
   "nbconvert_exporter": "python",
   "pygments_lexer": "ipython3",
   "version": "3.7.5"
  }
 },
 "nbformat": 4,
 "nbformat_minor": 4
}
