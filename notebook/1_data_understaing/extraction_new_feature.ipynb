{
 "cells": [
  {
   "cell_type": "code",
   "execution_count": 2,
   "metadata": {},
   "outputs": [],
   "source": [
    "%matplotlib inline\n",
    "import math\n",
    "import numpy as np\n",
    "import pandas as pd\n",
    "import scipy.stats as stats\n",
    "import matplotlib.pyplot as plt\n",
    "import missingno as msno\n",
    "import seaborn as sns\n",
    "import plotly.graph_objects as go\n",
    "import plotly.express as px\n",
    "import re\n",
    "\n",
    "from collections import defaultdict\n",
    "from scipy.stats.stats import pearsonr"
   ]
  },
  {
   "cell_type": "code",
   "execution_count": 3,
   "metadata": {},
   "outputs": [],
   "source": [
    "df = pd.read_csv('../../data/training.csv') "
   ]
  },
  {
   "cell_type": "code",
   "execution_count": 4,
   "metadata": {},
   "outputs": [],
   "source": [
    "df['TrimLevel']=\"nan\" #index 34\n",
    "df['BodyStyle']=\"nan\" #index 35"
   ]
  },
  {
   "cell_type": "code",
   "execution_count": 5,
   "metadata": {},
   "outputs": [
    {
     "data": {
      "text/plain": [
       "Index(['RefId', 'IsBadBuy', 'PurchDate', 'Auction', 'VehYear', 'VehicleAge',\n",
       "       'Make', 'Model', 'Trim', 'SubModel', 'Color', 'Transmission',\n",
       "       'WheelTypeID', 'WheelType', 'VehOdo', 'Nationality', 'Size',\n",
       "       'TopThreeAmericanName', 'MMRAcquisitionAuctionAveragePrice',\n",
       "       'MMRAcquisitionAuctionCleanPrice', 'MMRAcquisitionRetailAveragePrice',\n",
       "       'MMRAcquisitonRetailCleanPrice', 'MMRCurrentAuctionAveragePrice',\n",
       "       'MMRCurrentAuctionCleanPrice', 'MMRCurrentRetailAveragePrice',\n",
       "       'MMRCurrentRetailCleanPrice', 'PRIMEUNIT', 'AUCGUART', 'BYRNO',\n",
       "       'VNZIP1', 'VNST', 'VehBCost', 'IsOnlineSale', 'WarrantyCost',\n",
       "       'TrimLevel', 'BodyStyle'],\n",
       "      dtype='object')"
      ]
     },
     "execution_count": 5,
     "metadata": {},
     "output_type": "execute_result"
    }
   ],
   "source": [
    "df.columns"
   ]
  },
  {
   "cell_type": "markdown",
   "metadata": {},
   "source": [
    "### BodyStyle"
   ]
  },
  {
   "cell_type": "code",
   "execution_count": 6,
   "metadata": {},
   "outputs": [
    {
     "data": {
      "text/plain": [
       "array(['4D SEDAN EX', '4D SEDAN SXT FFV', '4D WAGON', 'PASSENGER 3.9L',\n",
       "       'MINIVAN 3.3L', '4D SEDAN', '4D SEDAN SE1', '4D SUV 4.7L',\n",
       "       '4D SEDAN LS', '4D SEDAN LS CLASSIC', '4D SPORT UTILITY',\n",
       "       '4D SUV 4.7L SLT', '2D COUPE', 'EXT CAB 4.3L', '4D SEDAN XE',\n",
       "       '4D SUV 4.0L SPORT TRAC', 'PASSENGER 3.9L SE', 'QUAD CAB 4.7L',\n",
       "       '4D SEDAN CUSTOM', '4D SPORT UTILITY EX', '4D SEDAN ES',\n",
       "       'REG CAB 4.2L XL', '4D SEDAN SE', '4D SEDAN SXT',\n",
       "       'EXT CAB 4.2L W/T', '4D SUV 4.0L FFV LIMITED', '4D SEDAN LT',\n",
       "       'MINIVAN 3.8L SXT', '4D SEDAN LX AUTO', 'PASSENGER 3.9L LX',\n",
       "       '4D SUV 4.8L', '4D SUV LS', '4D SEDAN CLASSIC', '4D SEDAN TOURING',\n",
       "       '4D SEDAN SES', '4D SUV 2.2L LS', '4D SEDAN LT 3.5L',\n",
       "       '4D SUV 4.2L LS', '4D SEDAN LIMITED', '2D COUPE SS',\n",
       "       '4D SEDAN GLS', '4D UTILITY 5.3L FFV', '4D SPORT',\n",
       "       'MINIVAN 2.4L SE', '4D SPORT UTILITY LS', '4D SEDAN GS',\n",
       "       '4D SEDAN TOURING TURBO', '4D SEDAN LEVEL 2', '4D SEDAN SEL',\n",
       "       '4D SEDAN L300', 'CREW CAB 5.6L LE', 'MINIVAN 3.3L FFV SE',\n",
       "       '4D SUV 2.2L LT', '2D SUV 4.0L SPORT XLS', '4D SPORT TOURER',\n",
       "       'CREW CAB 5.3L SLE', '2D SPYDER GS', '4D SEDAN ZX4', '4D SUV',\n",
       "       '2D COUPE GT', '4D SUV 5.3L FFV', '4D SPORT UTILITY SL',\n",
       "       '2D COUPE GL2', '4D SEDAN S', '4D SEDAN LEVEL 3',\n",
       "       'MINIVAN 3.3L SPORT', '4D SEDAN LS 3.5L FFV', 'WAGON 2.7L',\n",
       "       '4D SPORT UTILITY LE', 'MINIVAN 3.8L LXI', '4D SPORT UTILITY ES',\n",
       "       '4D SUV 4.6L XLT', 'EXT CAB 3.4L SR5', '4D SUV 4.0L FFV XLT',\n",
       "       '4D SUV CX', 'EXT CAB 5.3L', '4D CUV 2.2L', '4D CUV 3.0L XLT',\n",
       "       '4D SEDAN GT2', '4D WAGON LAREDO', '4D SUV 4.2L',\n",
       "       'CREW CAB 4.6L XLT', 'SPORT UTILITY', '4D SEDAN LS PREMIUM',\n",
       "       '4D SUV-PICKUP 5.3L', 'PASSENGER EXT 3.5L LS', '2D COUPE LIMTED',\n",
       "       'EXT CAB 4.6L HERITAGE XL', '4D SEDAN GT', '4D SPORT UTILITY SE',\n",
       "       'PASSENGER EXT 3.4L LS', '4D SEDAN 2.7L SE', 'CREW CAB LIMITED',\n",
       "       '4D SEDAN EX AUTO', '4D WAGON GT', '4D SEDAN LX', '4D SEDAN GL',\n",
       "       '4D CUV 3.0L SE', '4D WAGON SXT', '4D SEDAN LT 3.5L FFV',\n",
       "       'MINIVAN 2.4L LX', 'MINIVAN 3.8L', '4D CUV 2.0L XLS', '4D CUV DLX',\n",
       "       '4D SUV SPORT', 'QUAD CAB 4.7L SLT', '4D SUV 4.0L FFV XLS',\n",
       "       '4D SEDAN CE', '2D QUAD COUPE LEVEL 2', 'MINIVAN 3.8L EX',\n",
       "       '4D HATCHBACK S', '4D WAGON EX', 'PASSENGER EXT 3.5L',\n",
       "       '4D SEDAN LE', '4D SEDAN 2.7L', '2D COUPE TYPE S', '4D SUV LT',\n",
       "       '4D SEDAN ZTS', '4D SEDAN T5', '2D COUPE LS', '4D SEDAN SL2',\n",
       "       '4D SUV 4.0L XLS', '4D CUV 3.0L SEL', '4D CUV 2.7L GLS',\n",
       "       'WAGON 3.5L SXT', '4D CUV 3.0L XLS', '4D SEDAN SEL FFV',\n",
       "       'EXT CAB 4.6L STX', 'REG CAB 3.7L', 'QUAD CAB 3.7L',\n",
       "       '4D CUV 2.3L XLS', '2D SUV 4.0L SPORT', 'PASSENGER 3.8L LX',\n",
       "       '4D SEDAN GL2', 'REG CAB 4.8L LS', '4D SUV 5.7L SLT',\n",
       "       'EXT CAB 5.6L', '4D PASSENGER 3.9L SES', 'QUAD CAB 3.7L SPORT',\n",
       "       '5D SEDAN I', 'REG CAB 4.2L STX', 'PASSENGER 3.8L',\n",
       "       '4D SEDAN SE FFV', '4D SUV HARDTOP 2.0L', '4D WAGON SE',\n",
       "       'MINIVAN 2.4L', '4D UTILITY 4.2L SLE', '4D UTILITY 5.3L LS',\n",
       "       '4D SUV 3.7L', '4D SEDAN LT 3.9L', '4D SEDAN LS 3.5L',\n",
       "       'QUAD CAB 5.7L BIG HORN', '4D SEDAN LXI', '4D SEDAN SL1',\n",
       "       '2D COUPE ZX3', '4D SEDAN GL1', '5D HATCHBACK I',\n",
       "       '4D PASSENGER 4.2L LIMITED', '4D SEDAN CXL',\n",
       "       '4D SPORT UTILITY XLS', 'QUAD CAB 5.7L', 'MINIVAN 3.3L SE',\n",
       "       'EXT CAB 5.4L LARIAT', '2D EXT CAB 2.3L XL', '4D SUV LIMITED',\n",
       "       'PASSENGER 3.9L SEL', '4D HATCHBACK ZX5 S', 'CREW CAB 6.0L LS',\n",
       "       '4D WAGON S', '4D SEDAN LUXURY', '4D SUV 4.6L', '4D SEDAN 3.5L',\n",
       "       '4D SEDAN SE2', 'EXT CAB 4.6L LARIAT', 'MINIVAN 3.3L SXT',\n",
       "       '4D SEDAN LEVEL 1', '4D SPORT TOURING', '4D SEDAN I',\n",
       "       '4D SUV 5.4L XLT', '4D SEDAN SL', '4D SEDAN GLE', '2D COUPE GS',\n",
       "       '4D SEDAN L200', '2D COUPE SE', 'REG CAB 4.0L', 'EXT CAB 3.7L',\n",
       "       '4D SPORT UTILITY LX', '4D SUV 4.0L FFV EDDIE BAUER',\n",
       "       'REG CAB 4.3L LS', '4D SUV 2.2L', '4D SUV 4.7L SPORT',\n",
       "       '2D COUPE LT', 'PASSENGER 3.4L', '4D MINIVAN EXT 3.4L',\n",
       "       '4D SUV HARDTOP 2.5L LT', '2D EXT CAB 3.0L DUAL SPORT',\n",
       "       '2D CONVERTIBLE', 'REG CAB 2.2L FFV',\n",
       "       'PASSENGER EXT 3.4L ENTERTAINER', '4D SUV 3.0L', 'REG CAB 2.8L',\n",
       "       'CREW CAB 3.5L Z71', 'REG CAB 3.0L EDGE', 'REG CAB 5.7L SLT',\n",
       "       'PASSENGER 3.9L LS', 'MINIVAN 3.3L LX', 'REG CAB 5.7L',\n",
       "       '4D SUV 4.8L LS', 'EXT MINIVAN 3.3L LX', '4D CROSSOVER SEL',\n",
       "       '4D SUV 4.7L ADVENTURER', '4D UTILITY 4.2L', 'QUAD CAB 5.7L SLT',\n",
       "       'REG CAB 2.5L', '4D CUV 2.2L XE', '4D SPORT UTILITY 3.5L XLS',\n",
       "       '4D SEDAN 2.5 S', '4D CUV 3.0L', 'PASSENGER 3.4L VALUE',\n",
       "       '4D SUV RENEGADE', 'CREW CAB 3.3L XE', '4D MINIVAN EXT 3.5L',\n",
       "       'PASSENGER EXT 3.9L LS', 'MINIVAN 3.8L TOURING',\n",
       "       'MINIVAN 3.3L CARGO', '4D SEDAN 1.8', 'CREW CAB 5.4L LARIAT',\n",
       "       '3D COUPE SC2', '4D SEDAN SE SVG', '4D SEDAN 1.8S',\n",
       "       '4D WAGON SPORT', 'EXT CAB 2.2L LS', 'EXT CAB 5.3L LS',\n",
       "       'REG CAB 3.7L ST', '4D SUV 5.7L HEMI LIMITED',\n",
       "       '2D CONVERTIBLE TOURING', '4D CROSSOVER SE', '4D SEDAN EXECUTIVE',\n",
       "       '2D CONVERTIBLE GTC', '4D SUV CXL', '4D SUV 5.3L', '4D SEDAN XLE',\n",
       "       '2D SPYDER GT', '4D WAGON LW300', '4D SUV 5.7L LIMITED', '4D CUV',\n",
       "       '2D COUPE LXI', '4D SUV 3.7L SXT', '4D SUV 5.4L EDDIE BAUER',\n",
       "       'MINIVAN 3.3L FFV SPORT', '4D UTILITY 5.3L FFV LS',\n",
       "       'CREW CAB 4.6L KING RANCH', 'QUAD CAB 4.7L ST', '4D SEDAN SE-R',\n",
       "       'EXT CAB 5.3L LT', '4D SEDAN HEMI', '4D SUV 4.0L',\n",
       "       'EXT CAB 2.8L LS', 'REG CAB 3.7L SXT', '4D SUV 3.7L SLT',\n",
       "       '4D SEDAN SES DURATEC', 'BASE', 'QUAD CAB 5.7L LARAMIE',\n",
       "       '4D SEDAN PREMIER', '4D SUV 5.3L LS', '4D WAGON SE DURATEC',\n",
       "       '4D WAGON LIMITED', 'WAGON 3.5L', 'MAZDA3 4D I SPORT',\n",
       "       '4D SPORT UTILITY I', '2D COUPE ZX3 S', '4D SUV SPORT 2.0L',\n",
       "       '4D SUV 4.2L LT', 'EXT CAB 3.7L SLT', '2D COUPE GL',\n",
       "       '2D HATCHBACK', '4D SUV 4.7L FFV SXT', '4D SPORTBACK LS',\n",
       "       'EXT CAB 4.8L', '4D CUV 3.5L', '4D SEDAN LIMITED TURBO',\n",
       "       'EXT CAB 5.6L XE', '4D WAGON SL', '4D SEDAN SE AWD',\n",
       "       'QUAD CAB 4.7L FFV SLT', '4D SEDAN SIGNATURE',\n",
       "       'PASSENGER EXT 3.4L', '4D SEDAN GTP', 'REG CAB 4.3L',\n",
       "       '4D SUV-PICKUP 5.3L Z66', '4D SEDAN 2.4I', 'PASSENGER 3.5L LS',\n",
       "       '4D SEDAN SEL AWD', 'PASSENGER EXT 3.5L LT', 'EXT CAB 4.8L LS',\n",
       "       '5D SEDAN ZX5', 'REG CAB 4.8L', '4D SUV 4.7L FFV SLT',\n",
       "       '4D UTILITY 4.8L SLE', 'EXT CAB 4.3L LS', '4D PASSENGER 3.8L SEL',\n",
       "       '4D SUV 4.7L SXT', 'CREW CAB 5.3L', 'MINIVAN 3.3L LX POPULAR',\n",
       "       '4D SEDAN CX', '4D SUV 5.3L FFV LT', '4D SUV 4.8L LT',\n",
       "       '4D WAGON LS', 'EXT CAB 4D 5.9L LARAMIE SLT', '2D HATCHBACK ZX3',\n",
       "       'EXT CAB 4.6L FX2 SPORT', 'EXT CAB 6.0L', 'EXT CAB 5.4L FX4',\n",
       "       'REG CAB 4.6L XL', '2D CONVERTIBLE LIMITED', '4D SEDAN SE COMFORT',\n",
       "       '4D CUV DELUXE', '4D SUV 5.9L SLT', 'REG CAB 4.6L STX',\n",
       "       'EXT CAB 5.3L SLE', '2D HATCHBACK GS', '4D WAGON CONVENIENCE',\n",
       "       'EXT CAB 5.3L LT Z71', 'REG CAB 2.3L EDGE', '4D SEDAN 2.5T',\n",
       "       '4D HATCHBACK ZX5 SE', '4D UTILITY 5.3L SLE',\n",
       "       '4D UTILITY 5.3L SLT', 'EXT CAB 5.4L XL', '2D QUAD COUPE LEVEL 3',\n",
       "       '4D SEDAN GS 3.0L FFV', '4D SUV 4.7L ST', '4D SUV 4.7L LIMITED',\n",
       "       '4D SEDAN ZX4 ST', 'CREW CAB 5.4L XL', '4D SUV 5.4L',\n",
       "       'QUAD CAB 5.9L', '4D SUV 4.6L XLS', '4D SUV SPORT 2.4L',\n",
       "       '4D PASSENGER 3.8L SE', 'CREW CAB 5.3L LS', '2D CONVERTIBLE GLS',\n",
       "       '4D SEDAN SEL DURATEC', '2D EXT CAB 3.0L EDGE', '4D SEDAN GT1',\n",
       "       '4D SEDAN LX 5SP', '2D COUPE LX AUTO', 'EXT CAB 3.9L SLT',\n",
       "       '4D SUV 4.0L XLT', 'REG CAB 4.7L', '4D SEDAN VP AUTO',\n",
       "       'QUAD CAB 4.7L FFV BIG HORN', '4D SUV 5.9L R/T',\n",
       "       '4D SPORT UTILITY LIMITED', '5D SEDAN S', '4D SEDAN DX',\n",
       "       '4D SUV 5.4L XLS', '4D SUV 4.6L EDDIE BAUER',\n",
       "       'MAZDA3 4D I TOURING VALUE', '4D SUV 2.2L 1LT', '4D SEDAN VALUE',\n",
       "       'REG CAB 2.3L', 'EXT CAB 5.6L LE', '4D SUV HARDTOP 2.2L LT',\n",
       "       'EXT CAB 4.6L XLT', '4D SPORT UTILITY PREMIUM', '4D SEDAN SX',\n",
       "       '2D COUPE SXT', 'QUAD CAB 3.7L ST', '4D SUV 5.3L FFV LS',\n",
       "       '4D SEDAN PKG2', 'EXT CAB 3.0L EDGE', '4D SEDAN SS',\n",
       "       '4D CUV 3.5L GLS', '4D SUV 2.4L LUXURY', '4D CUV 2.7L',\n",
       "       '4D SUV 3.7L ST', 'QUAD CAB 3.7L SLT', 'CREW CAB 2.8L',\n",
       "       'EXT CAB 3.5L LS', '2D CONVERTIBLE LX', 'EXT CAB 2.4L LE',\n",
       "       '4D PASSENGER 4.2L SEL', 'PASSENGER EXT 3.9L LT',\n",
       "       '4D SPORT UTILITY 2.5X', '4D SUV 3.0L PREMIER', 'CREW CAB 2.8L LS',\n",
       "       '4D SEDAN XR', '4D SUV 5.7L', '4D SEDAN ES HIGHLINE',\n",
       "       '2D COUPE GL1', '2D COUPE R/T', 'REG CAB 2.8L LS', 'CREW CAB 3.3L',\n",
       "       'QUAD CAB 4.7L SLT FFV', 'EXT CAB 4.7L SR5', '4D SEDAN DX AUTO',\n",
       "       '4D SEDAN LIMITED AWD', '4D WAGON SX', 'CREW CAB 5.4L KING RANCH',\n",
       "       '4D SPORT UTILITY S', '4D CUV GLS', '4D UTILITY 5.3L',\n",
       "       '4D SEDAN 2.5I', 'CREW CAB 4.8L', '4D SEDAN PKG1',\n",
       "       'CREW CAB 5.6L SE', '2D COUPE ZX5 S', '2D COUPE DX AUTO',\n",
       "       '4D SPORT UTILITY 3.5L XS', '4D SEDAN DE', '3D COUPE SC1',\n",
       "       '2D COUPE SE1', 'EXT CAB 5.4L KING RANCH', '4D SPORT UTILITY SR5',\n",
       "       '4D SEDAN ZX4 SE', '4D WAGON LX', '2D COUPE GTS', '2D COUPE AUTO',\n",
       "       '4D WAGON CX', 'DOUBLE CAB 4.7L SR5', '4D CUV 2.3L XLT',\n",
       "       'CREW CAB 5.3L LT', '4D SPORT UTILITY XE',\n",
       "       '4D UTILITY XUV 4.2L SLE', '4D HATCHBACK', 'MINIVAN 3.8L LIMITED',\n",
       "       'REG CAB 5.4L XLT', '4D SEDAN SLE', 'REG CAB 5.3L LS',\n",
       "       'REG CAB 2.2L', 'QUAD CAB 5.9L SLT', 'PASSENGER EXT 3.4L LT',\n",
       "       'EXT CAB LS 3.7L', 'MINIVAN 3.8L LX', '4D SUV 2.3L',\n",
       "       '4D CUV 3.0L LIMITED', 'MAZDA5 GRAND TOURING', 'EXT CAB 2.4L XE',\n",
       "       '4D SUV HARDTOP 2.5L', '2D COUPE ZX2', '4D WAGON GS',\n",
       "       '4D SEDAN FFV TOURING', 'WAGON LX', '4D SEDAN LTZ',\n",
       "       'MINIVAN 3.3L EL', '4D SUV 5.7L HEMI SLT',\n",
       "       'QUAD CAB 4.7L BIG HORN', '2D COUPE EX AUTO', '4D SEDAN LS SPORT',\n",
       "       '2D HARTOP CONVERTIBLE GT', '4D SPORT UTILITY GRAND TOURING A',\n",
       "       '4D SPORT UTILITY JS', 'REG CAB 4.3L SLE', 'EXT CAB 2.8L',\n",
       "       'EXT CAB 5.6L SE', 'MINIVAN 2.4L EC', 'EXT CAB 5.4L XLT',\n",
       "       'EXT CAB 3.7L SXT', '4D EXT CAB 4.0L EDGE', '4D EXT CAB 4.0L XL',\n",
       "       'EXT CAB 4.3L SLE', 'MINIVAN EX-L', '4D SEDAN LS FFV',\n",
       "       'CREW CAB 4.8L LS', '4D SEDAN CXS', '4D SPORT UTILITY JLX',\n",
       "       '4D SEDAN OZ', 'CREW CAB 5.6L', '4D SUV 4.6L LIMITED',\n",
       "       '4D SUV 2.3L CONVENIENCE', 'CREW CAB 3.5L LS',\n",
       "       '4D SUV 4.0L PREMIER', 'WAGON DX', '4D SEDAN TURBO',\n",
       "       '2D CONVERTIBLE DREAM CRUISER', '4D SEDAN LUXURY AWD',\n",
       "       '4D SUV 3.0L LUXURY', '4D UTILITY 6.0L DENALI', '4D SEDAN XLS',\n",
       "       'CREW CAB 4.7L SR5', 'REG CAB 3.0L XL', 'CREW CAB 3.5L Z71 LS',\n",
       "       '2D LIFTBACK GT', '4D SPORT UTILITY X', 'EXT CAB 4.7L',\n",
       "       '2D EXT CAB 4.0L EDGE', '4D SEDAN XRS', 'MINIVAN 3.8L SPORT',\n",
       "       'QUAD CAB 3.9L SLT', '4D WAGON LS PREMIUM', 'EXT CAB 4.2L XL',\n",
       "       'REG CAB 5.4L XL', 'QUAD CAB 4.7L FFV', 'PASSENGER EXT 3.9L',\n",
       "       '4D SEDAN GX', 'REG CAB 4.2L W/T', '4D SEDAN 3.5L SE',\n",
       "       '4D WAGON ZTW', '3D EXT CAB 4.3L', '4D MINIVAN 3.4L VALUE',\n",
       "       'CREW CAB 4.7L LIMITED', '4D WAGON OVERLAND', '2D COUPE GT1',\n",
       "       '2D CONVERTIBLE GT', '4D SEDAN XL', 'EXT CAB 2.2L FFV',\n",
       "       '4D SEDAN TYPE S NAVIGATION', '4D HATCHBACK AWD',\n",
       "       '4D SEDAN LS 3.6L', 'REG CAB 5.3L', 'CARGO 3.9L',\n",
       "       '4D SPORT UTILITY DX', '4D SUV 5.3L LT', '4D SEDAN AWD',\n",
       "       '2D CONVERTIBLE SE', '4D SEDAN GXP', '2D COUPE SVT',\n",
       "       '4D SEDAN ZX4 SES', '4D SEDAN Z24', '4D SEDAN GXE',\n",
       "       'EXT CAB 4.0L EDGE', '4D EXT CAB 3.0L EDGE', '4D SEDAN AWD 3.5L',\n",
       "       '4D SEDAN R/T', 'REG CAB 2.7L', '4D SPORT UTILITY XL7',\n",
       "       'PASSENGER EXT 3.4L WARNER BROS', 'CREW CAB 4.6L LARIAT',\n",
       "       'CREW CAB 4.0L LE', 'QUAD CAB 4.7L SPORT', '4D SEDAN LT 3.8L FFV',\n",
       "       '4D SEDAN SPORT', '4D HATCHBACK ZX5 SES', 'EXT CAB 4.2L XLT',\n",
       "       '2D COUPE GLS', '2D COUPE LTZ', 'EXT CAB 4.8L SLE',\n",
       "       '4D MINIVAN 3.4L', '4D SEDAN SPECIAL', 'EXT CAB 3.5L Z71 LS',\n",
       "       '4D UTILITY 4.2L SLT', '2D ROADSTER', 'REG CAB 2.4L', '4D CUV GL',\n",
       "       '4D WAGON LW200', 'MINIVAN 3.3L LXI', 'EXT CAB 3.5L SLE',\n",
       "       'WAGON 2.7L SE', '4D SEDAN AWD SEL', 'PASSENGER 3.9L LIMITED',\n",
       "       'REG CAB 3.4L', '2D COUPE LX', '4D WAGON R/T', '4D WAGON LL BEAN',\n",
       "       '2D COUPE SE AUTO', 'MINIVAN 3.8L ES', 'ACCESS CAB 4.7L SR5',\n",
       "       '2D CONVERTIBLE SLE', 'REG CAB 2.2L SL',\n",
       "       '4D SPORT UTILITY HYBRID LIMITED', 'REG CAB 3.5L LS',\n",
       "       '4D SEDAN EX 5SP', 'MEGA CAB 5.7L', '4D PASSENGER 3.8L SE SPORT',\n",
       "       'REG CAB 2.3L XLT', 'CREW CAB 5.4L FFV FX4', '4D SEDAN 2.5L',\n",
       "       '4D SPORT UTILITY XSPORT', 'REG CAB 4.7L FFV', 'REG CAB 4.6L XLT',\n",
       "       '4D SUV 4.7L SL', 'EXT CAB 4.0L LE', '4D WAGON LAREDO FFV',\n",
       "       '4D SUV 2.5L PREMIER', 'REG CAB 2.3L XL', '4D SUV 5.3L FFV Z71',\n",
       "       'QUAD CAB 4.7L LARAMIE', 'CREW CAB 5.4L XLT',\n",
       "       '4D WAGON GRAND TOURING', 'REG CAB 4.2L XLT',\n",
       "       '4D SUV 2.2L PANEL LS', '4D WAGON ZX5', 'REG CAB 3.9L',\n",
       "       '3D EXT CAB 2.2L FFV', '4D SEDAN AWD SE', 'CREW CAB 3.5L SLE',\n",
       "       '4D SPORT UTILITY SPORT EDITION', '4D SEDAN SE AUTO',\n",
       "       '4D SEDAN VP 5SP', '4D SEDAN 2.5 SL',\n",
       "       'CREW CAB 5.4L HARLEY DAVIDSON', '2D COUPE GT PREMIUM',\n",
       "       '4D SPORT UTILITY 4XMOTION', 'REG CAB 5.7L HEMI',\n",
       "       'EXT CAB 3.7L ST', 'EXT CAB 3.9L', 'REG CAB 2.2L FFV SL',\n",
       "       'EXT CAB 4.0L SE', 'REG CAB 2.5L XLT', '5D SEDAN GS',\n",
       "       '4D SEDAN 2.5L PKG 2', '2D COUPE GTP', '4D SEDAN CARTIER',\n",
       "       '2D CONVERTIBLE LXI', 'EXT CAB 4.3L SL', 'REG CAB 4.7L SLT',\n",
       "       'REG CAB 3.5L Z71', '2D COUPE LX 5SP', 'EXT CAB 3.9L SXT',\n",
       "       '4D UTILITY 5.3L FFV LT', '4D SUV 4.0L LIMITED', '4D WAGON ZXW',\n",
       "       '4D SEDAN 2.0L GL', 'EXT CAB 6.0L LS', 'EXT CAB 3.5L',\n",
       "       '4D SEDAN TYPE S', '2D EXT CAB 3.0L XLT', 'EXT CAB 2.4L',\n",
       "       '2D COUPE EX 5SP', '5D MINIVAN CE', '4D SPORT UTILITY SXT',\n",
       "       'CREW CAB 3.5L SL', '4D SUV 3.7L SE', 'CREW CAB 5.4L FX4',\n",
       "       '4D MINIVAN EXT 3.4L GL', '4D SUV 2.4L', '4D HATCHBACK GS',\n",
       "       '4D SEDAN SIGNATURE LTD', '4D EXT CAB 3.0L FFV XLT',\n",
       "       '4D SEDAN 2.5 SE', '2D HATCHBACK GT', '4D SEDAN ZX5',\n",
       "       '4D SEDAN SE COMFORT DURATEC', 'EXT CAB 4.7L LIMITED',\n",
       "       'EXT CAB 4.7L ST', 'EXT CAB 4.6L LARIAT FX4 OFF-RD',\n",
       "       '4D WAGON R/T AWD', 'EXT CAB 4.7L SLT', 'EXT CAB 3.0L SE',\n",
       "       '4D SEDAN O-Z RALLY', 'JEEP X', 'REG CAB 5.9L SLT', '4D SEDAN SVT',\n",
       "       '2D EXT CAB 3.0L SE', '4D SUV 5.9L SXT', '4D SEDAN L AWD',\n",
       "       'REG CAB 2.9L LS', '2D COUPE RS', 'WAGON R/T',\n",
       "       'CREW CAB 5.4L FX2 SPORT', 'EXT CAB 4.6L XL', '4D SUV 6.0L LS',\n",
       "       'EXT CAB 3.0L XLT', '4D HARDTOP JLS', 'DOUBLE CAB LS 3.7L',\n",
       "       'EXT CAB 3.4L PRERUNNER SR5', 'REG CAB 5.4L FX4', 'MINIVAN 3.3',\n",
       "       '4D UTILITY 4.8L SLT', 'PASSENGER 4.2L SE', 'CREW CAB 4.3L LS',\n",
       "       'CREW CAB 4.0L SE', '2D COUPE Z24', '4D SEDAN NAVIGATION',\n",
       "       '4D SEDAN GT TURBO', '4D HATCHBACK ZX5', 'EXT CAB 3.9L SPORT',\n",
       "       'REG CAB 4.0L EDGE', '4D SUV 2.2L PANEL SS',\n",
       "       '4D SPORT UTILITY TOURING NAV', '4D WAGON SE FFV',\n",
       "       '4D SUV 4.7L SLT PLUS', 'EXT CAB 8.1L LS', '4D SEDAN GTS', nan,\n",
       "       '4D SEDAN HYBRID', '2D COUPE ZX3 SES', 'MINIVAN 3.8L EL',\n",
       "       '4D UTILITY 5.3L FFV Z71', 'CARGO EXT 3.5L LT', '4D UTILITY 4.8L',\n",
       "       'EXT CAB 5.4L HARLEY DAVIDSON', 'EXT CAB 2.9L LS', '4D WAGON 2.5I',\n",
       "       'PASSENGER 3.4L LS', 'EXT CAB 4.0L XLT', 'CREW CAB 2.9L LT',\n",
       "       'MEGA CAB 5.7L SLT', 'CREW CAB 3.5L',\n",
       "       '4D SPORT UTILITY SE SUPERCHARGED', '2D SUV CONVERTIBLE 2.0L',\n",
       "       'EXT CAB 5.9L R/T', 'DOUBLE CAB DURO CROSS 3.7L', '4D WAGON CINCO',\n",
       "       '2D COUPE EX 6SP', 'WAGON SXT AWD', '4D SEDAN LT CLASSIC',\n",
       "       '4D WAGON OUTBACK', '4D UTILITY 5.3L LT', '2D SEDAN',\n",
       "       '4D UTILITY XUV 5.3L SLE', 'WAGON ES', '4D SEDAN RALLIART',\n",
       "       '4D WAGON FREEDOM', '4D SEDAN CARTIER L', '4D WAGON LUXURY',\n",
       "       '2D HATCKBACK SI 5SP', 'REG CAB 3.9L SXT', 'EXT CAB 4.3L W/T',\n",
       "       '4D SPORT UTILITY TOURING', '4D SPORT UTILITY LUXURY', 'UTILITY',\n",
       "       '4D WAGON SEL', '2D HATCHBACK S', 'REG CAB 6.0L LS',\n",
       "       'REG CAB 4.6L W/T', '4D SEDAN 1LT', '4D SEDAN 3.5L SXT',\n",
       "       'REG CAB 2.5L EDGE', '4D SEDAN 3.5L AWD', '4D EXT CAB 3.0L',\n",
       "       '2D SUV 4.0L SPORT XLT', 'REG CAB 4.7L ST', 'REG CAB 4.0L XL',\n",
       "       'QUAD CAB 3.7L SXT', 'EXT CAB DURO CROSS 3.7L',\n",
       "       '4D SUV 4.0L EDDIE BAUER', '2D SEDAN GX', '4D SEDAN 6SP',\n",
       "       'CREW CAB 3.3L SE', '4D WAGON CLASSIC', '4D SPORT UTILITY LX AUTO',\n",
       "       '4D SEDAN MAZDASPEED', '4D SUV 5.3L XLT', '4D SUV-PICKUP 8.1L',\n",
       "       'SPORT UTILITY 7 PASSENGER', 'REG CAB 4.8L SLE', 'REG CAB 3.5L SL',\n",
       "       'CREW CAB 6.0L', '2D EXT CAB 3.0L DUAL SPORT FFV',\n",
       "       '2D EXT CAB 3.0L XL', '4D SPORT UTILITY EX-P', 'REG CAB 4.8L SL',\n",
       "       'CREW CAB 6.0L LT', 'MINIVAN 3.3L FFV EL', '2D COUPE 5SP',\n",
       "       '4D SPORT UTILITY 5 PASS', '4D MINIVAN EXT 3.4L GLS',\n",
       "       '4D UTILITY DENALI 6.0L', '4D SEDAN EX AUTO NAVIGATION',\n",
       "       '5D HATCHBACK S', '4D EXT CAB 3.0L XLT', '4D SEDAN ZX4 S',\n",
       "       'REG CAB 3.0L XLT', 'REG CAB 5.4L W/T', '4D HARDTOP LX',\n",
       "       '4D SEDAN 2.5RS', '4D SEDAN PREMIER AWD', 'EXT CAB 5.4L FX2 SPORT',\n",
       "       'WAGON 4D', 'QUAD CAB 5.9L SPORT', 'REG CAB 6.0L', '4D WAGON 1.8L',\n",
       "       'DOUBLE CAB LS SPECIAL 3.7L', '2D ROADSTER GXP', '5D MINIVAN LE',\n",
       "       'MINIVAN EX', 'CARGO EXT 3.9L', 'REG CAB 3.7L LS',\n",
       "       '4D CUV 2.0L XLT', '4D WAGON SE COMFORT DURATEC', '4D SUV 2.4L LT',\n",
       "       '4D CROSSOVER SEL PLUS', 'REG CAB 4.3L W/T', 'REG CAB 5.3L SLE',\n",
       "       '4D SUV LIMITED 2.4L', 'EXT CAB 2.5L',\n",
       "       '4D SPORT UTILITY LIMITED FFV', '4D SEDAN AUTO',\n",
       "       'EXT CAB 4.7L FFV ST', '4D SUV 5.7L HEMI', 'EXT CAB 4.0L NISMO',\n",
       "       'EXT CAB LS SPECIAL 3.7L', '2D COUPE DX 5SP', '4D UTILITY 6.0L',\n",
       "       '4D WAGON SE COMFORT', '2D SPYDER GTS',\n",
       "       '4D SPORT UTILITY OFF-ROAD', '4D PASSENGER 3.8L SEL LIMITED',\n",
       "       '4D SUV ULTRA', '4D SPORT UTILITY TOURING NAV DVD',\n",
       "       'REG CAB 2.7L PRERUNNER SR5', '4D WAGON L', '4D HARDTOP EX',\n",
       "       'CREW CAB 5.6L XE', 'EXT CAB 4D 5.2L LARAMIE SLT',\n",
       "       '4D SEDAN 2.5L GLS', 'QUAD CAB 3.9L SPORT',\n",
       "       'EXT CAB 5.4L HERITAGE', 'JEEP SPORT', '4D EXT CAB 4.0L XLT',\n",
       "       'REG CAB 3.7L STAMPEDE', '2D EXT CAB 3.0L', '2D EXT CAB 2.3L EDGE',\n",
       "       '4D SEDAN 2.7L SXT', '4D EXT CAB 3.0L XL', '4D SUV 4.0L LUXURY',\n",
       "       'EXT CAB 2.4L SE', '4D SUV 5.9L SLT PLUS', 'REG CAB 3.7L SLT',\n",
       "       'REG CAB 3.9L SPORT', 'EXT CAB 5.3L SL', 'EXT CAB 6.0L SLE',\n",
       "       '4D SEDAN VALUE AUTO', 'REG CAB 5.2L LARAMIE',\n",
       "       '4D SPORT WAGON 2.5I', '4D SEDAN VALUE PACKAGE AUTO',\n",
       "       '4D WAGON SEL DURATEC', '2D EXT CAB 4.0L XL', '4D WAGON CXL',\n",
       "       'EXT CAB 3.3L XE', 'REG CAB 3.0L SPORT',\n",
       "       '2D COUPE DX VALUE PACKAGE AUTO', 'REG CAB 2.3L STX',\n",
       "       '4D SUV 4.2L LTZ', '4D SUV HARDTOP 2.5L ZR2',\n",
       "       '4D SUV 4.0L SPORT TRAC FFV XLS', 'ACCESS CAB 4.0L SR5',\n",
       "       'CREW CAB 5.7L LIMITED', 'QUAD CAB 4.7L FFV LONESTAR',\n",
       "       'MINIVAN 3.3L FFV SXT', '2D COUPE GX', '4D CUV 3.6L XE',\n",
       "       'CREW CAB 3.4L PRERUNNER', '4D WAGON OUTBACK SPORT',\n",
       "       '4D SUV HARDTOP 2.2L ZR2', '4D SEDAN HYBRID AUTO',\n",
       "       '4D SUV 4.7L FFV LIMITED', '4D EXT CAB 4.0L FX4'], dtype=object)"
      ]
     },
     "execution_count": 6,
     "metadata": {},
     "output_type": "execute_result"
    }
   ],
   "source": [
    "df['SubModel'].unique()"
   ]
  },
  {
   "cell_type": "code",
   "execution_count": 7,
   "metadata": {},
   "outputs": [],
   "source": [
    "a = df.index"
   ]
  },
  {
   "cell_type": "code",
   "execution_count": 8,
   "metadata": {},
   "outputs": [],
   "source": [
    "#Convertible\n",
    "for x in a:\n",
    "    txt = str(df.iat[x, 9])\n",
    "    if re.search(\" CONVERTIBLE \", txt) or re.search(\" CONVERTIBLE\", txt) or re.search(\"CONVERTIBLE \", txt):\n",
    "        df.iat[x, 35] = \"Convertible\""
   ]
  },
  {
   "cell_type": "code",
   "execution_count": 9,
   "metadata": {},
   "outputs": [],
   "source": [
    "#Sedan\n",
    "for x in a:\n",
    "    txt = str(df.iat[x, 9])\n",
    "    if re.search(\" SEDAN \", txt) or re.search(\" SEDAN\", txt) or re.search(\"SEDAN \", txt):\n",
    "        df.iat[x, 35] = \"Sedan\""
   ]
  },
  {
   "cell_type": "code",
   "execution_count": 10,
   "metadata": {},
   "outputs": [],
   "source": [
    "#Hatchback\n",
    "for x in a:\n",
    "    txt = str(df.iat[x, 9])\n",
    "    if re.search(\" HATCHBACK \", txt) or re.search(\" HATCHBACK\", txt) or re.search(\" HATCKBACK \", txt):\n",
    "        df.iat[x, 35] = \"Hatchback\""
   ]
  },
  {
   "cell_type": "code",
   "execution_count": 11,
   "metadata": {},
   "outputs": [],
   "source": [
    "#Wagon\n",
    "for x in a:\n",
    "    txt = str(df.iat[x, 9])\n",
    "    if re.search(\" WAGON \", txt) or re.search(\"WAGON \", txt) or re.search(\" WAGON\", txt):\n",
    "        df.iat[x, 35] = \"Wagon\""
   ]
  },
  {
   "cell_type": "code",
   "execution_count": 12,
   "metadata": {},
   "outputs": [],
   "source": [
    "#Truck (i vari tipi di CAB sono varie configurazioni dei Truck)\n",
    "for x in a:\n",
    "    txt = str(df.iat[x, 9])\n",
    "    if re.search(\" CAB \", txt) or re.search(\"CAB \", txt) or re.search(\" CAB\", txt):\n",
    "        df.iat[x, 35] = \"Truck\""
   ]
  },
  {
   "cell_type": "code",
   "execution_count": 13,
   "metadata": {},
   "outputs": [],
   "source": [
    "#SUV\n",
    "for x in a:\n",
    "    txt = str(df.iat[x, 9])\n",
    "    if re.search(\" SUV \", txt) or re.search(\" SUV\", txt) or re.search(\" SUV*\", txt) or re.search(\"SUV \", txt) or re.search(\"SPORT UTILITY\", txt) or re.search(\" SPORT UTILITY \", txt) or re.search(\" SPORT UTILITY\", txt):\n",
    "        df.iat[x, 35] = \"SUV\""
   ]
  },
  {
   "cell_type": "code",
   "execution_count": 14,
   "metadata": {},
   "outputs": [],
   "source": [
    "#Crossover\n",
    "for x in a:\n",
    "    txt = str(df.iat[x, 9])\n",
    "    if re.search(\" CROSSOVER \", txt) or re.search(\"CROSSOVER \", txt) or re.search(\" CROSSOVER\", txt) or re.search(\" CUV \", txt) or re.search(\"CUV \", txt) or re.search(\" CUV\", txt) or re.search(\"XUV\", txt):\n",
    "        df.iat[x, 35] = \"Crossover\""
   ]
  },
  {
   "cell_type": "code",
   "execution_count": 15,
   "metadata": {},
   "outputs": [],
   "source": [
    "#Coupe\n",
    "for x in a:\n",
    "    txt = str(df.iat[x, 9])\n",
    "    if re.search(\" COUPE \", txt) or re.search(\" COUPE\", txt) or re.search(\"COUPE \", txt):\n",
    "        df.iat[x, 35] = \"Coupe\""
   ]
  },
  {
   "cell_type": "code",
   "execution_count": 16,
   "metadata": {},
   "outputs": [],
   "source": [
    "#Van\n",
    "for x in a:\n",
    "    txt = str(df.iat[x, 9])\n",
    "    if re.search(\" MINIVAN \", txt) or re.search(\" MINIVAN\", txt) or re.search(\"MINIVAN \", txt) or re.search(\" VAN \", txt) or re.search(\"VAN \", txt) or re.search(\" VAN\", txt):\n",
    "        df.iat[x, 35] = \"Van\""
   ]
  },
  {
   "cell_type": "code",
   "execution_count": 17,
   "metadata": {},
   "outputs": [],
   "source": [
    "#Jeep\n",
    "for x in a:\n",
    "    txt = str(df.iat[x, 9])\n",
    "    if re.search(\"JEEP \", txt):\n",
    "        df.iat[x, 35] = \"Jeep\""
   ]
  },
  {
   "cell_type": "markdown",
   "metadata": {},
   "source": [
    "#### Ora guardo Size"
   ]
  },
  {
   "cell_type": "code",
   "execution_count": 18,
   "metadata": {},
   "outputs": [],
   "source": [
    "b = df[df[\"BodyStyle\"]==\"nan\"].index"
   ]
  },
  {
   "cell_type": "code",
   "execution_count": 19,
   "metadata": {},
   "outputs": [],
   "source": [
    "#Crossover\n",
    "for x in b:\n",
    "    txt = str(df.iat[x, 16])\n",
    "    if re.search(\"CROSSOVER\", txt):\n",
    "        df.iat[x, 35] = \"Crossover\""
   ]
  },
  {
   "cell_type": "code",
   "execution_count": 20,
   "metadata": {},
   "outputs": [],
   "source": [
    "#Truck\n",
    "for x in b:\n",
    "    txt = str(df.iat[x, 16])\n",
    "    if re.search(\"SMALL TRUCK\", txt):\n",
    "        df.iat[x, 35] = \"Truck\""
   ]
  },
  {
   "cell_type": "code",
   "execution_count": 21,
   "metadata": {},
   "outputs": [],
   "source": [
    "#SUV\n",
    "for x in b:\n",
    "    txt = str(df.iat[x, 16])\n",
    "    if re.search(\"LARGE SUV\", txt) or re.search(\"MEDIUM SUV\", txt) or re.search(\"SMALL SUV\", txt):\n",
    "        df.iat[x, 35] = \"SUV\""
   ]
  },
  {
   "cell_type": "code",
   "execution_count": 22,
   "metadata": {},
   "outputs": [],
   "source": [
    "#Van\n",
    "for x in b:\n",
    "    txt = str(df.iat[x, 16])\n",
    "    if re.search(\"VAN\", txt):\n",
    "        df.iat[x, 35] = \"Van\""
   ]
  },
  {
   "cell_type": "markdown",
   "metadata": {},
   "source": [
    "#### Ora guardo Model"
   ]
  },
  {
   "cell_type": "code",
   "execution_count": 23,
   "metadata": {},
   "outputs": [],
   "source": [
    "c = df[df[\"BodyStyle\"]==\"nan\"].index #model index 7\n",
    "df1 = df[df[\"BodyStyle\"]==\"nan\"]"
   ]
  },
  {
   "cell_type": "code",
   "execution_count": 24,
   "metadata": {},
   "outputs": [],
   "source": [
    "#Sedan\n",
    "for x in c:\n",
    "    txt = str(df.iat[x, 7])\n",
    "    if re.search(\"MAZDA3\", txt) or re.search(\"LANCER\", txt) or re.search(\"STRATUS\", txt) or re.search(\"TAURUS\", txt) or re.search(\"IMPALA 3.4L V6 SFI\", txt) or re.search(\"GRAND AM V6 3.4L V6\", txt):\n",
    "        df.iat[x, 35] = \"Sedan\""
   ]
  },
  {
   "cell_type": "code",
   "execution_count": 25,
   "metadata": {},
   "outputs": [],
   "source": [
    "#Convertible\n",
    "for x in c:\n",
    "    txt = str(df.iat[x, 7])\n",
    "    if re.search(\"ECLIPSE\", txt) or re.search(\"SOLSTICE\", txt):\n",
    "        df.iat[x, 35] = \"Convertible\""
   ]
  },
  {
   "cell_type": "code",
   "execution_count": 26,
   "metadata": {},
   "outputs": [],
   "source": [
    "#Truck\n",
    "for x in c:\n",
    "    txt = str(df.iat[x, 7])\n",
    "    if re.search(\"SIERRA 1500\", txt):\n",
    "        df.iat[x, 35] = \"Truck\""
   ]
  },
  {
   "cell_type": "code",
   "execution_count": 27,
   "metadata": {},
   "outputs": [],
   "source": [
    "#Coupe\n",
    "for x in c:\n",
    "    txt = str(df.iat[x, 7])\n",
    "    if re.search(\"CELICA\", txt):\n",
    "        df.iat[x, 35] = \"Coupe\""
   ]
  },
  {
   "cell_type": "code",
   "execution_count": 28,
   "metadata": {},
   "outputs": [
    {
     "data": {
      "text/plain": [
       "Sedan          33900\n",
       "SUV             8526\n",
       "Van             4468\n",
       "Wagon           3320\n",
       "Truck           3147\n",
       "Crossover       2334\n",
       "Coupe           2096\n",
       "Convertible      398\n",
       "Hatchback        191\n",
       "Jeep               6\n",
       "Name: BodyStyle, dtype: int64"
      ]
     },
     "execution_count": 28,
     "metadata": {},
     "output_type": "execute_result"
    }
   ],
   "source": [
    "df[\"BodyStyle\"].value_counts()"
   ]
  },
  {
   "cell_type": "code",
   "execution_count": 29,
   "metadata": {},
   "outputs": [
    {
     "data": {
      "text/plain": [
       "0"
      ]
     },
     "execution_count": 29,
     "metadata": {},
     "output_type": "execute_result"
    }
   ],
   "source": [
    "df[\"BodyStyle\"].isnull().sum()"
   ]
  },
  {
   "cell_type": "markdown",
   "metadata": {},
   "source": [
    "<p> Non ci sono missing values.</p>"
   ]
  },
  {
   "cell_type": "code",
   "execution_count": 30,
   "metadata": {},
   "outputs": [
    {
     "data": {
      "image/png": "[encoded data removed]",
      "text/plain": [
       "<Figure size 432x288 with 1 Axes>"
      ]
     },
     "metadata": {
      "needs_background": "light"
     },
     "output_type": "display_data"
    }
   ],
   "source": [
    "(df['BodyStyle'].value_counts(normalize=True)*100).plot(kind='bar', \n",
    "                                   title='BodyStyle')\n",
    "plt.show() "
   ]
  },
  {
   "cell_type": "code",
   "execution_count": 31,
   "metadata": {},
   "outputs": [
    {
     "data": {
      "image/png": "[encoded data removed]",
      "text/plain": [
       "<Figure size 432x288 with 1 Axes>"
      ]
     },
     "metadata": {},
     "output_type": "display_data"
    }
   ],
   "source": [
    "#Pie chart of BodyStyle\n",
    "# Data to plot\n",
    "labels = 'Sedan', 'SUV', 'Van', 'Other'\n",
    "sizes = [33900, 8526, 4468, 11492]\n",
    "colors = ['gold', 'lightcoral', 'lightskyblue','lightgreen']\n",
    "explode = (0, 0, 0, 0)  # explode 1st slice\n",
    "\n",
    "# Plot\n",
    "plt.pie(sizes, explode=explode, labels=labels, colors=colors, autopct='%1.1f%%', shadow=True, startangle=140)\n",
    "\n",
    "plt.axis('equal')\n",
    "plt.show()"
   ]
  },
  {
   "cell_type": "markdown",
   "metadata": {},
   "source": [
    "<p>Le macchne più comprate sono le Sedan (58,1%) seguite dai SUV (14,6%)</p>"
   ]
  },
  {
   "cell_type": "code",
   "execution_count": 32,
   "metadata": {},
   "outputs": [],
   "source": [
    "# vage\n",
    "vage_xt = pd.crosstab(df['BodyStyle'], df['IsBadBuy']) #the result of this corsstable will be assigned to a variable"
   ]
  },
  {
   "cell_type": "code",
   "execution_count": 33,
   "metadata": {},
   "outputs": [],
   "source": [
    "# Normalize the cross tab to sum to 1:\n",
    "vage_xt_pct = vage_xt.div(vage_xt.sum(1).astype(float), axis=0)"
   ]
  },
  {
   "cell_type": "code",
   "execution_count": 36,
   "metadata": {},
   "outputs": [
    {
     "data": {
      "image/png": "[encoded data removed]",
      "text/plain": [
       "<Figure size 367.2x216 with 1 Axes>"
      ]
     },
     "metadata": {
      "needs_background": "light"
     },
     "output_type": "display_data"
    }
   ],
   "source": [
    "#Then I can visualize it with a bar plot (staked: different values in the same bar)\n",
    "#vage_xt_pct.plot(kind='bar', stacked=True, \n",
    "#                   title='Bad/good buy by body style')\n",
    "vage_xt_pct.plot(kind='bar', stacked=True, figsize=(5.1,3))\n",
    "plt.xlabel('Body Style')\n",
    "plt.ylabel('Bad Buy Ratio')\n",
    "plt.show()"
   ]
  },
  {
   "cell_type": "markdown",
   "metadata": {},
   "source": [
    "<p>Le Jeep sono sempre un buon acquisto (solo 6 Jeep, dato non significativo), come le Sedan in media</p>\n",
    "<p>In Convertible e Coupe si registra il maggior numero di cattivi acquisti (pochi valori)</p>\n",
    "<p>Per SUV sono registrati più cattivi acquisti di quelli registrati per Sedan</p>"
   ]
  },
  {
   "cell_type": "markdown",
   "metadata": {},
   "source": [
    "### TrimLevel"
   ]
  },
  {
   "cell_type": "code",
   "execution_count": null,
   "metadata": {},
   "outputs": [],
   "source": [
    "e = df.index"
   ]
  },
  {
   "cell_type": "code",
   "execution_count": null,
   "metadata": {},
   "outputs": [],
   "source": [
    "df['SubModel'].unique()"
   ]
  },
  {
   "cell_type": "code",
   "execution_count": null,
   "metadata": {},
   "outputs": [],
   "source": [
    "#Standard\n",
    "for x in a:\n",
    "    txt = str(df.iat[x, 9])\n",
    "    if re.search(\" SL \", txt) or re.search(\" SL\", txt) or re.search(\"BASE\", txt) or re.search(\" SLE \", txt) or re.search(\" SLE\", txt) or re.search(\" SLT \", txt) or re.search(\" SLT\", txt):\n",
    "        df.iat[x, 34] = \"Standard\""
   ]
  },
  {
   "cell_type": "code",
   "execution_count": null,
   "metadata": {},
   "outputs": [],
   "source": [
    "#Deluxe\n",
    "for x in a:\n",
    "    txt = str(df.iat[x, 9])\n",
    "    if re.search(\" DX \", txt) or re.search(\" DX\", txt) or re.search(\" DL \", txt) or re.search(\" DL\", txt):\n",
    "        df.iat[x, 34] = \"Deluxe\""
   ]
  },
  {
   "cell_type": "code",
   "execution_count": null,
   "metadata": {},
   "outputs": [],
   "source": [
    "#Luxury\n",
    "for x in a:\n",
    "    txt = str(df.iat[x, 9])\n",
    "    if re.search(\" LS \", txt) or re.search(\" LS\", txt) or re.search(\" LX \", txt) or re.search(\" LX\", txt) or re.search(\" LE \", txt) or re.search(\" XLT \", txt) or re.search(\" LT \", txt) or re.search(\" LT\", txt) or re.search(\" LUXURY \", txt) or re.search(\" LUXURY\", txt) or re.search(\" LIMITED \", txt) or re.search(\" LIMITED\", txt):\n",
    "        df.iat[x, 34] = \"Luxury\""
   ]
  },
  {
   "cell_type": "code",
   "execution_count": null,
   "metadata": {},
   "outputs": [],
   "source": [
    "#Gran Turismo\n",
    "for x in a:\n",
    "    txt = str(df.iat[x, 9])\n",
    "    if re.search(\" GT \", txt) or re.search(\" GT\", txt):\n",
    "        df.iat[x, 34] = \"Gran Turismo\""
   ]
  },
  {
   "cell_type": "code",
   "execution_count": null,
   "metadata": {},
   "outputs": [],
   "source": [
    "#Sport\n",
    "for x in a:\n",
    "    txt = str(df.iat[x, 9])\n",
    "    if re.search(\" SE \", txt) or re.search(\" SE\", txt) or re.search(\" S \", txt) or re.search(\" S\", txt) or re.search(\" SPORT \", txt) or re.search(\" SPORT\", txt) or re.search(\"SPORT \", txt):\n",
    "        df.iat[x, 34] = \"Sport\""
   ]
  },
  {
   "cell_type": "code",
   "execution_count": null,
   "metadata": {},
   "outputs": [],
   "source": [
    "#Touring\n",
    "for x in a:\n",
    "    txt = str(df.iat[x, 9])\n",
    "    if re.search(\" GT \", txt):\n",
    "        df.iat[x, 34] = \"Touring\""
   ]
  },
  {
   "cell_type": "code",
   "execution_count": null,
   "metadata": {},
   "outputs": [],
   "source": [
    "df[\"TrimLevel\"].value_counts()"
   ]
  },
  {
   "cell_type": "markdown",
   "metadata": {},
   "source": [
    "#####  Info at\n",
    "<p>https://www.carwow.co.uk/guides/choosing/car-body-types-guide-0631 - Body</p>\n",
    "<p>https://www.liveabout.com/glx-gls-se-si-lx-what-do-they-mean-4083747 - Trim</p>\n",
    "<p>https://www.valuepenguin.com/auto-insurance/car-make-model</p>\n",
    "<p>https://www.autosimple.com/blog/car-body-styles/ - Body</p>\n",
    "<p>https://www.galetoyota.com/blog/what-are-the-different-toyota-trim-levels/ - Trim</p>\n",
    "<p>https://www.quora.com/What-do-LE-CE-SE-XLE-and-S-indicate-in-car-trims - Trim</p>\n",
    "<p>https://www.gorhino.com/how-to-fitment --> CAB Types</p>\n",
    "<p>https://www.cartrade.com/blog/2013/auto-guides/different-car-body-types-494.html - Body</p>\n",
    "<p>https://en.wikipedia.org/wiki/Car_classification#SUVs_/_off-road_vehicles - Body</p>"
   ]
  },
  {
   "cell_type": "code",
   "execution_count": null,
   "metadata": {},
   "outputs": [],
   "source": []
  }
 ],
 "metadata": {
  "kernelspec": {
   "display_name": "Python 3",
   "language": "python",
   "name": "python3"
  },
  "language_info": {
   "codemirror_mode": {
    "name": "ipython",
    "version": 3
   },
   "file_extension": ".py",
   "mimetype": "text/x-python",
   "name": "python",
   "nbconvert_exporter": "python",
   "pygments_lexer": "ipython3",
   "version": "3.7.5"
  }
 },
 "nbformat": 4,
 "nbformat_minor": 4
}
