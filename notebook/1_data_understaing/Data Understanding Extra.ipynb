{
 "cells": [
  {
   "cell_type": "code",
   "execution_count": 1,
   "metadata": {},
   "outputs": [],
   "source": [
    "%matplotlib inline\n",
    "import sys\n",
    "sys.path.insert(1, '../../script/')"
   ]
  },
  {
   "cell_type": "code",
   "execution_count": 2,
   "metadata": {},
   "outputs": [],
   "source": [
    "import math\n",
    "import numpy as np\n",
    "import pandas as pd\n",
    "import scipy.stats as stats\n",
    "import matplotlib.pyplot as plt\n",
    "import seaborn as sns\n",
    "import missingno as msno\n",
    "\n",
    "from collections import defaultdict\n",
    "from scipy.stats.stats import pearsonr"
   ]
  },
  {
   "cell_type": "code",
   "execution_count": 3,
   "metadata": {},
   "outputs": [],
   "source": [
    "df = pd.read_csv('../../data/training.csv') "
   ]
  },
  {
   "cell_type": "code",
   "execution_count": 5,
   "metadata": {},
   "outputs": [
    {
     "data": {
      "text/plain": [
       "Index(['RefId', 'IsBadBuy', 'PurchDate', 'Auction', 'VehYear', 'VehicleAge',\n",
       "       'Make', 'Model', 'Trim', 'SubModel', 'Color', 'Transmission',\n",
       "       'WheelTypeID', 'WheelType', 'VehOdo', 'Nationality', 'Size',\n",
       "       'TopThreeAmericanName', 'MMRAcquisitionAuctionAveragePrice',\n",
       "       'MMRAcquisitionAuctionCleanPrice', 'MMRAcquisitionRetailAveragePrice',\n",
       "       'MMRAcquisitonRetailCleanPrice', 'MMRCurrentAuctionAveragePrice',\n",
       "       'MMRCurrentAuctionCleanPrice', 'MMRCurrentRetailAveragePrice',\n",
       "       'MMRCurrentRetailCleanPrice', 'PRIMEUNIT', 'AUCGUART', 'BYRNO',\n",
       "       'VNZIP1', 'VNST', 'VehBCost', 'IsOnlineSale', 'WarrantyCost'],\n",
       "      dtype='object')"
      ]
     },
     "execution_count": 5,
     "metadata": {},
     "output_type": "execute_result"
    }
   ],
   "source": [
    "df.columns"
   ]
  },
  {
   "cell_type": "markdown",
   "metadata": {},
   "source": [
    "## TOP LINE ASIAN -> ASIAN"
   ]
  },
  {
   "cell_type": "code",
   "execution_count": 10,
   "metadata": {},
   "outputs": [
    {
     "data": {
      "text/plain": [
       "AMERICAN          48800\n",
       "OTHER ASIAN        6435\n",
       "TOP LINE ASIAN     2995\n",
       "OTHER               152\n",
       "Name: Nationality, dtype: int64"
      ]
     },
     "execution_count": 10,
     "metadata": {},
     "output_type": "execute_result"
    }
   ],
   "source": [
    "df[\"Nationality\"].value_counts()"
   ]
  },
  {
   "cell_type": "code",
   "execution_count": 29,
   "metadata": {},
   "outputs": [
    {
     "name": "stdout",
     "output_type": "stream",
     "text": [
      "Int64Index([    6,    27,    49,    50,   105,   136,   161,   165,   179,\n",
      "              184,\n",
      "            ...\n",
      "            58228, 58267, 58282, 58309, 58311, 58347, 58368, 58373, 58375,\n",
      "            58384],\n",
      "           dtype='int64', length=2995)\n"
     ]
    }
   ],
   "source": [
    "a = df[df[\"Nationality\"]==\"TOP LINE ASIAN\"].index\n",
    "print(a)"
   ]
  },
  {
   "cell_type": "code",
   "execution_count": 30,
   "metadata": {},
   "outputs": [],
   "source": [
    "for x in a:\n",
    "    df.iat[x, 15] = \"ASIAN\""
   ]
  },
  {
   "cell_type": "markdown",
   "metadata": {},
   "source": [
    "## OTHER ASIAN -> ASIAN"
   ]
  },
  {
   "cell_type": "code",
   "execution_count": 31,
   "metadata": {},
   "outputs": [
    {
     "data": {
      "text/plain": [
       "AMERICAN       48800\n",
       "OTHER ASIAN     9430\n",
       "OTHER            152\n",
       "Name: Nationality, dtype: int64"
      ]
     },
     "execution_count": 31,
     "metadata": {},
     "output_type": "execute_result"
    }
   ],
   "source": [
    "df[\"Nationality\"].value_counts()"
   ]
  },
  {
   "cell_type": "code",
   "execution_count": 32,
   "metadata": {},
   "outputs": [
    {
     "name": "stdout",
     "output_type": "stream",
     "text": [
      "Int64Index([    0,     5,     6,     8,     9,    27,    32,    34,    49,\n",
      "               50,\n",
      "            ...\n",
      "            58339, 58347, 58350, 58358, 58368, 58369, 58373, 58375, 58377,\n",
      "            58384],\n",
      "           dtype='int64', length=9430)\n"
     ]
    }
   ],
   "source": [
    "b = df[df[\"Nationality\"]==\"OTHER ASIAN\"].index\n",
    "print(b)"
   ]
  },
  {
   "cell_type": "code",
   "execution_count": 33,
   "metadata": {},
   "outputs": [],
   "source": [
    "for x in b:\n",
    "    df.iat[x, 15] = \"ASIAN\""
   ]
  },
  {
   "cell_type": "code",
   "execution_count": 34,
   "metadata": {},
   "outputs": [
    {
     "data": {
      "text/plain": [
       "AMERICAN    48800\n",
       "ASIAN        9430\n",
       "OTHER         152\n",
       "Name: Nationality, dtype: int64"
      ]
     },
     "execution_count": 34,
     "metadata": {},
     "output_type": "execute_result"
    }
   ],
   "source": [
    "df[\"Nationality\"].value_counts()"
   ]
  },
  {
   "cell_type": "markdown",
   "metadata": {},
   "source": [
    "## Size in SMALL, MEDIUM and LARGE"
   ]
  },
  {
   "cell_type": "code",
   "execution_count": 7,
   "metadata": {},
   "outputs": [
    {
     "data": {
      "text/plain": [
       "MEDIUM    35793\n",
       "LARGE     16204\n",
       "SMALL      6385\n",
       "Name: Size, dtype: int64"
      ]
     },
     "execution_count": 7,
     "metadata": {},
     "output_type": "execute_result"
    }
   ],
   "source": [
    "df[\"Size\"].value_counts()"
   ]
  },
  {
   "cell_type": "code",
   "execution_count": 6,
   "metadata": {},
   "outputs": [],
   "source": [
    "#SMALL\n",
    "a = df[df[\"Size\"]==\"COMPACT\"].index\n",
    "for x in a:\n",
    "    df.iat[x, 16] = \"SMALL\"\n",
    "    \n",
    "b = df[df[\"Size\"]==\"SPORTS\"].index\n",
    "for x in b:\n",
    "    df.iat[x, 16] = \"SMALL\"\n",
    "    \n",
    "#MEDIUM    \n",
    "c = df[df[\"Size\"]==\"CROSSOVER\"].index\n",
    "for x in c:\n",
    "    df.iat[x, 16] = \"MEDIUM\"\n",
    "    \n",
    "d = df[df[\"Size\"]==\"SPECIALTY\"].index\n",
    "for x in d:\n",
    "    df.iat[x, 16] = \"MEDIUM\"\n",
    "    \n",
    "e = df[df[\"Size\"]==\"SPECIALTY\"].index\n",
    "for x in e:\n",
    "    df.iat[x, 16] = \"MEDIUM\"\n",
    "    \n",
    "e = df[df[\"Size\"]==\"SMALL SUV\"].index\n",
    "for x in e:\n",
    "    df.iat[x, 16] = \"MEDIUM\"\n",
    "    \n",
    "i = df[df[\"Size\"]==\"MEDIUM SUV\"].index\n",
    "for x in i:\n",
    "    df.iat[x, 16] = \"MEDIUM\"\n",
    "    \n",
    "#LARGE\n",
    "f = df[df[\"Size\"]==\"SMALL TRUCK\"].index\n",
    "for x in f:\n",
    "    df.iat[x, 16] = \"LARGE\"\n",
    "    \n",
    "g = df[df[\"Size\"]==\"VAN\"].index\n",
    "for x in g:\n",
    "    df.iat[x, 16] = \"LARGE\"\n",
    "    \n",
    "h = df[df[\"Size\"]==\"LARGE SUV\"].index\n",
    "for x in h:\n",
    "    df.iat[x, 16] = \"LARGE\"\n",
    "    \n",
    "l = df[df[\"Size\"]==\"LARGE TRUCK\"].index\n",
    "for x in l:\n",
    "    df.iat[x, 16] = \"LARGE\""
   ]
  },
  {
   "cell_type": "code",
   "execution_count": null,
   "metadata": {},
   "outputs": [],
   "source": []
  }
 ],
 "metadata": {
  "kernelspec": {
   "display_name": "Python 3",
   "language": "python",
   "name": "python3"
  },
  "language_info": {
   "codemirror_mode": {
    "name": "ipython",
    "version": 3
   },
   "file_extension": ".py",
   "mimetype": "text/x-python",
   "name": "python",
   "nbconvert_exporter": "python",
   "pygments_lexer": "ipython3",
   "version": "3.7.5"
  }
 },
 "nbformat": 4,
 "nbformat_minor": 4
}
