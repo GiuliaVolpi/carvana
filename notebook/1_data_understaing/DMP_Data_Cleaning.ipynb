{
 "cells": [
  {
   "cell_type": "markdown",
   "metadata": {},
   "source": [
    "# This notebook shows what we have done in the cleaning step"
   ]
  },
  {
   "cell_type": "code",
   "execution_count": 24,
   "metadata": {},
   "outputs": [],
   "source": [
    "%matplotlib inline\n",
    "import sys\n",
    "sys.path.insert(1, '../../script/')"
   ]
  },
  {
   "cell_type": "code",
   "execution_count": 25,
   "metadata": {},
   "outputs": [],
   "source": [
    "import math\n",
    "import numpy as np\n",
    "import pandas as pd\n",
    "import scipy.stats as stats\n",
    "import matplotlib.pyplot as plt\n",
    "import seaborn as sns\n",
    "import missingno as msno\n",
    "\n",
    "from collections import defaultdict\n",
    "from scipy.stats.stats import pearsonr"
   ]
  },
  {
   "cell_type": "code",
   "execution_count": 26,
   "metadata": {},
   "outputs": [
    {
     "name": "stdout",
     "output_type": "stream",
     "text": [
      "The autoreload extension is already loaded. To reload it, use:\n",
      "  %reload_ext autoreload\n"
     ]
    }
   ],
   "source": [
    "import cleaning as cl\n",
    "%load_ext autoreload\n",
    "%autoreload 2"
   ]
  },
  {
   "cell_type": "code",
   "execution_count": 27,
   "metadata": {},
   "outputs": [],
   "source": [
    "df = pd.read_csv('../../data/training.csv') "
   ]
  },
  {
   "cell_type": "code",
   "execution_count": 28,
   "metadata": {},
   "outputs": [],
   "source": [
    "cl.cleaning(df)"
   ]
  },
  {
   "cell_type": "code",
   "execution_count": 30,
   "metadata": {},
   "outputs": [
    {
     "data": {
      "text/plain": [
       "Index(['IsBadBuy', 'VehicleAge', 'Transmission', 'WheelTypeID', 'VehOdo',\n",
       "       'Nationality', 'Size', 'MMRAcquisitionAuctionAveragePrice', 'VNST',\n",
       "       'VehBCost', 'WarrantyCost'],\n",
       "      dtype='object')"
      ]
     },
     "execution_count": 30,
     "metadata": {},
     "output_type": "execute_result"
    }
   ],
   "source": [
    "df.columns"
   ]
  },
  {
   "cell_type": "markdown",
   "metadata": {},
   "source": [
    "## 1. What we have used for the cleaning step\n",
    "### - Correlation for MMRAs"
   ]
  },
  {
   "cell_type": "code",
   "execution_count": 8,
   "metadata": {},
   "outputs": [
    {
     "data": {
      "text/html": [
       "<div>\n",
       "<style scoped>\n",
       "    .dataframe tbody tr th:only-of-type {\n",
       "        vertical-align: middle;\n",
       "    }\n",
       "\n",
       "    .dataframe tbody tr th {\n",
       "        vertical-align: top;\n",
       "    }\n",
       "\n",
       "    .dataframe thead th {\n",
       "        text-align: right;\n",
       "    }\n",
       "</style>\n",
       "<table border=\"1\" class=\"dataframe\">\n",
       "  <thead>\n",
       "    <tr style=\"text-align: right;\">\n",
       "      <th></th>\n",
       "      <th>MMRAcquisitionAuctionAveragePrice</th>\n",
       "      <th>MMRAcquisitionAuctionCleanPrice</th>\n",
       "      <th>MMRAcquisitionRetailAveragePrice</th>\n",
       "      <th>MMRAcquisitonRetailCleanPrice</th>\n",
       "      <th>MMRCurrentAuctionAveragePrice</th>\n",
       "      <th>MMRCurrentAuctionCleanPrice</th>\n",
       "      <th>MMRCurrentRetailAveragePrice</th>\n",
       "      <th>MMRCurrentRetailCleanPrice</th>\n",
       "    </tr>\n",
       "  </thead>\n",
       "  <tbody>\n",
       "    <tr>\n",
       "      <th>MMRAcquisitionAuctionAveragePrice</th>\n",
       "      <td>1.000000</td>\n",
       "      <td>0.990218</td>\n",
       "      <td>0.910185</td>\n",
       "      <td>0.909832</td>\n",
       "      <td>0.937482</td>\n",
       "      <td>0.931919</td>\n",
       "      <td>0.871220</td>\n",
       "      <td>0.870424</td>\n",
       "    </tr>\n",
       "    <tr>\n",
       "      <th>MMRAcquisitionAuctionCleanPrice</th>\n",
       "      <td>0.990218</td>\n",
       "      <td>1.000000</td>\n",
       "      <td>0.902339</td>\n",
       "      <td>0.917934</td>\n",
       "      <td>0.923144</td>\n",
       "      <td>0.931599</td>\n",
       "      <td>0.860055</td>\n",
       "      <td>0.870604</td>\n",
       "    </tr>\n",
       "    <tr>\n",
       "      <th>MMRAcquisitionRetailAveragePrice</th>\n",
       "      <td>0.910185</td>\n",
       "      <td>0.902339</td>\n",
       "      <td>1.000000</td>\n",
       "      <td>0.990085</td>\n",
       "      <td>0.851330</td>\n",
       "      <td>0.848776</td>\n",
       "      <td>0.912747</td>\n",
       "      <td>0.905523</td>\n",
       "    </tr>\n",
       "    <tr>\n",
       "      <th>MMRAcquisitonRetailCleanPrice</th>\n",
       "      <td>0.909832</td>\n",
       "      <td>0.917934</td>\n",
       "      <td>0.990085</td>\n",
       "      <td>1.000000</td>\n",
       "      <td>0.846393</td>\n",
       "      <td>0.854986</td>\n",
       "      <td>0.902680</td>\n",
       "      <td>0.906231</td>\n",
       "    </tr>\n",
       "    <tr>\n",
       "      <th>MMRCurrentAuctionAveragePrice</th>\n",
       "      <td>0.937482</td>\n",
       "      <td>0.923144</td>\n",
       "      <td>0.851330</td>\n",
       "      <td>0.846393</td>\n",
       "      <td>1.000000</td>\n",
       "      <td>0.990244</td>\n",
       "      <td>0.915147</td>\n",
       "      <td>0.912305</td>\n",
       "    </tr>\n",
       "    <tr>\n",
       "      <th>MMRCurrentAuctionCleanPrice</th>\n",
       "      <td>0.931919</td>\n",
       "      <td>0.931599</td>\n",
       "      <td>0.848776</td>\n",
       "      <td>0.854986</td>\n",
       "      <td>0.990244</td>\n",
       "      <td>1.000000</td>\n",
       "      <td>0.908620</td>\n",
       "      <td>0.921638</td>\n",
       "    </tr>\n",
       "    <tr>\n",
       "      <th>MMRCurrentRetailAveragePrice</th>\n",
       "      <td>0.871220</td>\n",
       "      <td>0.860055</td>\n",
       "      <td>0.912747</td>\n",
       "      <td>0.902680</td>\n",
       "      <td>0.915147</td>\n",
       "      <td>0.908620</td>\n",
       "      <td>1.000000</td>\n",
       "      <td>0.989693</td>\n",
       "    </tr>\n",
       "    <tr>\n",
       "      <th>MMRCurrentRetailCleanPrice</th>\n",
       "      <td>0.870424</td>\n",
       "      <td>0.870604</td>\n",
       "      <td>0.905523</td>\n",
       "      <td>0.906231</td>\n",
       "      <td>0.912305</td>\n",
       "      <td>0.921638</td>\n",
       "      <td>0.989693</td>\n",
       "      <td>1.000000</td>\n",
       "    </tr>\n",
       "  </tbody>\n",
       "</table>\n",
       "</div>"
      ],
      "text/plain": [
       "                                   MMRAcquisitionAuctionAveragePrice  \\\n",
       "MMRAcquisitionAuctionAveragePrice                           1.000000   \n",
       "MMRAcquisitionAuctionCleanPrice                             0.990218   \n",
       "MMRAcquisitionRetailAveragePrice                            0.910185   \n",
       "MMRAcquisitonRetailCleanPrice                               0.909832   \n",
       "MMRCurrentAuctionAveragePrice                               0.937482   \n",
       "MMRCurrentAuctionCleanPrice                                 0.931919   \n",
       "MMRCurrentRetailAveragePrice                                0.871220   \n",
       "MMRCurrentRetailCleanPrice                                  0.870424   \n",
       "\n",
       "                                   MMRAcquisitionAuctionCleanPrice  \\\n",
       "MMRAcquisitionAuctionAveragePrice                         0.990218   \n",
       "MMRAcquisitionAuctionCleanPrice                           1.000000   \n",
       "MMRAcquisitionRetailAveragePrice                          0.902339   \n",
       "MMRAcquisitonRetailCleanPrice                             0.917934   \n",
       "MMRCurrentAuctionAveragePrice                             0.923144   \n",
       "MMRCurrentAuctionCleanPrice                               0.931599   \n",
       "MMRCurrentRetailAveragePrice                              0.860055   \n",
       "MMRCurrentRetailCleanPrice                                0.870604   \n",
       "\n",
       "                                   MMRAcquisitionRetailAveragePrice  \\\n",
       "MMRAcquisitionAuctionAveragePrice                          0.910185   \n",
       "MMRAcquisitionAuctionCleanPrice                            0.902339   \n",
       "MMRAcquisitionRetailAveragePrice                           1.000000   \n",
       "MMRAcquisitonRetailCleanPrice                              0.990085   \n",
       "MMRCurrentAuctionAveragePrice                              0.851330   \n",
       "MMRCurrentAuctionCleanPrice                                0.848776   \n",
       "MMRCurrentRetailAveragePrice                               0.912747   \n",
       "MMRCurrentRetailCleanPrice                                 0.905523   \n",
       "\n",
       "                                   MMRAcquisitonRetailCleanPrice  \\\n",
       "MMRAcquisitionAuctionAveragePrice                       0.909832   \n",
       "MMRAcquisitionAuctionCleanPrice                         0.917934   \n",
       "MMRAcquisitionRetailAveragePrice                        0.990085   \n",
       "MMRAcquisitonRetailCleanPrice                           1.000000   \n",
       "MMRCurrentAuctionAveragePrice                           0.846393   \n",
       "MMRCurrentAuctionCleanPrice                             0.854986   \n",
       "MMRCurrentRetailAveragePrice                            0.902680   \n",
       "MMRCurrentRetailCleanPrice                              0.906231   \n",
       "\n",
       "                                   MMRCurrentAuctionAveragePrice  \\\n",
       "MMRAcquisitionAuctionAveragePrice                       0.937482   \n",
       "MMRAcquisitionAuctionCleanPrice                         0.923144   \n",
       "MMRAcquisitionRetailAveragePrice                        0.851330   \n",
       "MMRAcquisitonRetailCleanPrice                           0.846393   \n",
       "MMRCurrentAuctionAveragePrice                           1.000000   \n",
       "MMRCurrentAuctionCleanPrice                             0.990244   \n",
       "MMRCurrentRetailAveragePrice                            0.915147   \n",
       "MMRCurrentRetailCleanPrice                              0.912305   \n",
       "\n",
       "                                   MMRCurrentAuctionCleanPrice  \\\n",
       "MMRAcquisitionAuctionAveragePrice                     0.931919   \n",
       "MMRAcquisitionAuctionCleanPrice                       0.931599   \n",
       "MMRAcquisitionRetailAveragePrice                      0.848776   \n",
       "MMRAcquisitonRetailCleanPrice                         0.854986   \n",
       "MMRCurrentAuctionAveragePrice                         0.990244   \n",
       "MMRCurrentAuctionCleanPrice                           1.000000   \n",
       "MMRCurrentRetailAveragePrice                          0.908620   \n",
       "MMRCurrentRetailCleanPrice                            0.921638   \n",
       "\n",
       "                                   MMRCurrentRetailAveragePrice  \\\n",
       "MMRAcquisitionAuctionAveragePrice                      0.871220   \n",
       "MMRAcquisitionAuctionCleanPrice                        0.860055   \n",
       "MMRAcquisitionRetailAveragePrice                       0.912747   \n",
       "MMRAcquisitonRetailCleanPrice                          0.902680   \n",
       "MMRCurrentAuctionAveragePrice                          0.915147   \n",
       "MMRCurrentAuctionCleanPrice                            0.908620   \n",
       "MMRCurrentRetailAveragePrice                           1.000000   \n",
       "MMRCurrentRetailCleanPrice                             0.989693   \n",
       "\n",
       "                                   MMRCurrentRetailCleanPrice  \n",
       "MMRAcquisitionAuctionAveragePrice                    0.870424  \n",
       "MMRAcquisitionAuctionCleanPrice                      0.870604  \n",
       "MMRAcquisitionRetailAveragePrice                     0.905523  \n",
       "MMRAcquisitonRetailCleanPrice                        0.906231  \n",
       "MMRCurrentAuctionAveragePrice                        0.912305  \n",
       "MMRCurrentAuctionCleanPrice                          0.921638  \n",
       "MMRCurrentRetailAveragePrice                         0.989693  \n",
       "MMRCurrentRetailCleanPrice                           1.000000  "
      ]
     },
     "execution_count": 8,
     "metadata": {},
     "output_type": "execute_result"
    }
   ],
   "source": [
    "# correlation matrix for MMRAs\n",
    "data = df.copy()\n",
    "del data['IsBadBuy']\n",
    "del data['VehicleAge']\n",
    "del data['WheelTypeID']\n",
    "del data['VehOdo']\n",
    "del data['BYRNO']\n",
    "del data['VehBCost']\n",
    "del data['IsOnlineSale']\n",
    "del data['WarrantyCost']\n",
    "del data['PRIMEUNIT']\n",
    "del data['AUCGUART']\n",
    "del data['RefId']\n",
    "del data['VNZIP1']\n",
    "del data['VehYear']\n",
    "del data['PurchDate']\n",
    "del data['Trim']\n",
    "del data['TopThreeAmericanName']\n",
    "del data['WheelType']\n",
    "data.corr()"
   ]
  },
  {
   "cell_type": "markdown",
   "metadata": {},
   "source": [
    "#### Best correlations\n",
    "<p>Acquisition:</p>\n",
    "<ul>\n",
    "    <li> MMRAcquisitionAuctionAveragePrice - MMRAcquisitionAuctionCleanPrice (1)\n",
    "    <li> MMRAcquisitionAuctionAveragePrice - MMRCurrentAuctionAveragePrice (2)\n",
    "    <li> MMRAcquisitionAuctionCleanPrice - MMRAcquisitionAuctionAveragePrice (1)\n",
    "    <li> MMRAcquisitionAuctionCleanPrice - MMRCurrentAuctionCleanPrice (2)\n",
    "    <li> MMRAcquisitionRetailAveragePrice - MMRAcquisitonRetailCleanPrice (1)\n",
    "    <li> MMRAcquisitionRetailAveragePrice - MMRCurrentRetailAveragePrice (2)\n",
    "    <li> MMRAcquisitonRetailCleanPrice - MMRAcquisitionRetailAveragePrice (1)\n",
    "    <li> MMRAcquisitonRetailCleanPrice - MMRAcquisitionAuctionCleanPrice (2)\n",
    "</ul>\n",
    "<p>Current:</p>\n",
    "<ul>\n",
    "    <li> MMRCurrentAuctionAveragePrice - MMRCurrentAuctionCleanPrice (1)\n",
    "    <li> MMRCurrentAuctionAveragePrice - MMRAcquisitionAuctionAveragePrice (2)\n",
    "    <li> MMRCurrentAuctionCleanPrice - MMRCurrentAuctionAveragePrice (1)\n",
    "    <li> MMRCurrentAuctionCleanPrice - MMRAcquisitionAuctionAveragePrice (2)\n",
    "    <li> MMRCurrentRetailAveragePrice - MMRCurrentRetailCleanPrice (1)\n",
    "    <li> MMRCurrentRetailAveragePrice - MMRCurrentAuctionAveragePrice (2)\n",
    "    <li> MMRCurrentRetailCleanPrice - MMRCurrentRetailAveragePrice (1)\n",
    "    <li> MMRCurrentRetailCleanPrice - MMRCurrentAuctionCleanPrice (2)\n",
    "</ul>\n",
    "\n",
    "<p>IDEA:</p>\n",
    "<ul>\n",
    "    <li> Sostituire nan con il valore dell'attributo (non nan) con maggiore correlazione (nella stessa riga)\n",
    "    <li> Sostituire nan con la meadian\n",
    "</ul>\n",
    "\n",
    "<p>Values of MMRAs to be substituted:</p>\n",
    "<ul>\n",
    "    <li> MMRAcquisitionAuctionAveragePrice - 0.0 (648)\n",
    "    <li> MMRAcquisitionAuctionCleanPrice - 0.0 (552), 1.0 (96)\n",
    "    <li> MMRAcquisitionRetailAveragePrice - 0.0 (648)\n",
    "    <li> MMRAcquisitonRetailCleanPrice - 0.0 (648)\n",
    "    <li> MMRCurrentAuctionAveragePrice - 0.0 (393)\n",
    "    <li> MMRCurrentAuctionCleanPrice - 0.0 (300), 1.0 (93)\n",
    "    <li> MMRCurrentRetailAveragePrice - 0.0 (393)\n",
    "    <li> MMRCurrentRetailCleanPrice - 0.0 (393)\n",
    "</ul>"
   ]
  },
  {
   "cell_type": "markdown",
   "metadata": {},
   "source": [
    "## 2. The Cleaning Step:\n",
    "<h5> - Missing value and Wrong values: </h5>\n",
    "<ul>\n",
    "    <li> Fill nan in <b>WheelTypeID</b> with a recursively groupby substitution. We have grouped all the records by ('<b>Make</b>', '<b>Model</b>', '<b>SubModel</b>') then by ('<b>Make</b>', '<b>Model</b>') and finally only by ('<b>Make</b>') and then we replaced the missing value of this attribute with the mode of each group.\n",
    "    <li> Fill nan in <b>Color</b> with the mode (of <b>Color</b>)\n",
    "    <li> Fill nan in <b>Transmission</b> with the mode (of <b>Transmission</b>)\n",
    "    <li> Fill nan in <b>Nationality</b> with AMERICAN because noticed that most cars are of American nationality. We therefore decided to replace the missing value with the value 'AMERICAN'\n",
    "    <li> Fill manually nan in <b>SubModel</b> with the mode of group by (over <b>Make</b>, <b>Model</b>, <b>Size</b>, <b>Trim</b>)\n",
    "    <li> Fill manually nan in <b>Size</b> with the mode of group by (over <b>Make</b>, <b>Model</b>)\n",
    "    <li> In the '<b>Transmission</b>' feature there is a typo error, we have changed Manual to MANUAL in <b>Transmission</b> (1 row)\n",
    "    <li> in '<b>Make</b>' feature there is a typo error, we have changed 'TOYOTA SCION' value in  in 'SCION' in <b>Make</b> (1 row)\n",
    "    <li> Change 0.0 in <b>WheelTypeID</b> with the correct value, we have seen the correct value by looking to <b>WheelType</b> feature on the same row. We check which <b>WheelType</b> was associated to that row and then checked the correct id and then substitued the 0.0 with the correct one\n",
    "    <li> Fill nan in <b>MMRAs</b>: for every <b>MMRA</b> feature with have substitued the nan value by using the same value on the same row of the most correlated <b>MMRA</b> feature.\n",
    "    <li> Change 0.0 and 1.0 values in <b>MMRAs</b>: first we have substitued the 0.0 and 0.1 value with the value of the same row (using correlation), after this they were still present 0.0 and 0.1 values. The remaining values have been replaced with the median of that column. (so have been treated has missing value)\n",
    "    <li> Change 1.0 in <b>VehBCost</b> the only record with this value has been deleted by the removal of the outliers\n",
    "</ul>\n",
    "<h5> - Dropped Feature: </h5>\n",
    "<ul>\n",
    "    <li> Drop <b>PRIMEUNIT</b> (too many missing values)\n",
    "    <li> Drop <b>AUCGUART</b> (too many missing values)\n",
    "    <li> Drop <b>RefId</b> (useless)\n",
    "    <li> Drop <b>VNZIP1</b> (redundant)\n",
    "    <li> Drop <b>VehYear</b> \n",
    "    <li> Drop <b>PurchDate</b> (VehAge = PurchDate - VehYear) (redundant)\n",
    "    <li> Drop <b>Trim</b> (useless + missing values)\n",
    "    <li> Drop <b>TopThreeAmericanName</b> (useless)\n",
    "    <li> Drop <b>WheelType</b> (redundant)\n",
    "    <li> Drop <b>BYRNO</b> (useless unique id)\n",
    "</ul>\n",
    "\n",
    "<h5> - Outliers: </h5>\n",
    "This feature have outliers:\n",
    "\n",
    "    'VehOdo',\n",
    "    'MMRAcquisitionAuctionAveragePrice',\n",
    "    'MMRAcquisitionAuctionCleanPrice', \n",
    "    'MMRAcquisitionRetailAveragePrice',\n",
    "    'MMRAcquisitonRetailCleanPrice',\n",
    "    'MMRCurrentAuctionAveragePrice',\n",
    "    'MMRCurrentAuctionCleanPrice',\n",
    "    'MMRCurrentRetailAveragePrice',\n",
    "    'MMRCurrentRetailCleanPrice',\n",
    "    'VehBCost',\n",
    "    'WarrantyCost',\n",
    "    'VehicleAge'\n",
    "\n",
    "For every features above we have:\n",
    "\n",
    "For all the record with `isBadBuy == 0` we calculate the low and high quartile of the distribution of data, and we have dropped every row of that feature with `value <= high_quartile` and then we dropped all the row with `value >= low_quartile`, then we did the same for `isBadBuy == 1`\n",
    "\n",
    "\n",
    "### All these operation are perfomed by the `cleaning.py` file in `src` folder."
   ]
  },
  {
   "cell_type": "markdown",
   "metadata": {},
   "source": [
    "## 3. Information on the new dataset after cleaning step:\n",
    "The new dataset has 54469 entry and 24 features"
   ]
  },
  {
   "cell_type": "code",
   "execution_count": 19,
   "metadata": {},
   "outputs": [
    {
     "name": "stdout",
     "output_type": "stream",
     "text": [
      "<class 'pandas.core.frame.DataFrame'>\n",
      "Int64Index: 55494 entries, 0 to 58385\n",
      "Data columns (total 11 columns):\n",
      "IsBadBuy                             55494 non-null int64\n",
      "VehicleAge                           55494 non-null int64\n",
      "Transmission                         55494 non-null object\n",
      "WheelTypeID                          55494 non-null float64\n",
      "VehOdo                               55494 non-null int64\n",
      "Nationality                          55494 non-null object\n",
      "Size                                 55494 non-null object\n",
      "MMRAcquisitionAuctionAveragePrice    55494 non-null float64\n",
      "VNST                                 55494 non-null object\n",
      "VehBCost                             55494 non-null float64\n",
      "WarrantyCost                         55494 non-null int64\n",
      "dtypes: float64(3), int64(4), object(4)\n",
      "memory usage: 5.1+ MB\n"
     ]
    }
   ],
   "source": [
    "df.info()"
   ]
  },
  {
   "cell_type": "markdown",
   "metadata": {},
   "source": [
    "Check if the dataset has missing values:"
   ]
  },
  {
   "cell_type": "code",
   "execution_count": 22,
   "metadata": {},
   "outputs": [
    {
     "data": {
      "text/plain": [
       "IsBadBuy                             False\n",
       "Auction                              False\n",
       "VehicleAge                           False\n",
       "Make                                 False\n",
       "Model                                False\n",
       "SubModel                             False\n",
       "Color                                False\n",
       "Transmission                         False\n",
       "WheelTypeID                          False\n",
       "VehOdo                               False\n",
       "Nationality                          False\n",
       "Size                                 False\n",
       "MMRAcquisitionAuctionAveragePrice    False\n",
       "MMRAcquisitionAuctionCleanPrice      False\n",
       "MMRAcquisitionRetailAveragePrice     False\n",
       "MMRAcquisitonRetailCleanPrice        False\n",
       "MMRCurrentAuctionAveragePrice        False\n",
       "MMRCurrentAuctionCleanPrice          False\n",
       "MMRCurrentRetailAveragePrice         False\n",
       "MMRCurrentRetailCleanPrice           False\n",
       "VNST                                 False\n",
       "VehBCost                             False\n",
       "IsOnlineSale                         False\n",
       "WarrantyCost                         False\n",
       "dtype: bool"
      ]
     },
     "execution_count": 22,
     "metadata": {},
     "output_type": "execute_result"
    }
   ],
   "source": [
    "df.isnull().any()"
   ]
  },
  {
   "cell_type": "markdown",
   "metadata": {},
   "source": [
    "### Check on the remaining features:\n",
    "### - VehBCost strange value:"
   ]
  },
  {
   "cell_type": "code",
   "execution_count": 25,
   "metadata": {},
   "outputs": [
    {
     "data": {
      "text/plain": [
       "Series([], Name: VehBCost, dtype: int64)"
      ]
     },
     "execution_count": 25,
     "metadata": {},
     "output_type": "execute_result"
    }
   ],
   "source": [
    "df[df['VehBCost']<=100]['VehBCost'].value_counts()"
   ]
  },
  {
   "cell_type": "markdown",
   "metadata": {},
   "source": [
    "### - WheelTypeID value at 0.0 "
   ]
  },
  {
   "cell_type": "code",
   "execution_count": 26,
   "metadata": {},
   "outputs": [
    {
     "data": {
      "text/plain": [
       "1.0    27359\n",
       "2.0    26576\n",
       "3.0      534\n",
       "Name: WheelTypeID, dtype: int64"
      ]
     },
     "execution_count": 26,
     "metadata": {},
     "output_type": "execute_result"
    }
   ],
   "source": [
    "df.WheelTypeID.value_counts()"
   ]
  },
  {
   "cell_type": "code",
   "execution_count": 25,
   "metadata": {},
   "outputs": [
    {
     "data": {
      "image/png": "[encoded data removed]",
      "text/plain": [
       "<Figure size 432x288 with 1 Axes>"
      ]
     },
     "metadata": {
      "needs_background": "light"
     },
     "output_type": "display_data"
    }
   ],
   "source": [
    "df['WheelTypeID'].value_counts().plot(kind='bar', title='WheelTypeID')\n",
    "plt.show()"
   ]
  },
  {
   "cell_type": "markdown",
   "metadata": {},
   "source": [
    "### - Transmission, 'manual' typo check"
   ]
  },
  {
   "cell_type": "code",
   "execution_count": 29,
   "metadata": {},
   "outputs": [
    {
     "data": {
      "text/plain": [
       "AUTO      52555\n",
       "MANUAL     1914\n",
       "Name: Transmission, dtype: int64"
      ]
     },
     "execution_count": 29,
     "metadata": {},
     "output_type": "execute_result"
    }
   ],
   "source": [
    "df.Transmission.value_counts()"
   ]
  },
  {
   "cell_type": "markdown",
   "metadata": {},
   "source": [
    "### - MMRAcquisitionAuctionAveragePrice 0.0 and 1.0 value check"
   ]
  },
  {
   "cell_type": "code",
   "execution_count": 21,
   "metadata": {},
   "outputs": [
    {
     "name": "stdout",
     "output_type": "stream",
     "text": [
      "Series([], Name: MMRAcquisitionAuctionAveragePrice, dtype: int64)\n"
     ]
    }
   ],
   "source": [
    "print(df[(df['MMRAcquisitionAuctionAveragePrice'] == 0.0) | (df['MMRAcquisitionAuctionAveragePrice'] == 1.0)]['MMRAcquisitionAuctionAveragePrice'].value_counts())"
   ]
  },
  {
   "cell_type": "markdown",
   "metadata": {},
   "source": [
    "### The new distribution for the features with outliers:"
   ]
  },
  {
   "cell_type": "markdown",
   "metadata": {},
   "source": [
    "### - MMRAcquisitionAuctionAveragePrice distribution"
   ]
  },
  {
   "cell_type": "code",
   "execution_count": 23,
   "metadata": {},
   "outputs": [
    {
     "data": {
      "text/plain": [
       "<matplotlib.axes._subplots.AxesSubplot at 0x240dc691b48>"
      ]
     },
     "execution_count": 23,
     "metadata": {},
     "output_type": "execute_result"
    },
    {
     "data": {
      "image/png": "[encoded data removed]",
      "text/plain": [
       "<Figure size 432x288 with 1 Axes>"
      ]
     },
     "metadata": {
      "needs_background": "light"
     },
     "output_type": "display_data"
    }
   ],
   "source": [
    "df['MMRAcquisitionAuctionAveragePrice'].hist(bins=17)"
   ]
  },
  {
   "cell_type": "code",
   "execution_count": 22,
   "metadata": {},
   "outputs": [
    {
     "data": {
      "image/png": "[encoded data removed]",
      "text/plain": [
       "<Figure size 360x360 with 1 Axes>"
      ]
     },
     "metadata": {
      "needs_background": "light"
     },
     "output_type": "display_data"
    }
   ],
   "source": [
    "boxplot = df.boxplot(column=['MMRAcquisitionAuctionAveragePrice'], figsize=(5,5), by='IsBadBuy')"
   ]
  },
  {
   "cell_type": "markdown",
   "metadata": {},
   "source": [
    "### - VehOdo, VehBCost, WarrantyCost, VehicleAge distribution"
   ]
  },
  {
   "cell_type": "code",
   "execution_count": 22,
   "metadata": {},
   "outputs": [
    {
     "data": {
      "image/png": "[encoded data removed]",
      "text/plain": [
       "<Figure size 1152x720 with 4 Axes>"
      ]
     },
     "metadata": {
      "needs_background": "light"
     },
     "output_type": "display_data"
    }
   ],
   "source": [
    "fig = plt.figure(figsize=(16, 10)) # any figure has 10x10 size\n",
    "fig_dims = (2, 2) # 2 rows and 4 collums \n",
    "b = 17\n",
    "plt.subplot2grid(fig_dims, (0, 0))\n",
    "df['VehOdo'].hist(bins = 40)\n",
    "plt.title('VehOdo')\n",
    "\n",
    "plt.subplot2grid(fig_dims, (0, 1))\n",
    "df['VehBCost'].hist(bins = 50)\n",
    "plt.title('VehBCost')\n",
    "\n",
    "plt.subplot2grid(fig_dims, (1, 0))\n",
    "df['WarrantyCost'].hist(bins = b)\n",
    "plt.title('WarrantyCost')\n",
    "\n",
    "plt.subplot2grid(fig_dims, (1, 1))\n",
    "df['VehicleAge'].hist(bins = 8)\n",
    "plt.title('VehicleAge')\n",
    "\n",
    "plt.show()"
   ]
  },
  {
   "cell_type": "code",
   "execution_count": 61,
   "metadata": {},
   "outputs": [
    {
     "data": {
      "image/png": "[encoded data removed]",
      "text/plain": [
       "<Figure size 720x720 with 4 Axes>"
      ]
     },
     "metadata": {
      "needs_background": "light"
     },
     "output_type": "display_data"
    }
   ],
   "source": [
    "fig, axes = plt.subplots(nrows=2, ncols=2, figsize=(10,10)) # create 2x2 array of subplots\n",
    "\n",
    "df.boxplot(column=['VehOdo'], figsize=(4,6), by='IsBadBuy', ax=axes[0,0])\n",
    "plt.title('VehOdo')\n",
    "\n",
    "df.boxplot(column=['VehBCost'], figsize=(5,6), by='IsBadBuy', ax=axes[0,1])\n",
    "plt.title('VehBCost')\n",
    "\n",
    "df.boxplot(column=['VehicleAge'], figsize=(5,6), by='IsBadBuy', ax=axes[1,0])\n",
    "plt.title('VehicleAge')\n",
    "\n",
    "df.boxplot(column=['WarrantyCost'], figsize=(5,6), by='IsBadBuy', ax=axes[1,1])\n",
    "plt.title('WarrantyCost')\n",
    "plt.show()"
   ]
  },
  {
   "cell_type": "markdown",
   "metadata": {},
   "source": [
    "## NOTE\n",
    "Other features that could be dropped:\n",
    " - Auction\n",
    " - IsOnlineSale\n",
    " - submodel\n",
    " \n",
    "we have to decide what to do about these feature, maybe clustering could help.\n",
    "\n",
    "Other correction:\n",
    " - in **Nationality** feature there is 'TOP LINE ASIAN' and 'OTHER ASIAN' value, maybe could be a good idea to merge both to 'ASIAN' value. Could be this usefull somehow? Could this be wrog for classification for the future prediction?"
   ]
  }
 ],
 "metadata": {
  "kernelspec": {
   "display_name": "Python 3",
   "language": "python",
   "name": "python3"
  },
  "language_info": {
   "codemirror_mode": {
    "name": "ipython",
    "version": 3
   },
   "file_extension": ".py",
   "mimetype": "text/x-python",
   "name": "python",
   "nbconvert_exporter": "python",
   "pygments_lexer": "ipython3",
   "version": "3.7.5"
  }
 },
 "nbformat": 4,
 "nbformat_minor": 4
}
