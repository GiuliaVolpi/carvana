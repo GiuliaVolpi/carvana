{
 "cells": [
  {
   "cell_type": "code",
   "execution_count": 351,
   "metadata": {},
   "outputs": [],
   "source": [
    "%matplotlib inline\n",
    "import sys\n",
    "#sys.path.insert(1, '../src/')"
   ]
  },
  {
   "cell_type": "code",
   "execution_count": 352,
   "metadata": {},
   "outputs": [],
   "source": [
    "import math\n",
    "import numpy as np\n",
    "import pandas as pd\n",
    "import scipy.stats as stats\n",
    "import matplotlib.pyplot as plt\n",
    "import seaborn as sns\n",
    "#import missingno as msno\n",
    "from scipy.stats import mode\n",
    "from scipy.spatial.distance import pdist\n",
    "from scipy.cluster.hierarchy import linkage, dendrogram, fcluster\n",
    "from sklearn.preprocessing import StandardScaler, MinMaxScaler\n",
    "from sklearn.cluster import KMeans\n",
    "from sklearn.metrics import silhouette_score\n",
    "\n",
    "from collections import defaultdict\n",
    "from scipy.stats.stats import pearsonr\n",
    "from fim import apriori"
   ]
  },
  {
   "cell_type": "code",
   "execution_count": 353,
   "metadata": {},
   "outputs": [],
   "source": [
    "df = pd.read_csv('/Users/Flavia/GiuliaVolpi93-dm_carvana-4cbbb4b6431b/data/training.csv') "
   ]
  },
  {
   "cell_type": "code",
   "execution_count": 354,
   "metadata": {},
   "outputs": [
    {
     "data": {
      "text/html": [
       "<div>\n",
       "<style scoped>\n",
       "    .dataframe tbody tr th:only-of-type {\n",
       "        vertical-align: middle;\n",
       "    }\n",
       "\n",
       "    .dataframe tbody tr th {\n",
       "        vertical-align: top;\n",
       "    }\n",
       "\n",
       "    .dataframe thead th {\n",
       "        text-align: right;\n",
       "    }\n",
       "</style>\n",
       "<table border=\"1\" class=\"dataframe\">\n",
       "  <thead>\n",
       "    <tr style=\"text-align: right;\">\n",
       "      <th></th>\n",
       "      <th>RefId</th>\n",
       "      <th>IsBadBuy</th>\n",
       "      <th>PurchDate</th>\n",
       "      <th>Auction</th>\n",
       "      <th>VehYear</th>\n",
       "      <th>VehicleAge</th>\n",
       "      <th>Make</th>\n",
       "      <th>Model</th>\n",
       "      <th>Trim</th>\n",
       "      <th>SubModel</th>\n",
       "      <th>...</th>\n",
       "      <th>MMRCurrentRetailAveragePrice</th>\n",
       "      <th>MMRCurrentRetailCleanPrice</th>\n",
       "      <th>PRIMEUNIT</th>\n",
       "      <th>AUCGUART</th>\n",
       "      <th>BYRNO</th>\n",
       "      <th>VNZIP1</th>\n",
       "      <th>VNST</th>\n",
       "      <th>VehBCost</th>\n",
       "      <th>IsOnlineSale</th>\n",
       "      <th>WarrantyCost</th>\n",
       "    </tr>\n",
       "  </thead>\n",
       "  <tbody>\n",
       "    <tr>\n",
       "      <td>0</td>\n",
       "      <td>326</td>\n",
       "      <td>1</td>\n",
       "      <td>10/25/2010</td>\n",
       "      <td>ADESA</td>\n",
       "      <td>2008</td>\n",
       "      <td>2</td>\n",
       "      <td>KIA</td>\n",
       "      <td>SPECTRA</td>\n",
       "      <td>EX</td>\n",
       "      <td>4D SEDAN EX</td>\n",
       "      <td>...</td>\n",
       "      <td>9605.0</td>\n",
       "      <td>10650.0</td>\n",
       "      <td>NaN</td>\n",
       "      <td>NaN</td>\n",
       "      <td>5546</td>\n",
       "      <td>33619</td>\n",
       "      <td>FL</td>\n",
       "      <td>6100.0</td>\n",
       "      <td>0</td>\n",
       "      <td>533</td>\n",
       "    </tr>\n",
       "    <tr>\n",
       "      <td>1</td>\n",
       "      <td>42991</td>\n",
       "      <td>0</td>\n",
       "      <td>5/27/2009</td>\n",
       "      <td>MANHEIM</td>\n",
       "      <td>2006</td>\n",
       "      <td>3</td>\n",
       "      <td>DODGE</td>\n",
       "      <td>STRATUS V6 2.7L V6 M</td>\n",
       "      <td>SXT</td>\n",
       "      <td>4D SEDAN SXT FFV</td>\n",
       "      <td>...</td>\n",
       "      <td>6418.0</td>\n",
       "      <td>7478.0</td>\n",
       "      <td>NaN</td>\n",
       "      <td>NaN</td>\n",
       "      <td>99750</td>\n",
       "      <td>32124</td>\n",
       "      <td>FL</td>\n",
       "      <td>4000.0</td>\n",
       "      <td>0</td>\n",
       "      <td>1630</td>\n",
       "    </tr>\n",
       "    <tr>\n",
       "      <td>2</td>\n",
       "      <td>55273</td>\n",
       "      <td>0</td>\n",
       "      <td>3/18/2010</td>\n",
       "      <td>OTHER</td>\n",
       "      <td>2008</td>\n",
       "      <td>2</td>\n",
       "      <td>DODGE</td>\n",
       "      <td>CALIBER</td>\n",
       "      <td>SE</td>\n",
       "      <td>4D WAGON</td>\n",
       "      <td>...</td>\n",
       "      <td>10721.0</td>\n",
       "      <td>11350.0</td>\n",
       "      <td>NaN</td>\n",
       "      <td>NaN</td>\n",
       "      <td>99761</td>\n",
       "      <td>74135</td>\n",
       "      <td>OK</td>\n",
       "      <td>7500.0</td>\n",
       "      <td>0</td>\n",
       "      <td>693</td>\n",
       "    </tr>\n",
       "    <tr>\n",
       "      <td>3</td>\n",
       "      <td>29058</td>\n",
       "      <td>0</td>\n",
       "      <td>6/8/2009</td>\n",
       "      <td>OTHER</td>\n",
       "      <td>2005</td>\n",
       "      <td>4</td>\n",
       "      <td>FORD</td>\n",
       "      <td>FREESTAR FWD V6 3.9L</td>\n",
       "      <td>S</td>\n",
       "      <td>PASSENGER 3.9L</td>\n",
       "      <td>...</td>\n",
       "      <td>5702.0</td>\n",
       "      <td>7691.0</td>\n",
       "      <td>NaN</td>\n",
       "      <td>NaN</td>\n",
       "      <td>99761</td>\n",
       "      <td>85018</td>\n",
       "      <td>AZ</td>\n",
       "      <td>4725.0</td>\n",
       "      <td>0</td>\n",
       "      <td>1633</td>\n",
       "    </tr>\n",
       "    <tr>\n",
       "      <td>4</td>\n",
       "      <td>34991</td>\n",
       "      <td>0</td>\n",
       "      <td>3/4/2009</td>\n",
       "      <td>MANHEIM</td>\n",
       "      <td>2005</td>\n",
       "      <td>4</td>\n",
       "      <td>CHRYSLER</td>\n",
       "      <td>TOWN &amp; COUNTRY FWD V</td>\n",
       "      <td>Bas</td>\n",
       "      <td>MINIVAN 3.3L</td>\n",
       "      <td>...</td>\n",
       "      <td>6300.0</td>\n",
       "      <td>7856.0</td>\n",
       "      <td>NaN</td>\n",
       "      <td>NaN</td>\n",
       "      <td>20833</td>\n",
       "      <td>75236</td>\n",
       "      <td>TX</td>\n",
       "      <td>5670.0</td>\n",
       "      <td>0</td>\n",
       "      <td>1623</td>\n",
       "    </tr>\n",
       "    <tr>\n",
       "      <td>5</td>\n",
       "      <td>62522</td>\n",
       "      <td>0</td>\n",
       "      <td>4/22/2009</td>\n",
       "      <td>ADESA</td>\n",
       "      <td>2007</td>\n",
       "      <td>2</td>\n",
       "      <td>KIA</td>\n",
       "      <td>SPECTRA 2.0L I4 EFI</td>\n",
       "      <td>EX</td>\n",
       "      <td>4D SEDAN EX</td>\n",
       "      <td>...</td>\n",
       "      <td>5087.0</td>\n",
       "      <td>6143.0</td>\n",
       "      <td>NaN</td>\n",
       "      <td>NaN</td>\n",
       "      <td>21053</td>\n",
       "      <td>85226</td>\n",
       "      <td>AZ</td>\n",
       "      <td>5430.0</td>\n",
       "      <td>0</td>\n",
       "      <td>462</td>\n",
       "    </tr>\n",
       "    <tr>\n",
       "      <td>6</td>\n",
       "      <td>1653</td>\n",
       "      <td>0</td>\n",
       "      <td>5/21/2010</td>\n",
       "      <td>ADESA</td>\n",
       "      <td>2005</td>\n",
       "      <td>5</td>\n",
       "      <td>NISSAN</td>\n",
       "      <td>ALTIMA</td>\n",
       "      <td>Bas</td>\n",
       "      <td>4D SEDAN</td>\n",
       "      <td>...</td>\n",
       "      <td>9518.0</td>\n",
       "      <td>11377.0</td>\n",
       "      <td>NaN</td>\n",
       "      <td>NaN</td>\n",
       "      <td>5546</td>\n",
       "      <td>34203</td>\n",
       "      <td>FL</td>\n",
       "      <td>7675.0</td>\n",
       "      <td>0</td>\n",
       "      <td>723</td>\n",
       "    </tr>\n",
       "    <tr>\n",
       "      <td>7</td>\n",
       "      <td>40878</td>\n",
       "      <td>0</td>\n",
       "      <td>9/24/2009</td>\n",
       "      <td>MANHEIM</td>\n",
       "      <td>2008</td>\n",
       "      <td>1</td>\n",
       "      <td>DODGE</td>\n",
       "      <td>AVENGER 4C 2.4L I4 S</td>\n",
       "      <td>SE</td>\n",
       "      <td>4D SEDAN</td>\n",
       "      <td>...</td>\n",
       "      <td>11871.0</td>\n",
       "      <td>12554.0</td>\n",
       "      <td>NaN</td>\n",
       "      <td>NaN</td>\n",
       "      <td>99740</td>\n",
       "      <td>29532</td>\n",
       "      <td>SC</td>\n",
       "      <td>7810.0</td>\n",
       "      <td>0</td>\n",
       "      <td>920</td>\n",
       "    </tr>\n",
       "    <tr>\n",
       "      <td>8</td>\n",
       "      <td>55149</td>\n",
       "      <td>0</td>\n",
       "      <td>7/6/2010</td>\n",
       "      <td>MANHEIM</td>\n",
       "      <td>2006</td>\n",
       "      <td>4</td>\n",
       "      <td>SUZUKI</td>\n",
       "      <td>FORENZA</td>\n",
       "      <td>NaN</td>\n",
       "      <td>4D SEDAN</td>\n",
       "      <td>...</td>\n",
       "      <td>6935.0</td>\n",
       "      <td>8216.0</td>\n",
       "      <td>NaN</td>\n",
       "      <td>NaN</td>\n",
       "      <td>20234</td>\n",
       "      <td>97217</td>\n",
       "      <td>OR</td>\n",
       "      <td>5870.0</td>\n",
       "      <td>0</td>\n",
       "      <td>462</td>\n",
       "    </tr>\n",
       "    <tr>\n",
       "      <td>9</td>\n",
       "      <td>7255</td>\n",
       "      <td>0</td>\n",
       "      <td>6/4/2009</td>\n",
       "      <td>MANHEIM</td>\n",
       "      <td>2006</td>\n",
       "      <td>3</td>\n",
       "      <td>SUZUKI</td>\n",
       "      <td>FORENZA 2.0L I4 EFI</td>\n",
       "      <td>NaN</td>\n",
       "      <td>4D SEDAN</td>\n",
       "      <td>...</td>\n",
       "      <td>4726.0</td>\n",
       "      <td>5756.0</td>\n",
       "      <td>NaN</td>\n",
       "      <td>NaN</td>\n",
       "      <td>18880</td>\n",
       "      <td>30272</td>\n",
       "      <td>GA</td>\n",
       "      <td>4825.0</td>\n",
       "      <td>0</td>\n",
       "      <td>505</td>\n",
       "    </tr>\n",
       "  </tbody>\n",
       "</table>\n",
       "<p>10 rows × 34 columns</p>\n",
       "</div>"
      ],
      "text/plain": [
       "   RefId  IsBadBuy   PurchDate  Auction  VehYear  VehicleAge      Make  \\\n",
       "0    326         1  10/25/2010    ADESA     2008           2       KIA   \n",
       "1  42991         0   5/27/2009  MANHEIM     2006           3     DODGE   \n",
       "2  55273         0   3/18/2010    OTHER     2008           2     DODGE   \n",
       "3  29058         0    6/8/2009    OTHER     2005           4      FORD   \n",
       "4  34991         0    3/4/2009  MANHEIM     2005           4  CHRYSLER   \n",
       "5  62522         0   4/22/2009    ADESA     2007           2       KIA   \n",
       "6   1653         0   5/21/2010    ADESA     2005           5    NISSAN   \n",
       "7  40878         0   9/24/2009  MANHEIM     2008           1     DODGE   \n",
       "8  55149         0    7/6/2010  MANHEIM     2006           4    SUZUKI   \n",
       "9   7255         0    6/4/2009  MANHEIM     2006           3    SUZUKI   \n",
       "\n",
       "                  Model Trim          SubModel  ...  \\\n",
       "0               SPECTRA   EX       4D SEDAN EX  ...   \n",
       "1  STRATUS V6 2.7L V6 M  SXT  4D SEDAN SXT FFV  ...   \n",
       "2               CALIBER   SE          4D WAGON  ...   \n",
       "3  FREESTAR FWD V6 3.9L    S    PASSENGER 3.9L  ...   \n",
       "4  TOWN & COUNTRY FWD V  Bas      MINIVAN 3.3L  ...   \n",
       "5   SPECTRA 2.0L I4 EFI   EX       4D SEDAN EX  ...   \n",
       "6                ALTIMA  Bas          4D SEDAN  ...   \n",
       "7  AVENGER 4C 2.4L I4 S   SE          4D SEDAN  ...   \n",
       "8               FORENZA  NaN          4D SEDAN  ...   \n",
       "9   FORENZA 2.0L I4 EFI  NaN          4D SEDAN  ...   \n",
       "\n",
       "  MMRCurrentRetailAveragePrice MMRCurrentRetailCleanPrice  PRIMEUNIT AUCGUART  \\\n",
       "0                       9605.0                    10650.0        NaN      NaN   \n",
       "1                       6418.0                     7478.0        NaN      NaN   \n",
       "2                      10721.0                    11350.0        NaN      NaN   \n",
       "3                       5702.0                     7691.0        NaN      NaN   \n",
       "4                       6300.0                     7856.0        NaN      NaN   \n",
       "5                       5087.0                     6143.0        NaN      NaN   \n",
       "6                       9518.0                    11377.0        NaN      NaN   \n",
       "7                      11871.0                    12554.0        NaN      NaN   \n",
       "8                       6935.0                     8216.0        NaN      NaN   \n",
       "9                       4726.0                     5756.0        NaN      NaN   \n",
       "\n",
       "   BYRNO VNZIP1 VNST VehBCost  IsOnlineSale  WarrantyCost  \n",
       "0   5546  33619   FL   6100.0             0           533  \n",
       "1  99750  32124   FL   4000.0             0          1630  \n",
       "2  99761  74135   OK   7500.0             0           693  \n",
       "3  99761  85018   AZ   4725.0             0          1633  \n",
       "4  20833  75236   TX   5670.0             0          1623  \n",
       "5  21053  85226   AZ   5430.0             0           462  \n",
       "6   5546  34203   FL   7675.0             0           723  \n",
       "7  99740  29532   SC   7810.0             0           920  \n",
       "8  20234  97217   OR   5870.0             0           462  \n",
       "9  18880  30272   GA   4825.0             0           505  \n",
       "\n",
       "[10 rows x 34 columns]"
      ]
     },
     "execution_count": 354,
     "metadata": {},
     "output_type": "execute_result"
    }
   ],
   "source": [
    "df[:10]"
   ]
  },
  {
   "cell_type": "code",
   "execution_count": 355,
   "metadata": {
    "scrolled": false
   },
   "outputs": [
    {
     "data": {
      "text/html": [
       "<div>\n",
       "<style scoped>\n",
       "    .dataframe tbody tr th:only-of-type {\n",
       "        vertical-align: middle;\n",
       "    }\n",
       "\n",
       "    .dataframe tbody tr th {\n",
       "        vertical-align: top;\n",
       "    }\n",
       "\n",
       "    .dataframe thead th {\n",
       "        text-align: right;\n",
       "    }\n",
       "</style>\n",
       "<table border=\"1\" class=\"dataframe\">\n",
       "  <thead>\n",
       "    <tr style=\"text-align: right;\">\n",
       "      <th></th>\n",
       "      <th></th>\n",
       "    </tr>\n",
       "    <tr>\n",
       "      <th>Make</th>\n",
       "      <th>Model</th>\n",
       "    </tr>\n",
       "  </thead>\n",
       "  <tbody>\n",
       "    <tr>\n",
       "      <td rowspan=\"5\" valign=\"top\">ACURA</td>\n",
       "      <td>3.2 CL 3.2L V 6 NA S</td>\n",
       "    </tr>\n",
       "    <tr>\n",
       "      <td>3.2 TL</td>\n",
       "    </tr>\n",
       "    <tr>\n",
       "      <td>3.2 TL 3.2L V6 EFI</td>\n",
       "    </tr>\n",
       "    <tr>\n",
       "      <td>3.2 TL 3.2L V6 FI DO</td>\n",
       "    </tr>\n",
       "    <tr>\n",
       "      <td>MDX 4WD</td>\n",
       "    </tr>\n",
       "    <tr>\n",
       "      <td>...</td>\n",
       "      <td>...</td>\n",
       "    </tr>\n",
       "    <tr>\n",
       "      <td rowspan=\"3\" valign=\"top\">VOLKSWAGEN</td>\n",
       "      <td>PASSAT 4C</td>\n",
       "    </tr>\n",
       "    <tr>\n",
       "      <td>RABBIT</td>\n",
       "    </tr>\n",
       "    <tr>\n",
       "      <td>TOUAREG V8</td>\n",
       "    </tr>\n",
       "    <tr>\n",
       "      <td rowspan=\"2\" valign=\"top\">VOLVO</td>\n",
       "      <td>S40</td>\n",
       "    </tr>\n",
       "    <tr>\n",
       "      <td>S60</td>\n",
       "    </tr>\n",
       "  </tbody>\n",
       "</table>\n",
       "<p>1030 rows × 0 columns</p>\n",
       "</div>"
      ],
      "text/plain": [
       "Empty DataFrame\n",
       "Columns: []\n",
       "Index: [(ACURA, 3.2 CL 3.2L V 6 NA S), (ACURA, 3.2 TL), (ACURA, 3.2 TL 3.2L V6 EFI), (ACURA, 3.2 TL 3.2L V6 FI DO), (ACURA, MDX 4WD), (ACURA, MDX 4WD 3.5L V6 SOHC), (ACURA, RSX), (ACURA, TL), (ACURA, TSX), (BUICK, CENTURY V6), (BUICK, CENTURY V6 3.1L V6 S), (BUICK, LACROSSE), (BUICK, LACROSSE 3.6L V6 SFI), (BUICK, LACROSSE 3.8L V6 SFI), (BUICK, LE SABRE), (BUICK, LE SABRE 3.8L V6 MFI), (BUICK, LE SABRE 3.8L V6 MPI), (BUICK, LE SABRE Unspecified), (BUICK, LUCERNE V6), (BUICK, LUCERNE V6 3.8L V6 S), (BUICK, PARK AVENUE), (BUICK, PARK AVENUE 3.8L V6), (BUICK, RAINIER AWD V6), (BUICK, RAINIER AWD V6 4.2L), (BUICK, RAINIER AWD V8), (BUICK, RAINIER RWD V6), (BUICK, RAINIER RWD V6 4.2L), (BUICK, RAINIER RWD V8), (BUICK, RAINIER RWD V8 5.3L), (BUICK, REGAL), (BUICK, REGAL 3.8L V6 MFI), (BUICK, REGAL 3.8L V6 MFI SC), (BUICK, REGAL 3.8L V6 SFI), (BUICK, RENDEZVOUS AWD), (BUICK, RENDEZVOUS AWD 3.4L), (BUICK, RENDEZVOUS AWD 3.5L), (BUICK, RENDEZVOUS FWD), (BUICK, RENDEZVOUS FWD 3.4L), (BUICK, RENDEZVOUS FWD 3.5L), (BUICK, TERRAZA FWD V6), (BUICK, TERRAZA FWD V6 3.5L), (CADILLAC, CTS), (CADILLAC, CTS 3.6L V6 SFI), (CADILLAC, SRX AWD V6), (CADILLAC, SRX AWD V6 3.6L V6 S), (CADILLAC, SRX AWD V8 4.6L V8 S), (CADILLAC, STS V6), (CHEVROLET, 1500 SILVERADO PICKU), (CHEVROLET, 1500HD SILVERADO PIC), (CHEVROLET, 2500 SILVERADO PICKU), (CHEVROLET, 2500HD SILVERADO PIC), (CHEVROLET, AVALANCHE 1500 2WD V), (CHEVROLET, AVALANCHE 1500 4WD V), (CHEVROLET, AVALANCHE 2500 2WD V), (CHEVROLET, AVEO), (CHEVROLET, AVEO 1.6L I-4 EFI DO), (CHEVROLET, AVEO 1.6L I-4 MPI DO), (CHEVROLET, AVEO 1.6L I4 DOHC), (CHEVROLET, AVEO 1.6L I4 EFI), (CHEVROLET, AVEO 1.6L I4 EFI / M), (CHEVROLET, CAMARO V6), (CHEVROLET, CAMARO V6 3.8L V6 MF), (CHEVROLET, CAVALIER 4C), (CHEVROLET, CAVALIER 4C 2.2L I 4), (CHEVROLET, CAVALIER 4C 2.2L I-4), (CHEVROLET, CAVALIER 4C 2.2L I4), (CHEVROLET, CAVALIER 4C 2.4L I-4), (CHEVROLET, COBALT), (CHEVROLET, COBALT 2.2L I-4 MPI), (CHEVROLET, COBALT 2.2L I4 MPI), (CHEVROLET, COBALT 2.2L I4 MPI /), (CHEVROLET, COLORADO PICKUP 2WD), (CHEVROLET, COLORADO PICKUP 4WD), (CHEVROLET, EQUINOX AWD V6), (CHEVROLET, EQUINOX AWD V6 3.4L), (CHEVROLET, EQUINOX FWD V6), (CHEVROLET, EQUINOX FWD V6 3.4L), (CHEVROLET, HHR), (CHEVROLET, HHR 2.2L I-4 MPI DOH), (CHEVROLET, HHR 2.2L I4 MPI), (CHEVROLET, HHR 2.2L I4 MPI / SF), (CHEVROLET, HHR 2.4L I-4 MPI), (CHEVROLET, HHR 2.4L I4 MPI), (CHEVROLET, HHR 2.4L I4 MPI / SF), (CHEVROLET, IMPALA), (CHEVROLET, IMPALA 3.4L V6 SFI), (CHEVROLET, IMPALA 3.5L V6 MPI /), (CHEVROLET, IMPALA 3.5L V6 SFI), (CHEVROLET, IMPALA 3.5L V6 SFI F), (CHEVROLET, IMPALA 3.8L V6 MFI), (CHEVROLET, IMPALA 3.8L V6 MFI S), (CHEVROLET, IMPALA 3.8L V6 SFI), (CHEVROLET, IMPALA 3.9L V6 SFI), (CHEVROLET, IMPALA 5.3L V8 SFI), (CHEVROLET, IMPALA V6), (CHEVROLET, IMPALA V6 3.5L V6 MP), (CHEVROLET, IMPALA V6 3.5L V6 SF), (CHEVROLET, IMPALA V6 3.9L V6 SF), (CHEVROLET, MALIBU 4C), (CHEVROLET, MALIBU 4C 2.2L I-4 M), ...]\n",
       "\n",
       "[1030 rows x 0 columns]"
      ]
     },
     "execution_count": 355,
     "metadata": {},
     "output_type": "execute_result"
    }
   ],
   "source": [
    "X = df[['Make', 'Model']]\n",
    "gkk = X.groupby(['Make', 'Model']) \n",
    "gkk.first()\n",
    "#for key, item in gkk:\n",
    "#    print(key)"
   ]
  },
  {
   "cell_type": "code",
   "execution_count": 356,
   "metadata": {},
   "outputs": [
    {
     "data": {
      "text/plain": [
       "PT CRUISER              1845\n",
       "IMPALA                  1616\n",
       "TAURUS                  1154\n",
       "CALIBER                 1108\n",
       "CARAVAN GRAND FWD V6    1021\n",
       "                        ... \n",
       "CANYON PICKUP 4WD I5       1\n",
       "CX-7 FWD 4C                1\n",
       "I-370 PICKUP 2WD 5C        1\n",
       "ACCORD 4C 2.3L I-4 S       1\n",
       "CAMRY 4C EI I-4 2.2L       1\n",
       "Name: Model, Length: 1029, dtype: int64"
      ]
     },
     "execution_count": 356,
     "metadata": {},
     "output_type": "execute_result"
    }
   ],
   "source": [
    "df[\"Model\"].value_counts()"
   ]
  },
  {
   "cell_type": "markdown",
   "metadata": {},
   "source": [
    "# Data Cleaning"
   ]
  },
  {
   "cell_type": "markdown",
   "metadata": {},
   "source": [
    "We can't use here our cleaning function because it also works with missing values, but the main task of pattern mining is to find rules to substitute missing values. So here we do all the data cleaning EXCEPT dealing with missing values"
   ]
  },
  {
   "cell_type": "markdown",
   "metadata": {},
   "source": [
    "<b>Typo correction</b>"
   ]
  },
  {
   "cell_type": "code",
   "execution_count": 357,
   "metadata": {},
   "outputs": [],
   "source": [
    "df.iat[6895, 11]    =   'MANUAL'\n",
    "df.iat[42627, 6]    =   'SCION'\n",
    "\n",
    "#a = df[(df['Nationality']=='TOP LINE ASIAN') | (df['Nationality']=='OTHER ASIAN')].index\n",
    "#for x in a:\n",
    "#    df['Nationality'].values[x] = 'ASIAN'\n",
    "\n",
    "# WheelTypeID 0.0 correction\n",
    "df.iat[3897, 12]    =   1.0\n",
    "df.iat[23432, 12]   =   1.0\n",
    "df.iat[23831, 12]   =   2.0\n",
    "df.iat[45666, 12]   =   1.0\n",
    "\n",
    "# submodel la mode sui group by \n",
    "# Praticamente è la mode sui group by (più o meno specifici)\n",
    "\n",
    "df.iat[28961, 9] = '4D SEDAN SE1'\n",
    "df.iat[35224, 9] = '4D SEDAN SXT FFV'\n",
    "df.iat[48641, 9] = '4D SEDAN SXT FFV'\n",
    "df.iat[28280, 9] = 'PASSENGER 3.9L SE'\n",
    "df.iat[33225, 9] = '4D SUV 4.6L'\n",
    "df.iat[50661, 9] = 'REG CAB 2.2L FFV'\n",
    "df.iat[23019, 9] = '4D SEDAN'\n",
    "\n",
    "# size la mode sui group by\n",
    "df.iat[18532, 16] = 'MEDIUM SUV'\n",
    "df.iat[20016, 16] = 'SMALL SUV'\n",
    "df.iat[35157, 16] = 'SMALL SUV'\n",
    "df.iat[15769, 16] = 'MEDIUM SUV'"
   ]
  },
  {
   "cell_type": "markdown",
   "metadata": {},
   "source": [
    "<b>Dropped features</b>"
   ]
  },
  {
   "cell_type": "code",
   "execution_count": 358,
   "metadata": {},
   "outputs": [],
   "source": [
    "del df['PRIMEUNIT']\n",
    "del df['AUCGUART']\n",
    "del df['RefId']\n",
    "del df['VNZIP1']\n",
    "del df['Auction']\n",
    "del df['IsOnlineSale']\n",
    "del df['SubModel']\n",
    "del df['Color']\n",
    "del df['VehYear']\n",
    "del df['PurchDate']\n",
    "del df['Trim']\n",
    "del df['TopThreeAmericanName']\n",
    "del df['WheelType']\n",
    "del df['BYRNO']\n",
    "del df['MMRAcquisitionAuctionCleanPrice']\n",
    "del df['MMRAcquisitionRetailAveragePrice']\n",
    "del df['MMRAcquisitonRetailCleanPrice']\n",
    "del df['MMRCurrentAuctionAveragePrice']\n",
    "del df['MMRCurrentAuctionCleanPrice']\n",
    "del df['MMRCurrentRetailAveragePrice']\n",
    "del df['MMRCurrentRetailCleanPrice']"
   ]
  },
  {
   "cell_type": "markdown",
   "metadata": {},
   "source": [
    "<b>Row deletion outliers</b>"
   ]
  },
  {
   "cell_type": "code",
   "execution_count": 359,
   "metadata": {},
   "outputs": [],
   "source": [
    "features = ['VehOdo',\n",
    "            'MMRAcquisitionAuctionAveragePrice',\n",
    "            'VehBCost',\n",
    "            'WarrantyCost',\n",
    "            'VehicleAge']\n",
    "for feature in features:\n",
    "    for isBadBuy in [0,1]:\n",
    "        q1 = df[(df.IsBadBuy == isBadBuy)][feature].quantile(0.25)\n",
    "        q3 = df[(df.IsBadBuy == isBadBuy)][feature].quantile(0.75)\n",
    "        iqr = q3 - q1\n",
    "        qlow = q1 - 1.5*iqr\n",
    "        qhigh = q3 + 1.5*iqr\n",
    "\n",
    "        df.drop(df[(df.IsBadBuy == isBadBuy) & (df[feature] <= qlow)].index, inplace=True)\n",
    "        df.drop(df[(df.IsBadBuy == isBadBuy) & (df[feature] >= qhigh)].index, inplace=True)"
   ]
  },
  {
   "cell_type": "markdown",
   "metadata": {},
   "source": [
    "# Data Preparation"
   ]
  },
  {
   "cell_type": "markdown",
   "metadata": {},
   "source": [
    "We have 5 numerical variables: VehicleAge, VehOdo, MMRAcquisitionAuctionAveragePrice, VehBCost and WarrantyCost.\n",
    "The VehicleAge is almost categorical variable (it has only 8 possible values: from 1 to 8), but all the others have thousands of possible unique values. For Pattern Mining it will means that all these values will create different patterns which is not really useful for us. So we have decided to cluster these 4 variables: VehOdo, MMRAcquisitionAuctionAveragePrice, VehBCost and WarrantyCost - and substitute these variables with their class."
   ]
  },
  {
   "cell_type": "markdown",
   "metadata": {},
   "source": [
    "As the method of the clustering we choose hierarchical one. We are not sure if it is true in general but we saw that for VehBCost hierarchical clustering gives us clusters that have almost equal range between minimal value of the cost and the maximum one, the size of the clusters was not the same, but the range, as we said, was plus minus the same. On the other hand, k-means gave us clusters of the same size but the range was very different.\n",
    "We thought that in real life when we want to buy a new car, the groups don't have the same number of options (there is a lot of cars in medium range and only few super expensive ones), but we start our search from the amount of money that we have, so the key factor is the range, not the size of the cluster."
   ]
  },
  {
   "cell_type": "markdown",
   "metadata": {},
   "source": [
    "Also in other papers we saw that they just write: we chose 7 cluster (or 4 clusters, the number here is not important). Nothing else. We at least watched the possible cluster and found some explanation why we chose this one and not another one. We don't want to reopen here from the begining all the discussion about clustering. So lets just assume we use hierarchical clustering."
   ]
  },
  {
   "cell_type": "code",
   "execution_count": 360,
   "metadata": {},
   "outputs": [
    {
     "data": {
      "text/html": [
       "<div>\n",
       "<style scoped>\n",
       "    .dataframe tbody tr th:only-of-type {\n",
       "        vertical-align: middle;\n",
       "    }\n",
       "\n",
       "    .dataframe tbody tr th {\n",
       "        vertical-align: top;\n",
       "    }\n",
       "\n",
       "    .dataframe thead th {\n",
       "        text-align: right;\n",
       "    }\n",
       "</style>\n",
       "<table border=\"1\" class=\"dataframe\">\n",
       "  <thead>\n",
       "    <tr style=\"text-align: right;\">\n",
       "      <th></th>\n",
       "      <th>IsBadBuy</th>\n",
       "      <th>VehicleAge</th>\n",
       "      <th>Make</th>\n",
       "      <th>Model</th>\n",
       "      <th>Transmission</th>\n",
       "      <th>WheelTypeID</th>\n",
       "      <th>VehOdo</th>\n",
       "      <th>Nationality</th>\n",
       "      <th>Size</th>\n",
       "      <th>MMRAcquisitionAuctionAveragePrice</th>\n",
       "      <th>VNST</th>\n",
       "      <th>VehBCost</th>\n",
       "      <th>WarrantyCost</th>\n",
       "    </tr>\n",
       "  </thead>\n",
       "  <tbody>\n",
       "    <tr>\n",
       "      <td>0</td>\n",
       "      <td>1</td>\n",
       "      <td>2</td>\n",
       "      <td>KIA</td>\n",
       "      <td>SPECTRA</td>\n",
       "      <td>AUTO</td>\n",
       "      <td>2.0</td>\n",
       "      <td>61184</td>\n",
       "      <td>OTHER ASIAN</td>\n",
       "      <td>MEDIUM</td>\n",
       "      <td>6796.0</td>\n",
       "      <td>FL</td>\n",
       "      <td>6100.0</td>\n",
       "      <td>533</td>\n",
       "    </tr>\n",
       "    <tr>\n",
       "      <td>1</td>\n",
       "      <td>0</td>\n",
       "      <td>3</td>\n",
       "      <td>DODGE</td>\n",
       "      <td>STRATUS V6 2.7L V6 M</td>\n",
       "      <td>AUTO</td>\n",
       "      <td>2.0</td>\n",
       "      <td>92383</td>\n",
       "      <td>AMERICAN</td>\n",
       "      <td>MEDIUM</td>\n",
       "      <td>5480.0</td>\n",
       "      <td>FL</td>\n",
       "      <td>4000.0</td>\n",
       "      <td>1630</td>\n",
       "    </tr>\n",
       "    <tr>\n",
       "      <td>2</td>\n",
       "      <td>0</td>\n",
       "      <td>2</td>\n",
       "      <td>DODGE</td>\n",
       "      <td>CALIBER</td>\n",
       "      <td>AUTO</td>\n",
       "      <td>2.0</td>\n",
       "      <td>45965</td>\n",
       "      <td>AMERICAN</td>\n",
       "      <td>MEDIUM</td>\n",
       "      <td>8067.0</td>\n",
       "      <td>OK</td>\n",
       "      <td>7500.0</td>\n",
       "      <td>693</td>\n",
       "    </tr>\n",
       "    <tr>\n",
       "      <td>3</td>\n",
       "      <td>0</td>\n",
       "      <td>4</td>\n",
       "      <td>FORD</td>\n",
       "      <td>FREESTAR FWD V6 3.9L</td>\n",
       "      <td>AUTO</td>\n",
       "      <td>2.0</td>\n",
       "      <td>80169</td>\n",
       "      <td>AMERICAN</td>\n",
       "      <td>VAN</td>\n",
       "      <td>4817.0</td>\n",
       "      <td>AZ</td>\n",
       "      <td>4725.0</td>\n",
       "      <td>1633</td>\n",
       "    </tr>\n",
       "    <tr>\n",
       "      <td>4</td>\n",
       "      <td>0</td>\n",
       "      <td>4</td>\n",
       "      <td>CHRYSLER</td>\n",
       "      <td>TOWN &amp; COUNTRY FWD V</td>\n",
       "      <td>AUTO</td>\n",
       "      <td>1.0</td>\n",
       "      <td>77372</td>\n",
       "      <td>AMERICAN</td>\n",
       "      <td>VAN</td>\n",
       "      <td>5430.0</td>\n",
       "      <td>TX</td>\n",
       "      <td>5670.0</td>\n",
       "      <td>1623</td>\n",
       "    </tr>\n",
       "    <tr>\n",
       "      <td>6</td>\n",
       "      <td>0</td>\n",
       "      <td>5</td>\n",
       "      <td>NISSAN</td>\n",
       "      <td>ALTIMA</td>\n",
       "      <td>AUTO</td>\n",
       "      <td>2.0</td>\n",
       "      <td>81478</td>\n",
       "      <td>TOP LINE ASIAN</td>\n",
       "      <td>MEDIUM</td>\n",
       "      <td>6362.0</td>\n",
       "      <td>FL</td>\n",
       "      <td>7675.0</td>\n",
       "      <td>723</td>\n",
       "    </tr>\n",
       "    <tr>\n",
       "      <td>7</td>\n",
       "      <td>0</td>\n",
       "      <td>1</td>\n",
       "      <td>DODGE</td>\n",
       "      <td>AVENGER 4C 2.4L I4 S</td>\n",
       "      <td>AUTO</td>\n",
       "      <td>2.0</td>\n",
       "      <td>56717</td>\n",
       "      <td>AMERICAN</td>\n",
       "      <td>MEDIUM</td>\n",
       "      <td>8495.0</td>\n",
       "      <td>SC</td>\n",
       "      <td>7810.0</td>\n",
       "      <td>920</td>\n",
       "    </tr>\n",
       "    <tr>\n",
       "      <td>8</td>\n",
       "      <td>0</td>\n",
       "      <td>4</td>\n",
       "      <td>SUZUKI</td>\n",
       "      <td>FORENZA</td>\n",
       "      <td>AUTO</td>\n",
       "      <td>2.0</td>\n",
       "      <td>34616</td>\n",
       "      <td>OTHER ASIAN</td>\n",
       "      <td>MEDIUM</td>\n",
       "      <td>3939.0</td>\n",
       "      <td>OR</td>\n",
       "      <td>5870.0</td>\n",
       "      <td>462</td>\n",
       "    </tr>\n",
       "    <tr>\n",
       "      <td>9</td>\n",
       "      <td>0</td>\n",
       "      <td>3</td>\n",
       "      <td>SUZUKI</td>\n",
       "      <td>FORENZA 2.0L I4 EFI</td>\n",
       "      <td>MANUAL</td>\n",
       "      <td>2.0</td>\n",
       "      <td>57337</td>\n",
       "      <td>OTHER ASIAN</td>\n",
       "      <td>MEDIUM</td>\n",
       "      <td>3913.0</td>\n",
       "      <td>GA</td>\n",
       "      <td>4825.0</td>\n",
       "      <td>505</td>\n",
       "    </tr>\n",
       "    <tr>\n",
       "      <td>10</td>\n",
       "      <td>0</td>\n",
       "      <td>5</td>\n",
       "      <td>CHRYSLER</td>\n",
       "      <td>PT CRUISER 2.4L I4 S</td>\n",
       "      <td>AUTO</td>\n",
       "      <td>2.0</td>\n",
       "      <td>85093</td>\n",
       "      <td>AMERICAN</td>\n",
       "      <td>MEDIUM</td>\n",
       "      <td>3936.0</td>\n",
       "      <td>TN</td>\n",
       "      <td>5125.0</td>\n",
       "      <td>1503</td>\n",
       "    </tr>\n",
       "  </tbody>\n",
       "</table>\n",
       "</div>"
      ],
      "text/plain": [
       "    IsBadBuy  VehicleAge      Make                 Model Transmission  \\\n",
       "0          1           2       KIA               SPECTRA         AUTO   \n",
       "1          0           3     DODGE  STRATUS V6 2.7L V6 M         AUTO   \n",
       "2          0           2     DODGE               CALIBER         AUTO   \n",
       "3          0           4      FORD  FREESTAR FWD V6 3.9L         AUTO   \n",
       "4          0           4  CHRYSLER  TOWN & COUNTRY FWD V         AUTO   \n",
       "6          0           5    NISSAN                ALTIMA         AUTO   \n",
       "7          0           1     DODGE  AVENGER 4C 2.4L I4 S         AUTO   \n",
       "8          0           4    SUZUKI               FORENZA         AUTO   \n",
       "9          0           3    SUZUKI   FORENZA 2.0L I4 EFI       MANUAL   \n",
       "10         0           5  CHRYSLER  PT CRUISER 2.4L I4 S         AUTO   \n",
       "\n",
       "    WheelTypeID  VehOdo     Nationality    Size  \\\n",
       "0           2.0   61184     OTHER ASIAN  MEDIUM   \n",
       "1           2.0   92383        AMERICAN  MEDIUM   \n",
       "2           2.0   45965        AMERICAN  MEDIUM   \n",
       "3           2.0   80169        AMERICAN     VAN   \n",
       "4           1.0   77372        AMERICAN     VAN   \n",
       "6           2.0   81478  TOP LINE ASIAN  MEDIUM   \n",
       "7           2.0   56717        AMERICAN  MEDIUM   \n",
       "8           2.0   34616     OTHER ASIAN  MEDIUM   \n",
       "9           2.0   57337     OTHER ASIAN  MEDIUM   \n",
       "10          2.0   85093        AMERICAN  MEDIUM   \n",
       "\n",
       "    MMRAcquisitionAuctionAveragePrice VNST  VehBCost  WarrantyCost  \n",
       "0                              6796.0   FL    6100.0           533  \n",
       "1                              5480.0   FL    4000.0          1630  \n",
       "2                              8067.0   OK    7500.0           693  \n",
       "3                              4817.0   AZ    4725.0          1633  \n",
       "4                              5430.0   TX    5670.0          1623  \n",
       "6                              6362.0   FL    7675.0           723  \n",
       "7                              8495.0   SC    7810.0           920  \n",
       "8                              3939.0   OR    5870.0           462  \n",
       "9                              3913.0   GA    4825.0           505  \n",
       "10                             3936.0   TN    5125.0          1503  "
      ]
     },
     "execution_count": 360,
     "metadata": {},
     "output_type": "execute_result"
    }
   ],
   "source": [
    "df[:10]"
   ]
  },
  {
   "cell_type": "markdown",
   "metadata": {},
   "source": [
    "<b>VehBCost clustering</b>"
   ]
  },
  {
   "cell_type": "markdown",
   "metadata": {},
   "source": [
    "What we did here: took VehBCost, made hierarchical clustering for this variable, chose the threshold and then substituted the VehBCost column with VehBCost-Class which has 5 different classes: all of them have names [min; max] - [1720.0; 3815.0], [3820.0; 5745.0], [5750.0; 7450.0], [7455.0; 9815.0], [9820.0; 11645.0]"
   ]
  },
  {
   "cell_type": "code",
   "execution_count": 49,
   "metadata": {},
   "outputs": [],
   "source": [
    "X = df[[\"VehBCost\"]]\n",
    "\n",
    "scaler = StandardScaler()\n",
    "scaler.fit(X)\n",
    "X = scaler.transform(X)"
   ]
  },
  {
   "cell_type": "code",
   "execution_count": 76,
   "metadata": {},
   "outputs": [
    {
     "ename": "KeyboardInterrupt",
     "evalue": "",
     "output_type": "error",
     "traceback": [
      "\u001b[0;31m---------------------------------------------------------------------------\u001b[0m",
      "\u001b[0;31mKeyboardInterrupt\u001b[0m                         Traceback (most recent call last)",
      "\u001b[0;32m<ipython-input-76-db678239f70d>\u001b[0m in \u001b[0;36m<module>\u001b[0;34m\u001b[0m\n\u001b[0;32m----> 1\u001b[0;31m \u001b[0mdata_dist\u001b[0m \u001b[0;34m=\u001b[0m \u001b[0mpdist\u001b[0m\u001b[0;34m(\u001b[0m\u001b[0mX\u001b[0m\u001b[0;34m,\u001b[0m \u001b[0mmetric\u001b[0m\u001b[0;34m=\u001b[0m\u001b[0;34m'euclidean'\u001b[0m\u001b[0;34m)\u001b[0m\u001b[0;34m\u001b[0m\u001b[0;34m\u001b[0m\u001b[0m\n\u001b[0m",
      "\u001b[0;32m//anaconda3/lib/python3.7/site-packages/scipy/spatial/distance.py\u001b[0m in \u001b[0;36mpdist\u001b[0;34m(X, metric, *args, **kwargs)\u001b[0m\n\u001b[1;32m   2064\u001b[0m             pdist_fn = getattr(_distance_wrap,\n\u001b[1;32m   2065\u001b[0m                                \"pdist_%s_%s_wrap\" % (metric_name, typ))\n\u001b[0;32m-> 2066\u001b[0;31m             \u001b[0mpdist_fn\u001b[0m\u001b[0;34m(\u001b[0m\u001b[0mX\u001b[0m\u001b[0;34m,\u001b[0m \u001b[0mdm\u001b[0m\u001b[0;34m,\u001b[0m \u001b[0;34m**\u001b[0m\u001b[0mkwargs\u001b[0m\u001b[0;34m)\u001b[0m\u001b[0;34m\u001b[0m\u001b[0;34m\u001b[0m\u001b[0m\n\u001b[0m\u001b[1;32m   2067\u001b[0m             \u001b[0;32mreturn\u001b[0m \u001b[0mdm\u001b[0m\u001b[0;34m\u001b[0m\u001b[0;34m\u001b[0m\u001b[0m\n\u001b[1;32m   2068\u001b[0m \u001b[0;34m\u001b[0m\u001b[0m\n",
      "\u001b[0;31mKeyboardInterrupt\u001b[0m: "
     ]
    }
   ],
   "source": [
    "data_dist = pdist(X, metric='euclidean')"
   ]
  },
  {
   "cell_type": "code",
   "execution_count": null,
   "metadata": {},
   "outputs": [],
   "source": [
    "data_link = linkage(data_dist, method='complete', metric='euclidean')"
   ]
  },
  {
   "cell_type": "code",
   "execution_count": 100,
   "metadata": {},
   "outputs": [
    {
     "data": {
      "image/png": "[encoded data removed]",
      "text/plain": [
       "<Figure size 432x288 with 1 Axes>"
      ]
     },
     "metadata": {
      "needs_background": "light"
     },
     "output_type": "display_data"
    }
   ],
   "source": [
    "res = dendrogram(data_link, color_threshold=2, truncate_mode='lastp')"
   ]
  },
  {
   "cell_type": "code",
   "execution_count": 118,
   "metadata": {},
   "outputs": [],
   "source": [
    "color_threshold = 2\n",
    "num_clusters = 5\n",
    "clusters = fcluster(data_link, color_threshold, criterion='distance')\n",
    "df['VehBCost-Class'] = clusters\n",
    "mapClassName = {}\n",
    "for i in range(1, num_clusters+1):\n",
    "    classVehBCost = df[df['VehBCost-Class'] == i]['VehBCost']\n",
    "    mapClassName[i] = \"[\" + str(classVehBCost.min()) + \"; \" + str(classVehBCost.max()) + \"]\"\n",
    "df['VehBCost-Class'] = df['VehBCost-Class'].map(mapClassName).astype(str)\n",
    "del df['VehBCost']"
   ]
  },
  {
   "cell_type": "code",
   "execution_count": 135,
   "metadata": {},
   "outputs": [
    {
     "data": {
      "text/plain": [
       "[5750.0; 7450.0]     18972\n",
       "[7455.0; 9815.0]     17159\n",
       "[3820.0; 5745.0]     14981\n",
       "[9820.0; 11645.0]     2349\n",
       "[1720.0; 3815.0]      1620\n",
       "Name: VehBCost-Class, dtype: int64"
      ]
     },
     "execution_count": 135,
     "metadata": {},
     "output_type": "execute_result"
    }
   ],
   "source": [
    "df['VehBCost-Class'].value_counts()"
   ]
  },
  {
   "cell_type": "markdown",
   "metadata": {},
   "source": [
    "<b>VehOdo clustering</b>"
   ]
  },
  {
   "cell_type": "markdown",
   "metadata": {},
   "source": [
    "What we did here: took VehOdo, made hierarchical clustering for this variable, chose the threshold and then substituted the VehOdo column with VehOdo-Class which has 5 different classes: all of them have names [min; max] - [30212; 45443], [45449; 61627], [61630; 71437], [71439; 91679], [91683; 112029]"
   ]
  },
  {
   "cell_type": "code",
   "execution_count": 120,
   "metadata": {},
   "outputs": [],
   "source": [
    "X = df[[\"VehOdo\"]]\n",
    "\n",
    "scaler = StandardScaler()\n",
    "scaler.fit(X)\n",
    "X = scaler.transform(X)"
   ]
  },
  {
   "cell_type": "code",
   "execution_count": 121,
   "metadata": {},
   "outputs": [],
   "source": [
    "data_dist = pdist(X, metric='euclidean')"
   ]
  },
  {
   "cell_type": "code",
   "execution_count": 122,
   "metadata": {},
   "outputs": [],
   "source": [
    "data_link = linkage(data_dist, method='complete', metric='euclidean')"
   ]
  },
  {
   "cell_type": "code",
   "execution_count": 129,
   "metadata": {},
   "outputs": [
    {
     "data": {
      "image/png": "[encoded data removed]",
      "text/plain": [
       "<Figure size 432x288 with 1 Axes>"
      ]
     },
     "metadata": {
      "needs_background": "light"
     },
     "output_type": "display_data"
    }
   ],
   "source": [
    "res = dendrogram(data_link, color_threshold=1.8, truncate_mode='lastp')"
   ]
  },
  {
   "cell_type": "code",
   "execution_count": 133,
   "metadata": {},
   "outputs": [],
   "source": [
    "color_threshold = 1.8\n",
    "num_clusters = 5\n",
    "clusters = fcluster(data_link, color_threshold, criterion='distance')\n",
    "df['VehOdo-Class'] = clusters\n",
    "mapClassName = {}\n",
    "for i in range(1, num_clusters+1):\n",
    "    classVehBCost = df[df['VehOdo-Class'] == i]['VehOdo']\n",
    "    mapClassName[i] = \"[\" + str(classVehBCost.min()) + \"; \" + str(classVehBCost.max()) + \"]\"\n",
    "df['VehOdo-Class'] = df['VehOdo-Class'].map(mapClassName).astype(str)\n",
    "del df['VehOdo']"
   ]
  },
  {
   "cell_type": "code",
   "execution_count": 134,
   "metadata": {},
   "outputs": [
    {
     "data": {
      "text/plain": [
       "[71439; 91679]     27136\n",
       "[61630; 71437]     11288\n",
       "[45449; 61627]     11150\n",
       "[91683; 112029]     2940\n",
       "[30212; 45443]      2567\n",
       "Name: VehOdo-Class, dtype: int64"
      ]
     },
     "execution_count": 134,
     "metadata": {},
     "output_type": "execute_result"
    }
   ],
   "source": [
    "df['VehOdo-Class'].value_counts()"
   ]
  },
  {
   "cell_type": "markdown",
   "metadata": {},
   "source": [
    "<b>MMRAcquisitionAuctionAveragePrice</b>"
   ]
  },
  {
   "cell_type": "markdown",
   "metadata": {},
   "source": [
    "What we did here: took MMRAcquisitionAuctionAveragePrice, made hierarchical clustering for this variable, chose the threshold and then substituted the MMRAcquisitionAuctionAveragePrice column with MMRAcquisitionAuctionAveragePrice-Class which has 4 different classes: all of them have names [min; max] - [884.0; 3619.0], [3620.0; 6609.0], [6610.0; 10416.0], [10417.0; 12951.0].\n",
    "Here we also have missing values, so there is one more group: group NaN. We should also not forget that here we have values 0.0 that are not real values! They are missing values, so as the first step we change 0.0 to NaN."
   ]
  },
  {
   "cell_type": "code",
   "execution_count": 228,
   "metadata": {},
   "outputs": [],
   "source": [
    "# 0 as acquisition price is still Missing value so here we just make controll\n",
    "df.loc[df[\"MMRAcquisitionAuctionAveragePrice\"] == 0] = np.nan\n",
    "X = df[df['MMRAcquisitionAuctionAveragePrice'].notnull()][['MMRAcquisitionAuctionAveragePrice']]\n",
    "\n",
    "scaler = StandardScaler()\n",
    "scaler.fit(X)\n",
    "X = scaler.transform(X)"
   ]
  },
  {
   "cell_type": "code",
   "execution_count": 229,
   "metadata": {},
   "outputs": [],
   "source": [
    "data_dist = pdist(X, metric='euclidean')"
   ]
  },
  {
   "cell_type": "code",
   "execution_count": 230,
   "metadata": {},
   "outputs": [],
   "source": [
    "data_link = linkage(data_dist, method='complete', metric='euclidean')"
   ]
  },
  {
   "cell_type": "code",
   "execution_count": 231,
   "metadata": {},
   "outputs": [
    {
     "data": {
      "image/png": "[encoded data removed]",
      "text/plain": [
       "<Figure size 432x288 with 1 Axes>"
      ]
     },
     "metadata": {
      "needs_background": "light"
     },
     "output_type": "display_data"
    }
   ],
   "source": [
    "res = dendrogram(data_link, color_threshold=1.8, truncate_mode='lastp')"
   ]
  },
  {
   "cell_type": "code",
   "execution_count": 235,
   "metadata": {},
   "outputs": [],
   "source": [
    "color_threshold = 1.8\n",
    "num_clusters = 4\n",
    "clusters = fcluster(data_link, color_threshold, criterion='distance')\n",
    "df[\"MMRAcquisitionAuctionAveragePrice-Class\"] = np.nan\n",
    "df.loc[df[\"MMRAcquisitionAuctionAveragePrice\"].notnull(), \"MMRAcquisitionAuctionAveragePrice-Class\"] = clusters\n",
    "mapClassName = {}\n",
    "for i in range(1, num_clusters+1):\n",
    "    classVehBCost = df[df['MMRAcquisitionAuctionAveragePrice-Class'] == i]['MMRAcquisitionAuctionAveragePrice']\n",
    "    mapClassName[i] = \"[\" + str(classVehBCost.min()) + \"; \" + str(classVehBCost.max()) + \"]\"\n",
    "df['MMRAcquisitionAuctionAveragePrice-Class'] = df['MMRAcquisitionAuctionAveragePrice-Class'].map(mapClassName).astype(str)\n",
    "del df['MMRAcquisitionAuctionAveragePrice']"
   ]
  },
  {
   "cell_type": "code",
   "execution_count": 236,
   "metadata": {},
   "outputs": [
    {
     "data": {
      "text/plain": [
       "[3620.0; 6609.0]      23304\n",
       "[6610.0; 10416.0]     21853\n",
       "[884.0; 3619.0]        7320\n",
       "[10417.0; 12951.0]     1985\n",
       "nan                     619\n",
       "Name: MMRAcquisitionAuctionAveragePrice-Class, dtype: int64"
      ]
     },
     "execution_count": 236,
     "metadata": {},
     "output_type": "execute_result"
    }
   ],
   "source": [
    "df['MMRAcquisitionAuctionAveragePrice-Class'].value_counts()"
   ]
  },
  {
   "cell_type": "markdown",
   "metadata": {},
   "source": [
    "<b>WarrantyCost</b>"
   ]
  },
  {
   "cell_type": "markdown",
   "metadata": {},
   "source": [
    "What we did here: took WarrantyCost, made hierarchical clustering for this variable, chose the threshold and then substituted the WarrantyCost column with WarrantyCost-Class which has 5 different classes: all of them have names [min; max] - [462.0; 728.0], [754.0; 1223.0], [1241.0; 1808.0], [1857.0; 2282.0], [2322.0; 2838.0]. Here we also have missing values, so there is one more group: group NaN."
   ]
  },
  {
   "cell_type": "code",
   "execution_count": 246,
   "metadata": {},
   "outputs": [],
   "source": [
    "X = df[df['WarrantyCost'].notnull()][['WarrantyCost']]\n",
    "\n",
    "scaler = StandardScaler()\n",
    "scaler.fit(X)\n",
    "X = scaler.transform(X)"
   ]
  },
  {
   "cell_type": "code",
   "execution_count": 247,
   "metadata": {},
   "outputs": [],
   "source": [
    "data_dist = pdist(X, metric='euclidean')"
   ]
  },
  {
   "cell_type": "code",
   "execution_count": 248,
   "metadata": {},
   "outputs": [],
   "source": [
    "data_link = linkage(data_dist, method='complete', metric='euclidean')"
   ]
  },
  {
   "cell_type": "code",
   "execution_count": 250,
   "metadata": {},
   "outputs": [
    {
     "data": {
      "image/png": "[encoded data removed]",
      "text/plain": [
       "<Figure size 432x288 with 1 Axes>"
      ]
     },
     "metadata": {
      "needs_background": "light"
     },
     "output_type": "display_data"
    }
   ],
   "source": [
    "res = dendrogram(data_link, color_threshold=1.2, truncate_mode='lastp')"
   ]
  },
  {
   "cell_type": "code",
   "execution_count": 254,
   "metadata": {},
   "outputs": [],
   "source": [
    "color_threshold = 1.2\n",
    "num_clusters = 5\n",
    "clusters = fcluster(data_link, color_threshold, criterion='distance')\n",
    "df[\"WarrantyCost-Class\"] = np.nan\n",
    "df.loc[df[\"WarrantyCost\"].notnull(), \"WarrantyCost-Class\"] = clusters\n",
    "mapClassName = {}\n",
    "for i in range(1, num_clusters+1):\n",
    "    classVehBCost = df[df['WarrantyCost-Class'] == i]['WarrantyCost']\n",
    "    mapClassName[i] = \"[\" + str(classVehBCost.min()) + \"; \" + str(classVehBCost.max()) + \"]\"\n",
    "df['WarrantyCost-Class'] = df['WarrantyCost-Class'].map(mapClassName).astype(str)\n",
    "del df['WarrantyCost']"
   ]
  },
  {
   "cell_type": "code",
   "execution_count": 252,
   "metadata": {},
   "outputs": [
    {
     "data": {
      "text/plain": [
       "[754.0; 1223.0]     20513\n",
       "[1241.0; 1808.0]    16770\n",
       "[462.0; 728.0]       9618\n",
       "[1857.0; 2282.0]     6402\n",
       "[2322.0; 2838.0]     1171\n",
       "nan                   607\n",
       "Name: WarrantyCost-Class, dtype: int64"
      ]
     },
     "execution_count": 252,
     "metadata": {},
     "output_type": "execute_result"
    }
   ],
   "source": [
    "df['WarrantyCost-Class'].value_counts()"
   ]
  },
  {
   "cell_type": "markdown",
   "metadata": {},
   "source": [
    "So after all the transformations we should get something like this:"
   ]
  },
  {
   "cell_type": "markdown",
   "metadata": {},
   "source": [
    "But to get this result I did hierarchical clustering 4 times, which is really time consuming, so I created the shortcut of division into clusters, so from now we didn't have to wait for so long to have our division for numerical values"
   ]
  },
  {
   "cell_type": "code",
   "execution_count": 361,
   "metadata": {},
   "outputs": [],
   "source": [
    "# VehBCost\n",
    "df[\"VehBCost-Class\"] = np.nan\n",
    "criteria = [df['VehBCost'].between(1720, 3815), df['VehBCost'].between(3820, 5745), df['VehBCost'].between(5750, 7450), df['VehBCost'].between(7455, 9815), df['VehBCost'].between(9820, 11645)]\n",
    "values = [\"[1720; 3815]\", \"[3820; 5745]\", \"[5750; 7450]\", \"[7455; 9815]\", \"[9820; 11645]\"]\n",
    "df['VehBCost-Class'] = np.select(criteria, values, 0)\n",
    "del df[\"VehBCost\"]\n",
    "\n",
    "# VehOdo\n",
    "df[\"VehOdo-Class\"] = np.nan\n",
    "criteria = [df['VehOdo'].between(30212, 45443), df['VehOdo'].between(45449, 61627), df['VehOdo'].between(61630, 71437), df['VehOdo'].between(71439, 91679), df['VehOdo'].between(91683, 112029)]\n",
    "values = [\"[30212; 45443]\", \"[45449; 61627]\", \"[61630; 71437]\", \"[71439; 91679]\", \"[91683; 112029]\"]\n",
    "df['VehOdo-Class'] = np.select(criteria, values, 0)\n",
    "del df[\"VehOdo\"]\n",
    "\n",
    "# MMRAcquisitionAuctionAveragePrice\n",
    "df.loc[df[\"MMRAcquisitionAuctionAveragePrice\"] == 0, \"MMRAcquisitionAuctionAveragePrice\"] = np.nan\n",
    "df[\"MMRAcquisitionAuctionAveragePrice-Class\"] = np.nan\n",
    "criteria = [df['MMRAcquisitionAuctionAveragePrice'].between(884, 3619), df['MMRAcquisitionAuctionAveragePrice'].between(3620, 6609), df['MMRAcquisitionAuctionAveragePrice'].between(6610, 10416), df['MMRAcquisitionAuctionAveragePrice'].between(10417, 12951)]\n",
    "values = [\"[884; 3619]\", \"[3620; 6609]\", \"[6610; 10416]\", \"[10417; 12951]\"]\n",
    "df['MMRAcquisitionAuctionAveragePrice-Class'] = np.select(criteria, values, np.nan)\n",
    "del df[\"MMRAcquisitionAuctionAveragePrice\"]\n",
    "\n",
    "# MMRAcquisitionAuctionAveragePrice\n",
    "df[\"WarrantyCost-Class\"] = np.nan\n",
    "criteria = [df['WarrantyCost'].between(462, 728), df['WarrantyCost'].between(754, 1223), df['WarrantyCost'].between(1241, 1808), df['WarrantyCost'].between(1857, 2282), df['WarrantyCost'].between(2322, 2838)]\n",
    "values = [\"[462; 728]\", \"[754; 1223]\", \"[1241; 1808]\", \"[1857; 2282]\", \"[2322; 2838]\"]\n",
    "df['WarrantyCost-Class'] = np.select(criteria, values, np.nan)\n",
    "del df[\"WarrantyCost\"]"
   ]
  },
  {
   "cell_type": "code",
   "execution_count": 369,
   "metadata": {},
   "outputs": [
    {
     "data": {
      "text/html": [
       "<div>\n",
       "<style scoped>\n",
       "    .dataframe tbody tr th:only-of-type {\n",
       "        vertical-align: middle;\n",
       "    }\n",
       "\n",
       "    .dataframe tbody tr th {\n",
       "        vertical-align: top;\n",
       "    }\n",
       "\n",
       "    .dataframe thead th {\n",
       "        text-align: right;\n",
       "    }\n",
       "</style>\n",
       "<table border=\"1\" class=\"dataframe\">\n",
       "  <thead>\n",
       "    <tr style=\"text-align: right;\">\n",
       "      <th></th>\n",
       "      <th>IsBadBuy</th>\n",
       "      <th>VehicleAge</th>\n",
       "      <th>Make</th>\n",
       "      <th>Model</th>\n",
       "      <th>Transmission</th>\n",
       "      <th>WheelTypeID</th>\n",
       "      <th>Nationality</th>\n",
       "      <th>Size</th>\n",
       "      <th>VNST</th>\n",
       "      <th>VehBCost-Class</th>\n",
       "      <th>VehOdo-Class</th>\n",
       "      <th>MMRAcquisitionAuctionAveragePrice-Class</th>\n",
       "      <th>WarrantyCost-Class</th>\n",
       "    </tr>\n",
       "  </thead>\n",
       "  <tbody>\n",
       "    <tr>\n",
       "      <td>0</td>\n",
       "      <td>1</td>\n",
       "      <td>2</td>\n",
       "      <td>KIA</td>\n",
       "      <td>SPECTRA</td>\n",
       "      <td>AUTO</td>\n",
       "      <td>2.0</td>\n",
       "      <td>OTHER ASIAN</td>\n",
       "      <td>MEDIUM</td>\n",
       "      <td>FL</td>\n",
       "      <td>[5750; 7450]</td>\n",
       "      <td>[45449; 61627]</td>\n",
       "      <td>[6610; 10416]</td>\n",
       "      <td>[462; 728]</td>\n",
       "    </tr>\n",
       "    <tr>\n",
       "      <td>1</td>\n",
       "      <td>0</td>\n",
       "      <td>3</td>\n",
       "      <td>DODGE</td>\n",
       "      <td>STRATUS V6 2.7L V6 M</td>\n",
       "      <td>AUTO</td>\n",
       "      <td>2.0</td>\n",
       "      <td>AMERICAN</td>\n",
       "      <td>MEDIUM</td>\n",
       "      <td>FL</td>\n",
       "      <td>[3820; 5745]</td>\n",
       "      <td>[91683; 112029]</td>\n",
       "      <td>[3620; 6609]</td>\n",
       "      <td>[1241; 1808]</td>\n",
       "    </tr>\n",
       "    <tr>\n",
       "      <td>2</td>\n",
       "      <td>0</td>\n",
       "      <td>2</td>\n",
       "      <td>DODGE</td>\n",
       "      <td>CALIBER</td>\n",
       "      <td>AUTO</td>\n",
       "      <td>2.0</td>\n",
       "      <td>AMERICAN</td>\n",
       "      <td>MEDIUM</td>\n",
       "      <td>OK</td>\n",
       "      <td>[7455; 9815]</td>\n",
       "      <td>[45449; 61627]</td>\n",
       "      <td>[6610; 10416]</td>\n",
       "      <td>[462; 728]</td>\n",
       "    </tr>\n",
       "    <tr>\n",
       "      <td>3</td>\n",
       "      <td>0</td>\n",
       "      <td>4</td>\n",
       "      <td>FORD</td>\n",
       "      <td>FREESTAR FWD V6 3.9L</td>\n",
       "      <td>AUTO</td>\n",
       "      <td>2.0</td>\n",
       "      <td>AMERICAN</td>\n",
       "      <td>VAN</td>\n",
       "      <td>AZ</td>\n",
       "      <td>[3820; 5745]</td>\n",
       "      <td>[71439; 91679]</td>\n",
       "      <td>[3620; 6609]</td>\n",
       "      <td>[1241; 1808]</td>\n",
       "    </tr>\n",
       "    <tr>\n",
       "      <td>4</td>\n",
       "      <td>0</td>\n",
       "      <td>4</td>\n",
       "      <td>CHRYSLER</td>\n",
       "      <td>TOWN &amp; COUNTRY FWD V</td>\n",
       "      <td>AUTO</td>\n",
       "      <td>1.0</td>\n",
       "      <td>AMERICAN</td>\n",
       "      <td>VAN</td>\n",
       "      <td>TX</td>\n",
       "      <td>[3820; 5745]</td>\n",
       "      <td>[71439; 91679]</td>\n",
       "      <td>[3620; 6609]</td>\n",
       "      <td>[1241; 1808]</td>\n",
       "    </tr>\n",
       "  </tbody>\n",
       "</table>\n",
       "</div>"
      ],
      "text/plain": [
       "   IsBadBuy  VehicleAge      Make                 Model Transmission  \\\n",
       "0         1           2       KIA               SPECTRA         AUTO   \n",
       "1         0           3     DODGE  STRATUS V6 2.7L V6 M         AUTO   \n",
       "2         0           2     DODGE               CALIBER         AUTO   \n",
       "3         0           4      FORD  FREESTAR FWD V6 3.9L         AUTO   \n",
       "4         0           4  CHRYSLER  TOWN & COUNTRY FWD V         AUTO   \n",
       "\n",
       "   WheelTypeID  Nationality    Size VNST VehBCost-Class     VehOdo-Class  \\\n",
       "0          2.0  OTHER ASIAN  MEDIUM   FL   [5750; 7450]   [45449; 61627]   \n",
       "1          2.0     AMERICAN  MEDIUM   FL   [3820; 5745]  [91683; 112029]   \n",
       "2          2.0     AMERICAN  MEDIUM   OK   [7455; 9815]   [45449; 61627]   \n",
       "3          2.0     AMERICAN     VAN   AZ   [3820; 5745]   [71439; 91679]   \n",
       "4          1.0     AMERICAN     VAN   TX   [3820; 5745]   [71439; 91679]   \n",
       "\n",
       "  MMRAcquisitionAuctionAveragePrice-Class WarrantyCost-Class  \n",
       "0                           [6610; 10416]         [462; 728]  \n",
       "1                            [3620; 6609]       [1241; 1808]  \n",
       "2                           [6610; 10416]         [462; 728]  \n",
       "3                            [3620; 6609]       [1241; 1808]  \n",
       "4                            [3620; 6609]       [1241; 1808]  "
      ]
     },
     "execution_count": 369,
     "metadata": {},
     "output_type": "execute_result"
    }
   ],
   "source": [
    "df.head()"
   ]
  },
  {
   "cell_type": "code",
   "execution_count": 371,
   "metadata": {},
   "outputs": [
    {
     "data": {
      "text/plain": [
       "array([2, 3, 4, 5, 1, 7, 6, 8])"
      ]
     },
     "execution_count": 371,
     "metadata": {},
     "output_type": "execute_result"
    }
   ],
   "source": [
    "df['VehicleAge'].unique()"
   ]
  },
  {
   "cell_type": "markdown",
   "metadata": {},
   "source": [
    "# Apriori algorythm"
   ]
  },
  {
   "cell_type": "code",
   "execution_count": 346,
   "metadata": {
    "scrolled": true
   },
   "outputs": [],
   "source": [
    "#help(apriori)"
   ]
  },
  {
   "cell_type": "code",
   "execution_count": 199,
   "metadata": {},
   "outputs": [],
   "source": [
    "baskets = df.values.tolist()"
   ]
  },
  {
   "cell_type": "code",
   "execution_count": 200,
   "metadata": {},
   "outputs": [
    {
     "data": {
      "text/plain": [
       "[1,\n",
       " 2,\n",
       " 'KIA',\n",
       " 'SPECTRA',\n",
       " 'AUTO',\n",
       " 2.0,\n",
       " 'OTHER ASIAN',\n",
       " 'MEDIUM',\n",
       " 'FL',\n",
       " '[5750; 7450]',\n",
       " '[45449; 61627]',\n",
       " '[6610; 10416]',\n",
       " '[462; 728]']"
      ]
     },
     "execution_count": 200,
     "metadata": {},
     "output_type": "execute_result"
    }
   ],
   "source": [
    "baskets[0]"
   ]
  },
  {
   "cell_type": "markdown",
   "metadata": {},
   "source": [
    "# Closed itemsets "
   ]
  },
  {
   "cell_type": "code",
   "execution_count": 245,
   "metadata": {},
   "outputs": [
    {
     "name": "stdout",
     "output_type": "stream",
     "text": [
      "Number of itemsets: 5\n"
     ]
    },
    {
     "data": {
      "text/plain": [
       "[(('AUTO',), 53157, 96.5069624734482),\n",
       " ((0,), 48388, 87.84880448793595),\n",
       " ((0, 'AUTO'), 46690, 84.76607178518908),\n",
       " (('AMERICAN',), 46060, 83.62230170113106),\n",
       " (('AMERICAN', 'AUTO'), 44854, 81.43279896879142)]"
      ]
     },
     "execution_count": 245,
     "metadata": {},
     "output_type": "execute_result"
    }
   ],
   "source": [
    "#support 80%\n",
    "itemsets = apriori(baskets, supp=80, zmin=1, target='c', report='S') \n",
    "print('Number of itemsets:', len(itemsets))\n",
    "itemsets.sort(key=lambda x: x[1],reverse=True)\n",
    "itemsets"
   ]
  },
  {
   "cell_type": "code",
   "execution_count": 247,
   "metadata": {},
   "outputs": [
    {
     "name": "stdout",
     "output_type": "stream",
     "text": [
      "Number of itemsets: 7\n"
     ]
    },
    {
     "data": {
      "text/plain": [
       "[(('AUTO',), 96.5069624734482),\n",
       " ((0,), 87.84880448793595),\n",
       " ((0, 'AUTO'), 84.76607178518908),\n",
       " (('AMERICAN',), 83.62230170113106),\n",
       " (('AMERICAN', 'AUTO'), 81.43279896879142),\n",
       " (('AMERICAN', 0), 73.65153138105698),\n",
       " (('AMERICAN', 0, 'AUTO'), 71.73072384306748)]"
      ]
     },
     "execution_count": 247,
     "metadata": {},
     "output_type": "execute_result"
    }
   ],
   "source": [
    "#support 70%\n",
    "itemsets = apriori(baskets, supp=70, zmin=1, target='c', report='S') \n",
    "print('Number of itemsets:', len(itemsets))\n",
    "itemsets.sort(key=lambda x: x[1],reverse=True)\n",
    "itemsets"
   ]
  },
  {
   "cell_type": "code",
   "execution_count": 203,
   "metadata": {},
   "outputs": [
    {
     "name": "stdout",
     "output_type": "stream",
     "text": [
      "Number of itemsets: 11\n"
     ]
    },
    {
     "data": {
      "text/plain": [
       "[(('AUTO',), 96.5069624734482),\n",
       " ((0,), 87.84880448793595),\n",
       " ((0, 'AUTO'), 84.76607178518908),\n",
       " (('AMERICAN',), 83.62230170113106),\n",
       " (('AMERICAN', 'AUTO'), 81.43279896879142),\n",
       " (('AMERICAN', 0), 73.65153138105698),\n",
       " (('AMERICAN', 0, 'AUTO'), 71.73072384306748),\n",
       " ((1,), 58.73894809462428),\n",
       " ((1, 'AUTO'), 56.94159510539024),\n",
       " ((2,), 50.65993718342078),\n",
       " ((1, 'AMERICAN'), 50.03903342350357)]"
      ]
     },
     "execution_count": 203,
     "metadata": {},
     "output_type": "execute_result"
    }
   ],
   "source": [
    "#support 50%\n",
    "itemsets = apriori(baskets, supp=50, zmin=1, target='c', report='S') \n",
    "print('Number of itemsets:', len(itemsets))\n",
    "itemsets.sort(key=lambda x: x[1],reverse=True)\n",
    "itemsets"
   ]
  },
  {
   "cell_type": "markdown",
   "metadata": {},
   "source": [
    "# Maximal itemsets"
   ]
  },
  {
   "cell_type": "code",
   "execution_count": 339,
   "metadata": {},
   "outputs": [
    {
     "name": "stdout",
     "output_type": "stream",
     "text": [
      "Number of itemsets: 2\n"
     ]
    },
    {
     "data": {
      "text/plain": [
       "[((0, 'AUTO'), 84.76607178518908), (('AMERICAN', 'AUTO'), 81.43279896879142)]"
      ]
     },
     "execution_count": 339,
     "metadata": {},
     "output_type": "execute_result"
    }
   ],
   "source": [
    "#support 80%\n",
    "itemsets = apriori(baskets, supp=80, zmin=1, target='m', report='S') \n",
    "print('Number of itemsets:', len(itemsets))\n",
    "itemsets.sort(key=lambda x: x[1],reverse=True)\n",
    "itemsets"
   ]
  },
  {
   "cell_type": "code",
   "execution_count": 340,
   "metadata": {},
   "outputs": [
    {
     "name": "stdout",
     "output_type": "stream",
     "text": [
      "Number of itemsets: 1\n"
     ]
    },
    {
     "data": {
      "text/plain": [
       "[(('AMERICAN', 0, 'AUTO'), 71.73072384306748)]"
      ]
     },
     "execution_count": 340,
     "metadata": {},
     "output_type": "execute_result"
    }
   ],
   "source": [
    "#support 70%\n",
    "itemsets = apriori(baskets, supp=70, zmin=1, target='m', report='S') \n",
    "print('Number of itemsets:', len(itemsets))\n",
    "itemsets.sort(key=lambda x: x[1],reverse=True)\n",
    "itemsets"
   ]
  },
  {
   "cell_type": "code",
   "execution_count": 345,
   "metadata": {},
   "outputs": [
    {
     "name": "stdout",
     "output_type": "stream",
     "text": [
      "Number of itemsets: 4\n"
     ]
    },
    {
     "data": {
      "text/plain": [
       "[(('AMERICAN', 0, 'AUTO'), 71.73072384306748),\n",
       " ((1, 'AUTO'), 56.94159510539024),\n",
       " ((2,), 50.65993718342078),\n",
       " ((1, 'AMERICAN'), 50.03903342350357)]"
      ]
     },
     "execution_count": 345,
     "metadata": {},
     "output_type": "execute_result"
    }
   ],
   "source": [
    "#support 50%\n",
    "itemsets = apriori(baskets, supp=50, zmin=1, target='m', report='S') \n",
    "print('Number of itemsets:', len(itemsets))\n",
    "itemsets.sort(key=lambda x: x[1],reverse=True)\n",
    "itemsets"
   ]
  },
  {
   "cell_type": "code",
   "execution_count": 363,
   "metadata": {},
   "outputs": [
    {
     "name": "stdout",
     "output_type": "stream",
     "text": [
      "Number of itemsets: 10\n"
     ]
    },
    {
     "data": {
      "text/plain": [
       "[(('AMERICAN', 0, 'AUTO'), 71.73072384306748),\n",
       " ((1, 'AMERICAN', 'AUTO'), 48.840798097347545),\n",
       " ((1, 0, 'AUTO'), 45.200704417131135),\n",
       " ((2, 0, 'AUTO'), 44.984658956809064),\n",
       " (('MEDIUM', 'AUTO'), 41.59510539024346),\n",
       " (('[71439; 91679]', 0, 'AUTO'), 41.15030591310978),\n",
       " (('[71439; 91679]', 'AMERICAN', 'AUTO'), 41.026851364354314),\n",
       " ((2, 'AMERICAN', 'AUTO'), 40.885241734899516),\n",
       " (('[3620; 6609]', 'AUTO'), 40.34966685426917),\n",
       " ((1, 'AMERICAN', 0), 40.068263103429494)]"
      ]
     },
     "execution_count": 363,
     "metadata": {},
     "output_type": "execute_result"
    }
   ],
   "source": [
    "#support 40%\n",
    "itemsets = apriori(baskets, supp=40, zmin=1, target='m', report='S') \n",
    "print('Number of itemsets:', len(itemsets))\n",
    "itemsets.sort(key=lambda x: x[1],reverse=True)\n",
    "itemsets"
   ]
  },
  {
   "cell_type": "markdown",
   "metadata": {},
   "source": [
    "# All frequent itemsets"
   ]
  },
  {
   "cell_type": "code",
   "execution_count": 207,
   "metadata": {},
   "outputs": [
    {
     "name": "stdout",
     "output_type": "stream",
     "text": [
      "Number of itemsets: 5\n"
     ]
    },
    {
     "data": {
      "text/plain": [
       "[(('AUTO',), 96.5069624734482),\n",
       " ((0,), 87.84880448793595),\n",
       " ((0, 'AUTO'), 84.76607178518908),\n",
       " (('AMERICAN',), 83.62230170113106),\n",
       " (('AMERICAN', 'AUTO'), 81.43279896879142)]"
      ]
     },
     "execution_count": 207,
     "metadata": {},
     "output_type": "execute_result"
    }
   ],
   "source": [
    "#support 80%\n",
    "itemsets = apriori(baskets, supp=80, zmin=1, target='a', report='S') \n",
    "print('Number of itemsets:', len(itemsets))\n",
    "itemsets.sort(key=lambda x: x[1],reverse=True)\n",
    "itemsets"
   ]
  },
  {
   "cell_type": "code",
   "execution_count": 208,
   "metadata": {},
   "outputs": [
    {
     "name": "stdout",
     "output_type": "stream",
     "text": [
      "Number of itemsets: 7\n"
     ]
    },
    {
     "data": {
      "text/plain": [
       "[(('AUTO',), 96.5069624734482),\n",
       " ((0,), 87.84880448793595),\n",
       " ((0, 'AUTO'), 84.76607178518908),\n",
       " (('AMERICAN',), 83.62230170113106),\n",
       " (('AMERICAN', 'AUTO'), 81.43279896879142),\n",
       " (('AMERICAN', 0), 73.65153138105698),\n",
       " (('AMERICAN', 0, 'AUTO'), 71.73072384306748)]"
      ]
     },
     "execution_count": 208,
     "metadata": {},
     "output_type": "execute_result"
    }
   ],
   "source": [
    "# support del 70%\n",
    "itemsets = apriori(baskets, supp=70, zmin=1, target='a', report='S') \n",
    "print('Number of itemsets:', len(itemsets))\n",
    "itemsets.sort(key=lambda x: x[1],reverse=True)\n",
    "itemsets"
   ]
  },
  {
   "cell_type": "code",
   "execution_count": 209,
   "metadata": {},
   "outputs": [
    {
     "name": "stdout",
     "output_type": "stream",
     "text": [
      "Number of itemsets: 11\n"
     ]
    },
    {
     "data": {
      "text/plain": [
       "[(('AUTO',), 96.5069624734482),\n",
       " ((0,), 87.84880448793595),\n",
       " ((0, 'AUTO'), 84.76607178518908),\n",
       " (('AMERICAN',), 83.62230170113106),\n",
       " (('AMERICAN', 'AUTO'), 81.43279896879142),\n",
       " (('AMERICAN', 0), 73.65153138105698),\n",
       " (('AMERICAN', 0, 'AUTO'), 71.73072384306748),\n",
       " ((1,), 58.73894809462428),\n",
       " ((1, 'AUTO'), 56.94159510539024),\n",
       " ((2,), 50.65993718342078),\n",
       " ((1, 'AMERICAN'), 50.03903342350357)]"
      ]
     },
     "execution_count": 209,
     "metadata": {},
     "output_type": "execute_result"
    }
   ],
   "source": [
    "#support 50%\n",
    "freq_itemsets = apriori(baskets, supp=50, zmin=1, target='a', report='S') \n",
    "print('Number of itemsets:', len(freq_itemsets))\n",
    "freq_itemsets.sort(key=lambda x: x[1],reverse=True)\n",
    "freq_itemsets"
   ]
  },
  {
   "cell_type": "markdown",
   "metadata": {},
   "source": [
    "# Association rules"
   ]
  },
  {
   "cell_type": "code",
   "execution_count": 323,
   "metadata": {},
   "outputs": [],
   "source": [
    "#help(apriori)"
   ]
  },
  {
   "cell_type": "markdown",
   "metadata": {},
   "source": [
    "vediamo quante regole otteniamo cambiando il min_confidence"
   ]
  },
  {
   "cell_type": "code",
   "execution_count": 372,
   "metadata": {},
   "outputs": [
    {
     "name": "stdout",
     "output_type": "stream",
     "text": [
      "Number of rule: 49\n"
     ]
    }
   ],
   "source": [
    "#confidenza del 80%\n",
    "rules = apriori(baskets, supp=40, zmin=2, target='r', conf=80, report='ascl') \n",
    "print('Number of rule:', len(rules))"
   ]
  },
  {
   "cell_type": "code",
   "execution_count": 374,
   "metadata": {},
   "outputs": [
    {
     "name": "stdout",
     "output_type": "stream",
     "text": [
      "Number of rule: 53\n"
     ]
    }
   ],
   "source": [
    "#confidenza del 70%\n",
    "rules = apriori(baskets, supp=40, zmin=2, target='r', conf=70, report='ascl') \n",
    "print('Number of rule:', len(rules))"
   ]
  },
  {
   "cell_type": "code",
   "execution_count": 375,
   "metadata": {},
   "outputs": [
    {
     "name": "stdout",
     "output_type": "stream",
     "text": [
      "Number of rule: 59\n"
     ]
    }
   ],
   "source": [
    "#confidenza del 60%\n",
    "rules = apriori(baskets, supp=40, zmin=2, target='r', conf=60, report='ascl') \n",
    "print('Number of rule:', len(rules))"
   ]
  },
  {
   "cell_type": "code",
   "execution_count": 376,
   "metadata": {},
   "outputs": [
    {
     "data": {
      "text/plain": [
       "('AMERICAN',\n",
       " ('[3620; 6609]', 'AUTO'),\n",
       " 18211,\n",
       " 0.33062217461556614,\n",
       " 0.819392575928009,\n",
       " 0.979873262585555)"
      ]
     },
     "execution_count": 376,
     "metadata": {},
     "output_type": "execute_result"
    }
   ],
   "source": [
    "# primi due = association rules\n",
    "# poi report 'ascl'\n",
    "# a = absolute item set support (number of transactions)\n",
    "# s = relative item set support as a fraction\n",
    "# c = rule confidence as a fraction\n",
    "# l = lift value of a rule (confidence/prior)\n",
    "rules[0]"
   ]
  },
  {
   "cell_type": "markdown",
   "metadata": {},
   "source": [
    "le prime 10 regole con confidence maggiore di 80 e lift maggiore di 1"
   ]
  },
  {
   "cell_type": "code",
   "execution_count": 377,
   "metadata": {},
   "outputs": [
    {
     "name": "stdout",
     "output_type": "stream",
     "text": [
      "(0, ('MEDIUM', 'AUTO'), 20357, 0.3695829777963363, 0.8885251625856575, 1.0114254459862073)\n",
      "('AMERICAN', (1, 0, 'AUTO'), 21558, 0.3913872297162361, 0.8658874563200386, 1.0354743157091628)\n",
      "('AMERICAN', ('[71439; 91679]', 0, 'AUTO'), 19563, 0.35516784372106536, 0.863098914673961, 1.032139629161017)\n",
      "('AMERICAN', (1, 0), 22070, 0.40068263103429497, 0.8600600132496785, 1.0285055490622133)\n",
      "('AMERICAN', ('[71439; 91679]', 'AUTO'), 22598, 0.41026851364354316, 0.8580650060753341, 1.026119813279103)\n",
      "('AMERICAN', (1, 'AUTO'), 26902, 0.48840798097347543, 0.8577349827828084, 1.02572515385714)\n",
      "('AMERICAN', ('[71439; 91679]', 0), 19997, 0.36304714874457616, 0.8565126140403478, 1.0242633802422145)\n",
      "('AMERICAN', (1,), 27562, 0.5003903342350356, 0.851888483649626, 1.0187335989558195)\n",
      "('AMERICAN', ('[71439; 91679]',), 23112, 0.41960022512300066, 0.8517099056603774, 1.0185200458896926)\n",
      "('AUTO', ('[71439; 91679]', 'AMERICAN'), 22598, 0.41026851364354316, 0.9777604707511249, 1.0131501869827626)\n"
     ]
    }
   ],
   "source": [
    "# rule confidence > 0.8\n",
    "# lift value > 1\n",
    "\n",
    "count = 0\n",
    "for r in rules:\n",
    "    if r[5] > 1 and r[4] > 0.8:\n",
    "        rules.sort(key=lambda x: x[5],reverse=True)\n",
    "        print(r)\n",
    "        count += 1\n",
    "        if count == 10:\n",
    "            break"
   ]
  },
  {
   "cell_type": "code",
   "execution_count": 379,
   "metadata": {},
   "outputs": [
    {
     "name": "stdout",
     "output_type": "stream",
     "text": [
      "(0, (2, 'AMERICAN', 'AUTO'), 20775, 0.3771718015286578, 0.9225133214920072, 1.0501148272526504)\n",
      "(0, (2, 'AUTO'), 24778, 0.44984658956809065, 0.9216634429400387, 1.049147393993971)\n",
      "(0, (2, 'AMERICAN'), 21295, 0.38661244349231133, 0.9212233950510469, 1.0486464789370653)\n",
      "(0, (2,), 25680, 0.46622247235888964, 0.9202981651376146, 1.0475932717604561)\n",
      "('AMERICAN', (1, 0, 'AUTO'), 21558, 0.3913872297162361, 0.8658874563200386, 1.0354743157091628)\n",
      "('AMERICAN', ('[71439; 91679]', 0, 'AUTO'), 19563, 0.35516784372106536, 0.863098914673961, 1.032139629161017)\n",
      "('AMERICAN', (1, 0), 22070, 0.40068263103429497, 0.8600600132496785, 1.0285055490622133)\n",
      "('AMERICAN', ('[71439; 91679]', 'AUTO'), 22598, 0.41026851364354316, 0.8580650060753341, 1.026119813279103)\n",
      "('AMERICAN', (1, 'AUTO'), 26902, 0.48840798097347543, 0.8577349827828084, 1.02572515385714)\n",
      "('AMERICAN', ('[71439; 91679]', 0), 19997, 0.36304714874457616, 0.8565126140403478, 1.0242633802422145)\n"
     ]
    }
   ],
   "source": [
    "# rule confidence > 0.7\n",
    "# lift value > 1\n",
    "\n",
    "count = 0\n",
    "for r in rules:\n",
    "    if r[5] > 1 and r[4] > 0.7:\n",
    "        rules.sort(key=lambda x: x[5],reverse=True)\n",
    "        print(r)\n",
    "        count += 1\n",
    "        if count == 10:\n",
    "            break"
   ]
  },
  {
   "cell_type": "code",
   "execution_count": 381,
   "metadata": {},
   "outputs": [
    {
     "name": "stdout",
     "output_type": "stream",
     "text": [
      "(2, ('MEDIUM',), 14826, 0.2691672264483216, 0.6258072685830062, 1.2353099971624342)\n",
      "(2, ('MEDIUM', 'AUTO'), 14312, 0.25983551496886403, 0.6246781022216402, 1.2330810833024)\n",
      "(1, ('[71439; 91679]', 'AMERICAN', 'AUTO'), 14405, 0.26152393747390207, 0.637445791662979, 1.0852182620568878)\n",
      "(1, ('[71439; 91679]', 'AMERICAN'), 14705, 0.2669704616837022, 0.6362495673243337, 1.0831817524198437)\n",
      "(1, ('[71439; 91679]', 'AUTO'), 16668, 0.30260888509649425, 0.6328979343863913, 1.0774757718964214)\n",
      "(1, ('[71439; 91679]',), 17134, 0.3110691527023838, 0.6314121462264151, 1.0749462949340782)\n",
      "(0, (2, 'AMERICAN', 'AUTO'), 20775, 0.3771718015286578, 0.9225133214920072, 1.0501148272526504)\n",
      "(0, (2, 'AUTO'), 24778, 0.44984658956809065, 0.9216634429400387, 1.049147393993971)\n",
      "(0, (2, 'AMERICAN'), 21295, 0.38661244349231133, 0.9212233950510469, 1.0486464789370653)\n",
      "(0, (2,), 25680, 0.46622247235888964, 0.9202981651376146, 1.0475932717604561)\n"
     ]
    }
   ],
   "source": [
    "# rule confidence > 0.6\n",
    "# lift value > 1\n",
    "\n",
    "count = 0\n",
    "for r in rules:\n",
    "    if r[5] > 1 and r[4] > 0.6:\n",
    "        print(r)\n",
    "        count += 1\n",
    "        if count == 10:\n",
    "            break"
   ]
  },
  {
   "cell_type": "code",
   "execution_count": 382,
   "metadata": {
    "scrolled": false
   },
   "outputs": [
    {
     "name": "stdout",
     "output_type": "stream",
     "text": [
      "(1, ('[71439; 91679]', 'AMERICAN', 'AUTO'), 14405, 0.26152393747390207, 0.637445791662979, 1.0852182620568878)\n",
      "(1, ('[71439; 91679]', 'AMERICAN'), 14705, 0.2669704616837022, 0.6362495673243337, 1.0831817524198437)\n",
      "(1, ('[71439; 91679]', 'AUTO'), 16668, 0.30260888509649425, 0.6328979343863913, 1.0774757718964214)\n",
      "(1, ('[71439; 91679]',), 17134, 0.3110691527023838, 0.6314121462264151, 1.0749462949340782)\n"
     ]
    }
   ],
   "source": [
    "# badbuy = 1\n",
    "count = 0\n",
    "for r in rules:\n",
    "    if r[0] == 1:\n",
    "        print(r)\n",
    "        count += 1\n",
    "        if count == 10:\n",
    "            break"
   ]
  },
  {
   "cell_type": "code",
   "execution_count": 383,
   "metadata": {},
   "outputs": [
    {
     "name": "stdout",
     "output_type": "stream",
     "text": [
      "(0, (2, 'AMERICAN', 'AUTO'), 20775, 0.3771718015286578, 0.9225133214920072, 1.0501148272526504)\n",
      "(0, (2, 'AUTO'), 24778, 0.44984658956809065, 0.9216634429400387, 1.049147393993971)\n",
      "(0, (2, 'AMERICAN'), 21295, 0.38661244349231133, 0.9212233950510469, 1.0486464789370653)\n",
      "(0, (2,), 25680, 0.46622247235888964, 0.9202981651376146, 1.0475932717604561)\n",
      "(0, ('MEDIUM', 'AUTO'), 20357, 0.3695829777963363, 0.8885251625856575, 1.0114254459862073)\n",
      "(0, ('MEDIUM',), 21048, 0.3821281385595759, 0.8884386475876915, 1.0113269642840712)\n",
      "(0, ('AMERICAN', 'AUTO'), 39510, 0.7173072384306748, 0.8808578945021626, 1.0026976458434658)\n",
      "(0, ('AMERICAN',), 40568, 0.7365153138105699, 0.8807642205818498, 1.00259101500101)\n",
      "(0, ('AUTO',), 46690, 0.8476607178518909, 0.878341516639389, 0.9998332040591507)\n",
      "(0, ('[3620; 6609]',), 20293, 0.3684210526315789, 0.8707947133539307, 0.991242531335204)\n"
     ]
    }
   ],
   "source": [
    "# badbuy = 0\n",
    "count = 0\n",
    "for r in rules:\n",
    "    if r[0] == 0:\n",
    "        print(r)\n",
    "        count += 1\n",
    "        if count == 10:\n",
    "            break"
   ]
  },
  {
   "cell_type": "code",
   "execution_count": null,
   "metadata": {},
   "outputs": [],
   "source": []
  }
 ],
 "metadata": {
  "kernelspec": {
   "display_name": "Python 3",
   "language": "python",
   "name": "python3"
  },
  "language_info": {
   "codemirror_mode": {
    "name": "ipython",
    "version": 3
   },
   "file_extension": ".py",
   "mimetype": "text/x-python",
   "name": "python",
   "nbconvert_exporter": "python",
   "pygments_lexer": "ipython3",
   "version": "3.7.3"
  }
 },
 "nbformat": 4,
 "nbformat_minor": 2
}
